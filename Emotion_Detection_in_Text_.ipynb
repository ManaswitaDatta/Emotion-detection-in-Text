{
  "nbformat": 4,
  "nbformat_minor": 0,
  "metadata": {
    "colab": {
      "name": "Emotion Detection in Text(2).ipynb",
      "provenance": [],
      "collapsed_sections": [],
      "toc_visible": true
    },
    "kernelspec": {
      "display_name": "Python 3",
      "name": "python3"
    },
    "language_info": {
      "name": "python"
    },
    "accelerator": "GPU"
  },
  "cells": [
    {
      "cell_type": "markdown",
      "metadata": {
        "id": "atStuUFyq1Ts"
      },
      "source": [
        "## Emotion Detection in Text using Deep Learning"
      ]
    },
    {
      "cell_type": "markdown",
      "metadata": {
        "id": "49_hWAZLq_B7"
      },
      "source": [
        "### Data Visualization"
      ]
    },
    {
      "cell_type": "code",
      "metadata": {
        "id": "2lV12Kvvn8qX"
      },
      "source": [
        "import pandas as pd\n",
        "import matplotlib\n",
        "import seaborn as sns\n",
        "from matplotlib import pyplot as plt\n",
        "%matplotlib inline"
      ],
      "execution_count": null,
      "outputs": []
    },
    {
      "cell_type": "code",
      "metadata": {
        "colab": {
          "base_uri": "https://localhost:8080/"
        },
        "id": "Qt33wz0rrDEc",
        "outputId": "2b6eedca-4a02-4034-fc7f-13e77d09a66e"
      },
      "source": [
        "from google.colab import drive\n",
        "drive.mount('/content/drive')"
      ],
      "execution_count": null,
      "outputs": [
        {
          "output_type": "stream",
          "text": [
            "Mounted at /content/drive\n"
          ],
          "name": "stdout"
        }
      ]
    },
    {
      "cell_type": "code",
      "metadata": {
        "colab": {
          "base_uri": "https://localhost:8080/",
          "height": 197
        },
        "id": "b1iO32ryrC5r",
        "outputId": "686faace-fdc9-4bb1-c189-69714d15f03f"
      },
      "source": [
        "# read dataset\n",
        "# we will be using trained dataset to understand how people are reacting\n",
        "data_train = pd.read_csv('/content/drive/MyDrive/it809/data_train.csv', encoding='utf-8')\n",
        "data_test = pd.read_csv('/content/drive/MyDrive/it809/data_test.csv', encoding='utf-8')\n",
        "data = data_train.append(data_test, ignore_index=True)\n",
        "data.head()"
      ],
      "execution_count": null,
      "outputs": [
        {
          "output_type": "execute_result",
          "data": {
            "text/html": [
              "<div>\n",
              "<style scoped>\n",
              "    .dataframe tbody tr th:only-of-type {\n",
              "        vertical-align: middle;\n",
              "    }\n",
              "\n",
              "    .dataframe tbody tr th {\n",
              "        vertical-align: top;\n",
              "    }\n",
              "\n",
              "    .dataframe thead th {\n",
              "        text-align: right;\n",
              "    }\n",
              "</style>\n",
              "<table border=\"1\" class=\"dataframe\">\n",
              "  <thead>\n",
              "    <tr style=\"text-align: right;\">\n",
              "      <th></th>\n",
              "      <th>Emotion</th>\n",
              "      <th>Text</th>\n",
              "    </tr>\n",
              "  </thead>\n",
              "  <tbody>\n",
              "    <tr>\n",
              "      <th>0</th>\n",
              "      <td>neutral</td>\n",
              "      <td>There are tons of other paintings that I thin...</td>\n",
              "    </tr>\n",
              "    <tr>\n",
              "      <th>1</th>\n",
              "      <td>sadness</td>\n",
              "      <td>Yet the dog had grown old and less capable , a...</td>\n",
              "    </tr>\n",
              "    <tr>\n",
              "      <th>2</th>\n",
              "      <td>fear</td>\n",
              "      <td>When I get into the tube or the train without ...</td>\n",
              "    </tr>\n",
              "    <tr>\n",
              "      <th>3</th>\n",
              "      <td>fear</td>\n",
              "      <td>This last may be a source of considerable disq...</td>\n",
              "    </tr>\n",
              "    <tr>\n",
              "      <th>4</th>\n",
              "      <td>anger</td>\n",
              "      <td>She disliked the intimacy he showed towards so...</td>\n",
              "    </tr>\n",
              "  </tbody>\n",
              "</table>\n",
              "</div>"
            ],
            "text/plain": [
              "   Emotion                                               Text\n",
              "0  neutral   There are tons of other paintings that I thin...\n",
              "1  sadness  Yet the dog had grown old and less capable , a...\n",
              "2     fear  When I get into the tube or the train without ...\n",
              "3     fear  This last may be a source of considerable disq...\n",
              "4    anger  She disliked the intimacy he showed towards so..."
            ]
          },
          "metadata": {
            "tags": []
          },
          "execution_count": 3
        }
      ]
    },
    {
      "cell_type": "code",
      "metadata": {
        "colab": {
          "base_uri": "https://localhost:8080/",
          "height": 173
        },
        "id": "aSM_wHd3rCsn",
        "outputId": "5f08aaa9-e2ea-434f-ba86-92dd6710c8d8"
      },
      "source": [
        "#basic stats\n",
        "data.describe()"
      ],
      "execution_count": null,
      "outputs": [
        {
          "output_type": "execute_result",
          "data": {
            "text/html": [
              "<div>\n",
              "<style scoped>\n",
              "    .dataframe tbody tr th:only-of-type {\n",
              "        vertical-align: middle;\n",
              "    }\n",
              "\n",
              "    .dataframe tbody tr th {\n",
              "        vertical-align: top;\n",
              "    }\n",
              "\n",
              "    .dataframe thead th {\n",
              "        text-align: right;\n",
              "    }\n",
              "</style>\n",
              "<table border=\"1\" class=\"dataframe\">\n",
              "  <thead>\n",
              "    <tr style=\"text-align: right;\">\n",
              "      <th></th>\n",
              "      <th>Emotion</th>\n",
              "      <th>Text</th>\n",
              "    </tr>\n",
              "  </thead>\n",
              "  <tbody>\n",
              "    <tr>\n",
              "      <th>count</th>\n",
              "      <td>11327</td>\n",
              "      <td>11327</td>\n",
              "    </tr>\n",
              "    <tr>\n",
              "      <th>unique</th>\n",
              "      <td>5</td>\n",
              "      <td>10272</td>\n",
              "    </tr>\n",
              "    <tr>\n",
              "      <th>top</th>\n",
              "      <td>joy</td>\n",
              "      <td>Yes .</td>\n",
              "    </tr>\n",
              "    <tr>\n",
              "      <th>freq</th>\n",
              "      <td>2326</td>\n",
              "      <td>76</td>\n",
              "    </tr>\n",
              "  </tbody>\n",
              "</table>\n",
              "</div>"
            ],
            "text/plain": [
              "       Emotion     Text\n",
              "count    11327    11327\n",
              "unique       5    10272\n",
              "top        joy   Yes . \n",
              "freq      2326       76"
            ]
          },
          "metadata": {
            "tags": []
          },
          "execution_count": 4
        }
      ]
    },
    {
      "cell_type": "code",
      "metadata": {
        "colab": {
          "base_uri": "https://localhost:8080/"
        },
        "id": "ZXa5B67frCcX",
        "outputId": "5e3f3218-3724-4388-8476-645a91d9dbc0"
      },
      "source": [
        "print(data.Emotion.value_counts())"
      ],
      "execution_count": null,
      "outputs": [
        {
          "output_type": "stream",
          "text": [
            "joy        2326\n",
            "sadness    2317\n",
            "anger      2259\n",
            "neutral    2254\n",
            "fear       2171\n",
            "Name: Emotion, dtype: int64\n"
          ],
          "name": "stdout"
        }
      ]
    },
    {
      "cell_type": "code",
      "metadata": {
        "id": "BGk-od2Drf78"
      },
      "source": [
        "freqs = {\n",
        "\"fear\":2171,\n",
        "\"joy\":2326,\n",
        "\"sadness\":2371,\n",
        "\"neural\":2254,\n",
        "\"anger\":2259}"
      ],
      "execution_count": null,
      "outputs": []
    },
    {
      "cell_type": "code",
      "metadata": {
        "colab": {
          "base_uri": "https://localhost:8080/",
          "height": 357
        },
        "id": "gRgRVT5je50h",
        "outputId": "1b30f3da-1036-4367-cc5e-298024b4e5d9"
      },
      "source": [
        "#plot class distribution\n",
        "plt.rcParams['figure.figsize'] = [13, 5]\n",
        "plt.bar(freqs.keys(), freqs.values(), width=0.3,color='skyblue')\n",
        "t = plt.title(\"CARER Dataset\", fontsize=18)\n",
        "x = plt.xlabel(\"Emotion\", fontsize=13)\n",
        "x.set_color('g')\n",
        "y = plt.ylabel(\"Frequency\", fontsize=13)\n",
        "y.set_color('g')\n",
        "plt.savefig('class_distribution.png')\n",
        "plt.show()"
      ],
      "execution_count": null,
      "outputs": [
        {
          "output_type": "display_data",
          "data": {
            "image/png": "[encoded data removed]",
            "text/plain": [
              "<Figure size 936x360 with 1 Axes>"
            ]
          },
          "metadata": {
            "tags": []
          }
        }
      ]
    },
    {
      "cell_type": "code",
      "metadata": {
        "colab": {
          "base_uri": "https://localhost:8080/"
        },
        "id": "Jccslkhpi5iu",
        "outputId": "9bc4d1a2-6db9-4d8b-b3af-0c07c017452a"
      },
      "source": [
        "# Explore vocabulary\n",
        "import collections\n",
        "from tqdm import tqdm\n",
        "data_text = data[\"Text\"]\n",
        "# Create a counter object for each dataset\n",
        "word_counter = collections.Counter([word for sentence in tqdm(data_text, total=len(data_text)) \\\n",
        "                                                              for word in sentence.split()])\n",
        "\n",
        "print('{} words.'.format(len([word for sentence in data_text for word in sentence.split()])))\n",
        "print('{} unique words.'.format(len(word_counter)))\n",
        "print('10 Most common words in the dataset:')\n",
        "print('\"' + '\" \"'.join(list(zip(*word_counter.most_common(10)))[0]) + '\"')"
      ],
      "execution_count": null,
      "outputs": [
        {
          "output_type": "stream",
          "text": [
            "100%|██████████| 11327/11327 [00:00<00:00, 296780.26it/s]"
          ],
          "name": "stderr"
        },
        {
          "output_type": "stream",
          "text": [
            "193097 words.\n",
            "18150 unique words.\n",
            "10 Most common words in the dataset:\n",
            "\"I\" \".\" \"the\" \"a\" \"to\" \"and\" \"was\" \",\" \"of\" \"my\"\n"
          ],
          "name": "stdout"
        },
        {
          "output_type": "stream",
          "text": [
            "\n"
          ],
          "name": "stderr"
        }
      ]
    },
    {
      "cell_type": "markdown",
      "metadata": {
        "id": "N3wlGrn_fgTi"
      },
      "source": [
        "#### Train Visualization"
      ]
    },
    {
      "cell_type": "code",
      "metadata": {
        "colab": {
          "base_uri": "https://localhost:8080/",
          "height": 173
        },
        "id": "3Qqglj3sffww",
        "outputId": "b9e8cae1-3d7d-4638-ebc1-ebdbe925cef4"
      },
      "source": [
        "#basic stats\n",
        "data_train.describe()"
      ],
      "execution_count": null,
      "outputs": [
        {
          "output_type": "execute_result",
          "data": {
            "text/html": [
              "<div>\n",
              "<style scoped>\n",
              "    .dataframe tbody tr th:only-of-type {\n",
              "        vertical-align: middle;\n",
              "    }\n",
              "\n",
              "    .dataframe tbody tr th {\n",
              "        vertical-align: top;\n",
              "    }\n",
              "\n",
              "    .dataframe thead th {\n",
              "        text-align: right;\n",
              "    }\n",
              "</style>\n",
              "<table border=\"1\" class=\"dataframe\">\n",
              "  <thead>\n",
              "    <tr style=\"text-align: right;\">\n",
              "      <th></th>\n",
              "      <th>Emotion</th>\n",
              "      <th>Text</th>\n",
              "    </tr>\n",
              "  </thead>\n",
              "  <tbody>\n",
              "    <tr>\n",
              "      <th>count</th>\n",
              "      <td>7934</td>\n",
              "      <td>7934</td>\n",
              "    </tr>\n",
              "    <tr>\n",
              "      <th>unique</th>\n",
              "      <td>5</td>\n",
              "      <td>7265</td>\n",
              "    </tr>\n",
              "    <tr>\n",
              "      <th>top</th>\n",
              "      <td>sadness</td>\n",
              "      <td>Yes .</td>\n",
              "    </tr>\n",
              "    <tr>\n",
              "      <th>freq</th>\n",
              "      <td>1641</td>\n",
              "      <td>58</td>\n",
              "    </tr>\n",
              "  </tbody>\n",
              "</table>\n",
              "</div>"
            ],
            "text/plain": [
              "        Emotion     Text\n",
              "count      7934     7934\n",
              "unique        5     7265\n",
              "top     sadness   Yes . \n",
              "freq       1641       58"
            ]
          },
          "metadata": {
            "tags": []
          },
          "execution_count": 15
        }
      ]
    },
    {
      "cell_type": "code",
      "metadata": {
        "colab": {
          "base_uri": "https://localhost:8080/"
        },
        "id": "aNphpbVIfbbK",
        "outputId": "d609f4e0-f9f7-410e-a81e-b2d34a21a6d2"
      },
      "source": [
        "print(data_train.Emotion.value_counts())"
      ],
      "execution_count": null,
      "outputs": [
        {
          "output_type": "stream",
          "text": [
            "sadness    1641\n",
            "joy        1619\n",
            "neutral    1616\n",
            "anger      1566\n",
            "fear       1492\n",
            "Name: Emotion, dtype: int64\n"
          ],
          "name": "stdout"
        }
      ]
    },
    {
      "cell_type": "code",
      "metadata": {
        "id": "ZihljwWifbJi"
      },
      "source": [
        "freqs = {\n",
        "\"fear\":1492,\n",
        "\"joy\":1619,\n",
        "\"sadness\":1641,\n",
        "\"neural\":1616,\n",
        "\"anger\":1566}"
      ],
      "execution_count": null,
      "outputs": []
    },
    {
      "cell_type": "code",
      "metadata": {
        "colab": {
          "base_uri": "https://localhost:8080/",
          "height": 357
        },
        "id": "xGBIxlRcfa7A",
        "outputId": "e3fdd8d2-1b86-4674-f94c-af4891446893"
      },
      "source": [
        "#plot class distribution\n",
        "plt.rcParams['figure.figsize'] = [13, 5]\n",
        "plt.bar(freqs.keys(), freqs.values(), width=0.3,color='skyblue')\n",
        "t = plt.title(\"Train Data\", fontsize=18)\n",
        "x = plt.xlabel(\"Emotion\", fontsize=13)\n",
        "x.set_color('g')\n",
        "y = plt.ylabel(\"Frequency\", fontsize=13)\n",
        "y.set_color('g')\n",
        "plt.savefig('class_distribution.png')\n",
        "plt.show()"
      ],
      "execution_count": null,
      "outputs": [
        {
          "output_type": "display_data",
          "data": {
            "image/png": "[encoded data removed]",
            "text/plain": [
              "<Figure size 936x360 with 1 Axes>"
            ]
          },
          "metadata": {
            "tags": []
          }
        }
      ]
    },
    {
      "cell_type": "code",
      "metadata": {
        "colab": {
          "base_uri": "https://localhost:8080/"
        },
        "id": "8Eo7ZzSYkPe0",
        "outputId": "2a25b9b4-718e-4b25-ae17-9f6708e7cd0e"
      },
      "source": [
        "# Explore vocabulary\n",
        "import collections\n",
        "from tqdm import tqdm\n",
        "data_text = data_train[\"Text\"]\n",
        "# Create a counter object for each dataset\n",
        "word_counter = collections.Counter([word for sentence in tqdm(data_text, total=len(data_text)) \\\n",
        "                                                              for word in sentence.split()])\n",
        "\n",
        "print('{} words.'.format(len([word for sentence in data_text for word in sentence.split()])))\n",
        "print('{} unique words.'.format(len(word_counter)))\n",
        "print('10 Most common words in the dataset:')\n",
        "print('\"' + '\" \"'.join(list(zip(*word_counter.most_common(10)))[0]) + '\"')"
      ],
      "execution_count": null,
      "outputs": [
        {
          "output_type": "stream",
          "text": [
            "100%|██████████| 7934/7934 [00:00<00:00, 373012.99it/s]"
          ],
          "name": "stderr"
        },
        {
          "output_type": "stream",
          "text": [
            "135343 words.\n",
            "14597 unique words.\n",
            "10 Most common words in the dataset:\n",
            "\"I\" \".\" \"the\" \"to\" \"a\" \"and\" \"was\" \",\" \"of\" \"my\"\n"
          ],
          "name": "stdout"
        },
        {
          "output_type": "stream",
          "text": [
            "\n"
          ],
          "name": "stderr"
        }
      ]
    },
    {
      "cell_type": "markdown",
      "metadata": {
        "id": "EgyCRypzhVUK"
      },
      "source": [
        "#### Test Visualization"
      ]
    },
    {
      "cell_type": "code",
      "metadata": {
        "colab": {
          "base_uri": "https://localhost:8080/",
          "height": 173
        },
        "id": "YPmGkwgpfam4",
        "outputId": "ef54627e-9f85-4d44-f116-0855943a15db"
      },
      "source": [
        "#basic stats\n",
        "data_test.describe()"
      ],
      "execution_count": null,
      "outputs": [
        {
          "output_type": "execute_result",
          "data": {
            "text/html": [
              "<div>\n",
              "<style scoped>\n",
              "    .dataframe tbody tr th:only-of-type {\n",
              "        vertical-align: middle;\n",
              "    }\n",
              "\n",
              "    .dataframe tbody tr th {\n",
              "        vertical-align: top;\n",
              "    }\n",
              "\n",
              "    .dataframe thead th {\n",
              "        text-align: right;\n",
              "    }\n",
              "</style>\n",
              "<table border=\"1\" class=\"dataframe\">\n",
              "  <thead>\n",
              "    <tr style=\"text-align: right;\">\n",
              "      <th></th>\n",
              "      <th>Emotion</th>\n",
              "      <th>Text</th>\n",
              "    </tr>\n",
              "  </thead>\n",
              "  <tbody>\n",
              "    <tr>\n",
              "      <th>count</th>\n",
              "      <td>3393</td>\n",
              "      <td>3393</td>\n",
              "    </tr>\n",
              "    <tr>\n",
              "      <th>unique</th>\n",
              "      <td>5</td>\n",
              "      <td>3202</td>\n",
              "    </tr>\n",
              "    <tr>\n",
              "      <th>top</th>\n",
              "      <td>joy</td>\n",
              "      <td>Why ?</td>\n",
              "    </tr>\n",
              "    <tr>\n",
              "      <th>freq</th>\n",
              "      <td>707</td>\n",
              "      <td>21</td>\n",
              "    </tr>\n",
              "  </tbody>\n",
              "</table>\n",
              "</div>"
            ],
            "text/plain": [
              "       Emotion     Text\n",
              "count     3393     3393\n",
              "unique       5     3202\n",
              "top        joy   Why ? \n",
              "freq       707       21"
            ]
          },
          "metadata": {
            "tags": []
          },
          "execution_count": 20
        }
      ]
    },
    {
      "cell_type": "code",
      "metadata": {
        "colab": {
          "base_uri": "https://localhost:8080/"
        },
        "id": "L50dKRxvhkiS",
        "outputId": "9cbe7db8-aa45-498a-e4b5-3e979d4b994a"
      },
      "source": [
        "print(data_test.Emotion.value_counts())"
      ],
      "execution_count": null,
      "outputs": [
        {
          "output_type": "stream",
          "text": [
            "joy        707\n",
            "anger      693\n",
            "fear       679\n",
            "sadness    676\n",
            "neutral    638\n",
            "Name: Emotion, dtype: int64\n"
          ],
          "name": "stdout"
        }
      ]
    },
    {
      "cell_type": "code",
      "metadata": {
        "id": "H11UcKTthwZF"
      },
      "source": [
        "freqs = {\n",
        "\"fear\":679,\n",
        "\"joy\":707,\n",
        "\"sadness\":676,\n",
        "\"neural\":638,\n",
        "\"anger\":693}"
      ],
      "execution_count": null,
      "outputs": []
    },
    {
      "cell_type": "code",
      "metadata": {
        "colab": {
          "base_uri": "https://localhost:8080/",
          "height": 357
        },
        "id": "lmgoILxIiRNA",
        "outputId": "f6f55836-3eef-4754-a5c1-3b4cfb9a0383"
      },
      "source": [
        "#plot class distribution\n",
        "plt.rcParams['figure.figsize'] = [13, 5]\n",
        "plt.bar(freqs.keys(), freqs.values(), width=0.3,color='skyblue')\n",
        "t = plt.title(\"Test Data\", fontsize=18)\n",
        "x = plt.xlabel(\"Emotion\", fontsize=13)\n",
        "x.set_color('g')\n",
        "y = plt.ylabel(\"Frequency\", fontsize=13)\n",
        "y.set_color('g')\n",
        "plt.savefig('class_distribution.png')\n",
        "plt.show()"
      ],
      "execution_count": null,
      "outputs": [
        {
          "output_type": "display_data",
          "data": {
            "image/png": "[encoded data removed]",
            "text/plain": [
              "<Figure size 936x360 with 1 Axes>"
            ]
          },
          "metadata": {
            "tags": []
          }
        }
      ]
    },
    {
      "cell_type": "code",
      "metadata": {
        "colab": {
          "base_uri": "https://localhost:8080/"
        },
        "id": "_i-PPVAekYf0",
        "outputId": "74455c7c-37f7-4dd7-fab2-53410a1002da"
      },
      "source": [
        "# Explore vocabulary\n",
        "import collections\n",
        "from tqdm import tqdm\n",
        "data_text = data_test[\"Text\"]\n",
        "# Create a counter object for each dataset\n",
        "word_counter = collections.Counter([word for sentence in tqdm(data_text, total=len(data_text)) \\\n",
        "                                                              for word in sentence.split()])\n",
        "\n",
        "print('{} words.'.format(len([word for sentence in data_text for word in sentence.split()])))\n",
        "print('{} unique words.'.format(len(word_counter)))\n",
        "print('10 Most common words in the dataset:')\n",
        "print('\"' + '\" \"'.join(list(zip(*word_counter.most_common(10)))[0]) + '\"')"
      ],
      "execution_count": null,
      "outputs": [
        {
          "output_type": "stream",
          "text": [
            "100%|██████████| 3393/3393 [00:00<00:00, 273836.32it/s]"
          ],
          "name": "stderr"
        },
        {
          "output_type": "stream",
          "text": [
            "57754 words.\n",
            "8579 unique words.\n",
            "10 Most common words in the dataset:\n",
            "\"I\" \".\" \"the\" \"a\" \"to\" \"and\" \",\" \"was\" \"of\" \"my\"\n"
          ],
          "name": "stdout"
        },
        {
          "output_type": "stream",
          "text": [
            "\n"
          ],
          "name": "stderr"
        }
      ]
    },
    {
      "cell_type": "markdown",
      "metadata": {
        "id": "_Bxp7M8vi6S7"
      },
      "source": [
        "## Emotion Detection in text using CNN\n"
      ]
    },
    {
      "cell_type": "markdown",
      "metadata": {
        "id": "8KBJZIjWjb9b"
      },
      "source": [
        "## Workflow: \n",
        "1. Import Data\n",
        "2. Prepare the input data\n",
        "3. Import pre-trained W2V\n",
        "4. Create Neural Network Pipeline\n",
        "5. Train The Model\n",
        "6. Evaluate results"
      ]
    },
    {
      "cell_type": "markdown",
      "metadata": {
        "id": "Yi6-PScijmPp"
      },
      "source": [
        "## 1. Import Data"
      ]
    },
    {
      "cell_type": "code",
      "metadata": {
        "id": "2E6MIuimiY7N"
      },
      "source": [
        "import pandas as pd\n",
        "import numpy as np\n",
        "\n",
        "# text preprocessing\n",
        "from nltk.tokenize import word_tokenize\n",
        "import re\n",
        "\n",
        "# plots and metrics\n",
        "import matplotlib.pyplot as plt\n",
        "from sklearn.metrics import accuracy_score, f1_score, confusion_matrix, recall_score, precision_score\n",
        "from keras.optimizers import Nadam\n",
        "\n",
        "# preparing input to our model\n",
        "from keras.preprocessing.text import Tokenizer\n",
        "from keras.preprocessing.sequence import pad_sequences\n",
        "from keras.utils import to_categorical\n",
        "\n",
        "# keras layers\n",
        "from keras.models import Sequential\n",
        "from keras.layers import Embedding, Conv1D, GlobalMaxPooling1D, Dense, MaxPooling1D, BatchNormalization, Dropout"
      ],
      "execution_count": null,
      "outputs": []
    },
    {
      "cell_type": "code",
      "metadata": {
        "id": "yRaFVEsxjqqH"
      },
      "source": [
        "#Defining vector space dimension and fixed input size\n",
        "# Number of labels: joy, anger, fear, sadness, neutral\n",
        "num_classes = 5\n",
        "\n",
        "# Number of dimensions for word embedding\n",
        "embed_num_dims = 300\n",
        "\n",
        "class_names = ['joy', 'fear', 'anger', 'sadness', 'neutral']"
      ],
      "execution_count": null,
      "outputs": []
    },
    {
      "cell_type": "code",
      "metadata": {
        "id": "WZwEkjWDj8x4"
      },
      "source": [
        "#Importing our training and testing datasets\n",
        "data_train = pd.read_csv('/content/drive/MyDrive/it809/data_train.csv', encoding='utf-8')\n",
        "data_test = pd.read_csv('/content/drive/MyDrive/it809/data_test.csv', encoding='utf-8')\n",
        "\n",
        "X_train = data_train.Text\n",
        "X_test = data_test.Text\n",
        "\n",
        "y_train = data_train.Emotion\n",
        "y_test = data_test.Emotion\n",
        "\n",
        "data = data_train.append(data_test, ignore_index=True)"
      ],
      "execution_count": null,
      "outputs": []
    },
    {
      "cell_type": "markdown",
      "metadata": {
        "id": "WZIDd1ZJkMIF"
      },
      "source": [
        "## 2. Prepare input data\n",
        "To input the data to our NN Model we'll need some preprocessing:\n",
        "1. Tokenize our texts and count unique tokens\n",
        "2. Padding: each input (sentence or text) has to be of the same lenght\n",
        "3. Labels have to be converted to integers and categorized"
      ]
    },
    {
      "cell_type": "markdown",
      "metadata": {
        "id": "B-xhCmM5kcqK"
      },
      "source": [
        "Basic preprocessing and tokenization using nltk to double check that sentences are properly split into words.\n",
        "We could also add stopword removal but steps like stemming or lemmatization are not needed since we are using word2vec and words with the same stem can have a different meaning. For example, bat. Bat may mean the animal in horror movies, or the act of hitting a ball to one of America’s darling sports. These two senses, or meanings of bat are assigned to various lexical units."
      ]
    },
    {
      "cell_type": "code",
      "metadata": {
        "colab": {
          "base_uri": "https://localhost:8080/"
        },
        "id": "svsErMyAk1M8",
        "outputId": "ee91b9c4-92ea-4d98-f946-e39c23a14f1d"
      },
      "source": [
        "import nltk\n",
        "nltk.download('punkt')"
      ],
      "execution_count": null,
      "outputs": [
        {
          "output_type": "stream",
          "text": [
            "[nltk_data] Downloading package punkt to /root/nltk_data...\n",
            "[nltk_data]   Unzipping tokenizers/punkt.zip.\n"
          ],
          "name": "stdout"
        },
        {
          "output_type": "execute_result",
          "data": {
            "text/plain": [
              "True"
            ]
          },
          "metadata": {
            "tags": []
          },
          "execution_count": 5
        }
      ]
    },
    {
      "cell_type": "code",
      "metadata": {
        "id": "MnVn6GmXkLtx"
      },
      "source": [
        "def clean_text(data):\n",
        "    \n",
        "    # remove @usernames\n",
        "    data = re.sub(r\"(@[\\d\\w\\.]+)\", '', data)\n",
        "    \n",
        "    # tekenization using nltk\n",
        "    data = word_tokenize(data)\n",
        "    \n",
        "    return data"
      ],
      "execution_count": null,
      "outputs": []
    },
    {
      "cell_type": "code",
      "metadata": {
        "id": "AUWmLEZOklmp"
      },
      "source": [
        "texts = [' '.join(clean_text(text)) for text in data.Text]\n",
        "texts_train = [' '.join(clean_text(text)) for text in X_train]\n",
        "texts_test = [' '.join(clean_text(text)) for text in X_test]"
      ],
      "execution_count": null,
      "outputs": []
    },
    {
      "cell_type": "code",
      "metadata": {
        "colab": {
          "base_uri": "https://localhost:8080/"
        },
        "id": "iUPdxXHyk8b0",
        "outputId": "b7610fd8-5446-489e-cbd9-ea98dc2ef650"
      },
      "source": [
        "print(texts_train[92])"
      ],
      "execution_count": null,
      "outputs": [
        {
          "output_type": "stream",
          "text": [
            "a bit ? I 'm extremely annoyed that he did n't phone me when he promised me that he would ! He 's such a liar .\n"
          ],
          "name": "stdout"
        }
      ]
    },
    {
      "cell_type": "markdown",
      "metadata": {
        "id": "vhQ0s6fflAWq"
      },
      "source": [
        "We preprocess our data a bit so that it's in a format we can input into a neural network. The process includes:\n",
        "\n",
        "1. Remove irrelevant characters (!\"#$%&()*+,-./:;<=>?@[\\\\]^_`{|}~\\t\\n).\n",
        "2. Convert all letters to lowercase (HeLlO -> hello).\n",
        "3. Tokenize our words (hi how are you -> [23, 1, 5, 13]).\n",
        "4. Standaridize our input length with padding (hi how are you -> [23, 1, 5, 13, 0, 0, 0]).\n",
        "\n",
        "We can go further and consider combining misspelled, slang, or different word inflections into single base words. However, the benefit of using a neural network is that they do well with raw input, so we'll stick with what we have listed."
      ]
    },
    {
      "cell_type": "code",
      "metadata": {
        "colab": {
          "base_uri": "https://localhost:8080/"
        },
        "id": "NU6sDG97k8PT",
        "outputId": "0ad734d0-3f0f-40b5-fb2d-b5a880a1d24d"
      },
      "source": [
        "#Tokenization + fitting using keras\n",
        "tokenizer = Tokenizer(num_words=None,\n",
        "                      filters='!\"#$%&()*+,-./:;<=>?@[\\\\]^_`{|}~\\t\\n',\n",
        "                      lower=True,\n",
        "                      split=\" \",\n",
        "                      char_level=False)\n",
        "tokenizer.fit_on_texts(texts)\n",
        "\n",
        "sequence_train = tokenizer.texts_to_sequences(texts_train)\n",
        "sequence_test = tokenizer.texts_to_sequences(texts_test)\n",
        "\n",
        "index_of_words = tokenizer.word_index\n",
        "\n",
        "# vacab size is number of unique words + reserved 0 index for padding\n",
        "vocab_size = len(index_of_words) + 1\n",
        "\n",
        "# Extract variables\n",
        "print('Vocab size: {}'.format(vocab_size))\n",
        "longest = max(len(seq) for seq in sequence_train)\n",
        "print(\"Longest comment size: {}\".format(longest))\n",
        "average = np.mean([len(seq) for seq in sequence_train])\n",
        "print(\"Average comment size: {}\".format(average))\n",
        "stdev = np.std([len(seq) for seq in sequence_train])\n",
        "print(\"Stdev of comment size: {}\".format(stdev))\n",
        "max_len = int(average + stdev * 3)\n",
        "print('Max comment size: {}'.format(max_len))"
      ],
      "execution_count": null,
      "outputs": [
        {
          "output_type": "stream",
          "text": [
            "Vocab size: 12199\n",
            "Longest comment size: 235\n",
            "Average comment size: 16.198008570708343\n",
            "Stdev of comment size: 13.375809032425684\n",
            "Max comment size: 56\n"
          ],
          "name": "stdout"
        }
      ]
    },
    {
      "cell_type": "markdown",
      "metadata": {
        "id": "DHhgh5ZxlQ62"
      },
      "source": [
        "**Padding** -> each input has the same length\n",
        "\n",
        "We defined maximun number of words for our texts and input size to our model has to be fixed - padding with zeros to keep the same input lenght (longest input in our dataset is ~235 words)"
      ]
    },
    {
      "cell_type": "code",
      "metadata": {
        "colab": {
          "base_uri": "https://localhost:8080/"
        },
        "id": "87tWcMeGk8EU",
        "outputId": "27729cdd-6988-47b8-b09e-8442733231bd"
      },
      "source": [
        "X_train_pad = pad_sequences(sequence_train, maxlen = 500 )\n",
        "X_test_pad = pad_sequences(sequence_test, maxlen = 500 )\n",
        "data_t = data_train[\"Text\"]\n",
        "for sample_i, (sent, token_sent) in enumerate(zip(data_t[:2], sequence_train[:2])):\n",
        "    print('Sequence {}'.format(sample_i + 1))\n",
        "    print('  Input:  {}'.format(sent))\n",
        "    print('  Output: {}'.format(token_sent))"
      ],
      "execution_count": null,
      "outputs": [
        {
          "output_type": "stream",
          "text": [
            "Sequence 1\n",
            "  Input:   There are tons of other paintings that I think are better . \n",
            "  Output: [57, 51, 5956, 8, 132, 3306, 11, 1, 119, 51, 345]\n",
            "Sequence 2\n",
            "  Input:  Yet the dog had grown old and less capable , and one day the gillie had come and explained with great sorrow that the dog had suffered a stroke , and must be put down . \n",
            "  Output: [420, 2, 312, 14, 1469, 168, 5, 575, 2372, 5, 45, 75, 2, 5957, 14, 138, 5, 2092, 18, 180, 847, 11, 2, 312, 14, 818, 3, 1713, 5, 284, 37, 277, 154]\n"
          ],
          "name": "stdout"
        }
      ]
    },
    {
      "cell_type": "markdown",
      "metadata": {
        "id": "evAjvfvglapn"
      },
      "source": [
        "**Categorize** labels: "
      ]
    },
    {
      "cell_type": "code",
      "metadata": {
        "id": "9B_nawCnk7yM"
      },
      "source": [
        "encoding = {\n",
        "    'joy': 0,\n",
        "    'fear': 1,\n",
        "    'anger': 2,\n",
        "    'sadness': 3,\n",
        "    'neutral': 4\n",
        "}\n",
        "\n",
        "# Integer labels\n",
        "y_train = [encoding[x] for x in data_train.Emotion]\n",
        "y_test = [encoding[x] for x in data_test.Emotion]"
      ],
      "execution_count": null,
      "outputs": []
    },
    {
      "cell_type": "code",
      "metadata": {
        "colab": {
          "base_uri": "https://localhost:8080/"
        },
        "id": "tQQcfPUTliB3",
        "outputId": "5776d07d-586e-4611-e734-77c9741af0a7"
      },
      "source": [
        "y_train = to_categorical(y_train)\n",
        "y_test = to_categorical(y_test)\n",
        "\n",
        "y_train"
      ],
      "execution_count": null,
      "outputs": [
        {
          "output_type": "execute_result",
          "data": {
            "text/plain": [
              "array([[0., 0., 0., 0., 1.],\n",
              "       [0., 0., 0., 1., 0.],\n",
              "       [0., 1., 0., 0., 0.],\n",
              "       ...,\n",
              "       [0., 0., 0., 1., 0.],\n",
              "       [0., 1., 0., 0., 0.],\n",
              "       [0., 0., 1., 0., 0.]], dtype=float32)"
            ]
          },
          "metadata": {
            "tags": []
          },
          "execution_count": 12
        }
      ]
    },
    {
      "cell_type": "markdown",
      "metadata": {
        "id": "2nu2EXDdlpgX"
      },
      "source": [
        "## 2. Import pretrained word vectors\n",
        "* Importing pretrained word2vec from file and creating embedding matrix\n",
        "* We will later map each word in our corpus to existing word vector"
      ]
    },
    {
      "cell_type": "code",
      "metadata": {
        "id": "77QZhxUnlt51"
      },
      "source": [
        "def create_embedding_matrix(filepath, word_index, embedding_dim):\n",
        "    vocab_size = len(word_index) + 1  # Adding again 1 because of reserved 0 index\n",
        "    embedding_matrix = np.zeros((vocab_size, embedding_dim))\n",
        "    with open(filepath) as f:\n",
        "        for line in f:\n",
        "            word, *vector = line.split()\n",
        "            if word in word_index:\n",
        "                idx = word_index[word] \n",
        "                embedding_matrix[idx] = np.array(\n",
        "                    vector, dtype=np.float32)[:embedding_dim]\n",
        "    return embedding_matrix"
      ],
      "execution_count": null,
      "outputs": []
    },
    {
      "cell_type": "markdown",
      "metadata": {
        "id": "vtoOfYTIl0KQ"
      },
      "source": [
        "You can download and import any pre-trained word embeddings. I will use 300 dimentional w2v pre-trained on wikipedia articles. Download fast text english vectors: https://fasttext.cc/docs/en/english-vectors.html"
      ]
    },
    {
      "cell_type": "code",
      "metadata": {
        "id": "1VefSPvcltoa",
        "colab": {
          "base_uri": "https://localhost:8080/"
        },
        "outputId": "c679722a-2457-4b96-c0ef-f1abb2b8cb78"
      },
      "source": [
        "import urllib.request\n",
        "import zipfile\n",
        "import os\n",
        "\n",
        "fname = 'embeddings/wiki-news-300d-1M.vec'\n",
        "\n",
        "if not os.path.isfile(fname):\n",
        "    print('Downloading word vectors...')\n",
        "    urllib.request.urlretrieve('https://dl.fbaipublicfiles.com/fasttext/vectors-english/wiki-news-300d-1M.vec.zip',\n",
        "                              'wiki-news-300d-1M.vec.zip')\n",
        "    print('Unzipping...')\n",
        "    with zipfile.ZipFile('wiki-news-300d-1M.vec.zip', 'r') as zip_ref:\n",
        "        zip_ref.extractall('embeddings')\n",
        "    print('done.')\n",
        "    \n",
        "    os.remove('wiki-news-300d-1M.vec.zip')"
      ],
      "execution_count": null,
      "outputs": [
        {
          "output_type": "stream",
          "text": [
            "Downloading word vectors...\n",
            "Unzipping...\n",
            "done.\n"
          ],
          "name": "stdout"
        }
      ]
    },
    {
      "cell_type": "code",
      "metadata": {
        "colab": {
          "base_uri": "https://localhost:8080/"
        },
        "id": "dWozTWYlltFh",
        "outputId": "9482560e-1f3b-4f55-8e05-84aa386f027e"
      },
      "source": [
        "embedd_matrix = create_embedding_matrix(fname, index_of_words, embed_num_dims)\n",
        "embedd_matrix.shape"
      ],
      "execution_count": null,
      "outputs": [
        {
          "output_type": "execute_result",
          "data": {
            "text/plain": [
              "(12199, 300)"
            ]
          },
          "metadata": {
            "tags": []
          },
          "execution_count": 15
        }
      ]
    },
    {
      "cell_type": "markdown",
      "metadata": {
        "id": "1uDM8o6FmLhd"
      },
      "source": [
        "Some of the words from our corpus were not included in the pre-trained word vectors. If we inspect those words we'll see that it's mostly spelling errors. "
      ]
    },
    {
      "cell_type": "code",
      "metadata": {
        "colab": {
          "base_uri": "https://localhost:8080/"
        },
        "id": "fOHcnX5xmYfg",
        "outputId": "efe5a70e-53db-45fb-fbd0-a9c0b6f0ef07"
      },
      "source": [
        "# Inspect unseen words\n",
        "new_words = 0\n",
        "\n",
        "for word in index_of_words:\n",
        "    entry = embedd_matrix[index_of_words[word]]\n",
        "    if all(v == 0 for v in entry):\n",
        "        new_words = new_words + 1\n",
        "\n",
        "print('Words found in wiki vocab: ' + str(len(index_of_words) - new_words))\n",
        "print('New words found: ' + str(new_words))"
      ],
      "execution_count": null,
      "outputs": [
        {
          "output_type": "stream",
          "text": [
            "Words found in wiki vocab: 11490\n",
            "New words found: 708\n"
          ],
          "name": "stdout"
        }
      ]
    },
    {
      "cell_type": "markdown",
      "metadata": {
        "id": "bwIbG5pEmcFF"
      },
      "source": [
        "## 3. Create CNN Pipeline\n",
        "### Embedding Layer\n",
        "\n",
        "We will use pre-trained word vectors. We could also train our own embedding layer if we don't specify the pre-trained weights \n",
        "\n",
        "* **vocabulary size:** the maximum number of terms that are used to represent a text: e.g. if we set the size of the “vocabulary” to 1000 only the first thousand terms most frequent in the corpus will be considered (and the other terms will be ignored)\n",
        "* **the maximum length:** of the texts (which must all be the same length)\n",
        "* **size of embeddings:** basically, the more dimensions we have the more precise the semantics will be, but beyond a certain threshold we will lose the ability of the embedding to define a coherent and general enough semantic area\n",
        "* **trainable:** True if you want to fine-tune them while training\n"
      ]
    },
    {
      "cell_type": "code",
      "metadata": {
        "id": "W54cvcM-mldJ"
      },
      "source": [
        "embedd_layer = Embedding(vocab_size,\n",
        "                         embed_num_dims,\n",
        "                         input_length = 500,\n",
        "                         weights = [embedd_matrix],\n",
        "                         trainable=False)"
      ],
      "execution_count": null,
      "outputs": []
    },
    {
      "cell_type": "markdown",
      "metadata": {
        "id": "2k7UprCvmsyR"
      },
      "source": [
        "### Model Pipeline\n",
        "- the input is the first N words of each text (with proper padding)\n",
        "- the first level creates embedding of words, using vocabulary with a certain dimension, and a given size of embeddings\n",
        "- we will use 1D convolutional neural network to extract features from our data. The result of each convolution will fire when a special pattern is detected. By varying the size of the kernels and concatenating their outputs, you’re allowing yourself to detect patterns of multiples sizes (2, 3, or 5 adjacent words)\n",
        "- the output level has a number of neurons equal to the classes of the problem and a “softmax” activation function"
      ]
    },
    {
      "cell_type": "code",
      "metadata": {
        "id": "S3VRnG5LmyT8",
        "colab": {
          "base_uri": "https://localhost:8080/"
        },
        "outputId": "4a883f40-1ada-4acd-a481-3ad777d62154"
      },
      "source": [
        "# Convolution\n",
        "\n",
        "model = Sequential()\n",
        "model.add(embedd_layer)\n",
        "# Add Convolutional layer\n",
        "model.add(Conv1D(filters=32, kernel_size=3, padding='same', activation='relu'))\n",
        "model.add(MaxPooling1D(3))\n",
        "model.add(GlobalMaxPooling1D())\n",
        "model.add(BatchNormalization())\n",
        "\n",
        "# Add fully connected layers\n",
        "model.add(Dense(30, activation='relu'))\n",
        "model.add(Dropout(0.5))\n",
        "model.add(Dense(num_classes, activation='softmax'))\n",
        "\n",
        "# Summarize the model\n",
        "model.summary()"
      ],
      "execution_count": null,
      "outputs": [
        {
          "output_type": "stream",
          "text": [
            "Model: \"sequential_9\"\n",
            "_________________________________________________________________\n",
            "Layer (type)                 Output Shape              Param #   \n",
            "=================================================================\n",
            "embedding (Embedding)        (None, 500, 300)          3659700   \n",
            "_________________________________________________________________\n",
            "conv1d_7 (Conv1D)            (None, 500, 32)           28832     \n",
            "_________________________________________________________________\n",
            "max_pooling1d_7 (MaxPooling1 (None, 166, 32)           0         \n",
            "_________________________________________________________________\n",
            "global_max_pooling1d_7 (Glob (None, 32)                0         \n",
            "_________________________________________________________________\n",
            "batch_normalization_7 (Batch (None, 32)                128       \n",
            "_________________________________________________________________\n",
            "dense_15 (Dense)             (None, 30)                990       \n",
            "_________________________________________________________________\n",
            "dropout_7 (Dropout)          (None, 30)                0         \n",
            "_________________________________________________________________\n",
            "dense_16 (Dense)             (None, 5)                 155       \n",
            "=================================================================\n",
            "Total params: 3,689,805\n",
            "Trainable params: 30,041\n",
            "Non-trainable params: 3,659,764\n",
            "_________________________________________________________________\n"
          ],
          "name": "stdout"
        }
      ]
    },
    {
      "cell_type": "markdown",
      "metadata": {
        "id": "xzgIbLv3rA2M"
      },
      "source": [
        "#### Compile the model\n",
        "We'll be using binary crossentropy as our loss function and clipping our gradients to avoid any explosions."
      ]
    },
    {
      "cell_type": "code",
      "metadata": {
        "id": "QV2fi4jSm1tZ"
      },
      "source": [
        "model.compile(loss = 'categorical_crossentropy', optimizer = Nadam(lr=0.0001, clipnorm=1.0), metrics = ['accuracy'])"
      ],
      "execution_count": null,
      "outputs": []
    },
    {
      "cell_type": "markdown",
      "metadata": {
        "id": "GNHHXWrwm9qs"
      },
      "source": [
        "## 3. Train the Model"
      ]
    },
    {
      "cell_type": "code",
      "metadata": {
        "colab": {
          "base_uri": "https://localhost:8080/"
        },
        "id": "KeQNz9lQ3WBo",
        "outputId": "758d6f6d-2143-4cd8-af6a-e81a06d28c60"
      },
      "source": [
        "batch_size = 64\n",
        "epochs = 30\n",
        "\n",
        "hist = model.fit(X_train_pad, y_train, \n",
        "                 batch_size=batch_size,\n",
        "                 epochs=epochs,\n",
        "                 validation_data=(X_test_pad,y_test))"
      ],
      "execution_count": null,
      "outputs": [
        {
          "output_type": "stream",
          "text": [
            "Epoch 1/30\n",
            "124/124 [==============================] - 27s 204ms/step - loss: 1.9604 - accuracy: 0.2185 - val_loss: 1.5643 - val_accuracy: 0.3207\n",
            "Epoch 2/30\n",
            "124/124 [==============================] - 25s 202ms/step - loss: 1.6443 - accuracy: 0.3077 - val_loss: 1.4782 - val_accuracy: 0.3758\n",
            "Epoch 3/30\n",
            "124/124 [==============================] - 25s 202ms/step - loss: 1.5466 - accuracy: 0.3403 - val_loss: 1.3959 - val_accuracy: 0.4061\n",
            "Epoch 4/30\n",
            "124/124 [==============================] - 25s 203ms/step - loss: 1.4486 - accuracy: 0.3777 - val_loss: 1.3392 - val_accuracy: 0.4318\n",
            "Epoch 5/30\n",
            "124/124 [==============================] - 25s 202ms/step - loss: 1.3914 - accuracy: 0.4060 - val_loss: 1.3039 - val_accuracy: 0.4559\n",
            "Epoch 6/30\n",
            "124/124 [==============================] - 25s 205ms/step - loss: 1.3516 - accuracy: 0.4224 - val_loss: 1.2731 - val_accuracy: 0.4745\n",
            "Epoch 7/30\n",
            "124/124 [==============================] - 26s 206ms/step - loss: 1.2962 - accuracy: 0.4670 - val_loss: 1.2440 - val_accuracy: 0.4999\n",
            "Epoch 8/30\n",
            "124/124 [==============================] - 25s 204ms/step - loss: 1.2707 - accuracy: 0.4659 - val_loss: 1.2169 - val_accuracy: 0.5205\n",
            "Epoch 9/30\n",
            "124/124 [==============================] - 25s 203ms/step - loss: 1.2175 - accuracy: 0.4984 - val_loss: 1.1883 - val_accuracy: 0.5479\n",
            "Epoch 10/30\n",
            "124/124 [==============================] - 25s 204ms/step - loss: 1.1985 - accuracy: 0.5107 - val_loss: 1.1594 - val_accuracy: 0.5653\n",
            "Epoch 11/30\n",
            "124/124 [==============================] - 25s 203ms/step - loss: 1.1751 - accuracy: 0.5145 - val_loss: 1.1336 - val_accuracy: 0.5788\n",
            "Epoch 12/30\n",
            "124/124 [==============================] - 25s 202ms/step - loss: 1.1310 - accuracy: 0.5496 - val_loss: 1.1079 - val_accuracy: 0.5936\n",
            "Epoch 13/30\n",
            "124/124 [==============================] - 25s 204ms/step - loss: 1.0861 - accuracy: 0.5754 - val_loss: 1.0808 - val_accuracy: 0.6054\n",
            "Epoch 14/30\n",
            "124/124 [==============================] - 25s 203ms/step - loss: 1.0562 - accuracy: 0.5925 - val_loss: 1.0616 - val_accuracy: 0.6098\n",
            "Epoch 15/30\n",
            "124/124 [==============================] - 25s 204ms/step - loss: 1.0438 - accuracy: 0.5944 - val_loss: 1.0404 - val_accuracy: 0.6198\n",
            "Epoch 16/30\n",
            "124/124 [==============================] - 25s 203ms/step - loss: 1.0153 - accuracy: 0.6095 - val_loss: 1.0198 - val_accuracy: 0.6322\n",
            "Epoch 17/30\n",
            "124/124 [==============================] - 25s 206ms/step - loss: 1.0110 - accuracy: 0.6117 - val_loss: 1.0050 - val_accuracy: 0.6345\n",
            "Epoch 18/30\n",
            "124/124 [==============================] - 25s 202ms/step - loss: 0.9660 - accuracy: 0.6446 - val_loss: 0.9891 - val_accuracy: 0.6416\n",
            "Epoch 19/30\n",
            "124/124 [==============================] - 25s 201ms/step - loss: 0.9381 - accuracy: 0.6626 - val_loss: 0.9770 - val_accuracy: 0.6425\n",
            "Epoch 20/30\n",
            "124/124 [==============================] - 25s 200ms/step - loss: 0.9412 - accuracy: 0.6497 - val_loss: 0.9674 - val_accuracy: 0.6446\n",
            "Epoch 21/30\n",
            "124/124 [==============================] - 25s 201ms/step - loss: 0.8952 - accuracy: 0.6714 - val_loss: 0.9573 - val_accuracy: 0.6522\n",
            "Epoch 22/30\n",
            "124/124 [==============================] - 25s 201ms/step - loss: 0.8749 - accuracy: 0.6776 - val_loss: 0.9476 - val_accuracy: 0.6546\n",
            "Epoch 23/30\n",
            "124/124 [==============================] - 25s 202ms/step - loss: 0.8677 - accuracy: 0.6832 - val_loss: 0.9414 - val_accuracy: 0.6561\n",
            "Epoch 24/30\n",
            "124/124 [==============================] - 25s 202ms/step - loss: 0.8377 - accuracy: 0.6954 - val_loss: 0.9351 - val_accuracy: 0.6608\n",
            "Epoch 25/30\n",
            "124/124 [==============================] - 25s 203ms/step - loss: 0.8272 - accuracy: 0.6876 - val_loss: 0.9306 - val_accuracy: 0.6605\n",
            "Epoch 26/30\n",
            "124/124 [==============================] - 25s 202ms/step - loss: 0.8020 - accuracy: 0.7140 - val_loss: 0.9250 - val_accuracy: 0.6664\n",
            "Epoch 27/30\n",
            "124/124 [==============================] - 25s 201ms/step - loss: 0.8021 - accuracy: 0.7089 - val_loss: 0.9222 - val_accuracy: 0.6676\n",
            "Epoch 28/30\n",
            "124/124 [==============================] - 25s 202ms/step - loss: 0.7964 - accuracy: 0.7220 - val_loss: 0.9209 - val_accuracy: 0.6714\n",
            "Epoch 29/30\n",
            "124/124 [==============================] - 25s 202ms/step - loss: 0.7746 - accuracy: 0.7266 - val_loss: 0.9156 - val_accuracy: 0.6711\n",
            "Epoch 30/30\n",
            "124/124 [==============================] - 25s 200ms/step - loss: 0.7558 - accuracy: 0.7295 - val_loss: 0.9137 - val_accuracy: 0.6743\n"
          ],
          "name": "stdout"
        }
      ]
    },
    {
      "cell_type": "markdown",
      "metadata": {
        "id": "JzrHX8wAnQAd"
      },
      "source": [
        "## 4. Evaluation"
      ]
    },
    {
      "cell_type": "code",
      "metadata": {
        "id": "g1qrcrSNnRl-"
      },
      "source": [
        "predictions = model.predict(X_test_pad)\n",
        "predictions = np.argmax(predictions, axis=1)\n",
        "predictions = [class_names[pred] for pred in predictions]"
      ],
      "execution_count": null,
      "outputs": []
    },
    {
      "cell_type": "code",
      "metadata": {
        "colab": {
          "base_uri": "https://localhost:8080/"
        },
        "id": "kZN01i5snSLD",
        "outputId": "9fdb4afb-dd03-43d8-a960-67ad140f54d6"
      },
      "source": [
        "print(\"Accuracy: {:.4f}%\".format(accuracy_score(data_test.Emotion, predictions) * 100))\n",
        "print(\"\\nF1 Score: {:.4f}\".format(f1_score(data_test.Emotion, predictions, average='macro') * 100))\n",
        "print(\"\\nRecall Score: {:.4f}\".format(recall_score(data_test.Emotion, predictions, average='macro') * 100))\n",
        "print(\"\\nPrecision Score: {:.4f}\".format(precision_score(data_test.Emotion, predictions, average='macro') * 100))"
      ],
      "execution_count": null,
      "outputs": [
        {
          "output_type": "stream",
          "text": [
            "Accuracy: 67.4330%\n",
            "\n",
            "F1 Score: 67.4156\n",
            "\n",
            "Recall Score: 67.6278\n",
            "\n",
            "Precision Score: 67.3700\n"
          ],
          "name": "stdout"
        }
      ]
    },
    {
      "cell_type": "code",
      "metadata": {
        "colab": {
          "base_uri": "https://localhost:8080/"
        },
        "id": "R1W6M8a64T2n",
        "outputId": "ed0002d5-0272-4c75-fe48-947b0fe9bee5"
      },
      "source": [
        "print(f1_score(data_test.Emotion, predictions, average=None) * 100)\n",
        "print(recall_score(data_test.Emotion, predictions, average=None) * 100)\n",
        "print(precision_score(data_test.Emotion, predictions, average=None) * 100)"
      ],
      "execution_count": null,
      "outputs": [
        {
          "output_type": "stream",
          "text": [
            "[62.46 69.39 65.46 73.99 65.78]\n",
            "[60.03 69.96 63.79 78.68 65.68]\n",
            "[65.1  68.84 67.21 69.82 65.88]\n"
          ],
          "name": "stdout"
        }
      ]
    },
    {
      "cell_type": "markdown",
      "metadata": {
        "id": "ZOFmncZAnaBO"
      },
      "source": [
        "#### Plotting confusion Matrix:"
      ]
    },
    {
      "cell_type": "code",
      "metadata": {
        "id": "NOhevXuIndo7"
      },
      "source": [
        "def plot_confusion_matrix(y_true, y_pred, classes,\n",
        "                          normalize=False,\n",
        "                          title=None,\n",
        "                          cmap=plt.cm.Blues):\n",
        "    '''\n",
        "    This function prints and plots the confusion matrix.\n",
        "    Normalization can be applied by setting `normalize=True`.\n",
        "    '''\n",
        "    if not title:\n",
        "        if normalize:\n",
        "            title = 'Normalized confusion matrix'\n",
        "        else:\n",
        "            title = 'Confusion matrix, without normalization'\n",
        "\n",
        "    # Compute confusion matrix\n",
        "    cm = confusion_matrix(y_true, y_pred)\n",
        "\n",
        "    if normalize:\n",
        "        cm = cm.astype('float') / cm.sum(axis=1)[:, np.newaxis]\n",
        "\n",
        "    fig, ax = plt.subplots()\n",
        "    \n",
        "    # Set size\n",
        "    fig.set_size_inches(12.5, 7.5)\n",
        "    im = ax.imshow(cm, interpolation='nearest', cmap=cmap)\n",
        "    ax.figure.colorbar(im, ax=ax)\n",
        "    ax.grid(False)\n",
        "    \n",
        "    # We want to show all ticks...\n",
        "    ax.set(xticks=np.arange(cm.shape[1]),\n",
        "           yticks=np.arange(cm.shape[0]),\n",
        "           # ... and label them with the respective list entries\n",
        "           xticklabels=classes, yticklabels=classes,\n",
        "           title=title,\n",
        "           ylabel='True label',\n",
        "           xlabel='Predicted label')\n",
        "\n",
        "    # Rotate the tick labels and set their alignment.\n",
        "    plt.setp(ax.get_xticklabels(), rotation=45, ha=\"right\",\n",
        "             rotation_mode=\"anchor\")\n",
        "\n",
        "    # Loop over data dimensions and create text annotations.\n",
        "    fmt = '.2f' if normalize else 'd'\n",
        "    thresh = cm.max() / 2.\n",
        "    for i in range(cm.shape[0]):\n",
        "        for j in range(cm.shape[1]):\n",
        "            ax.text(j, i, format(cm[i, j], fmt),\n",
        "                    ha=\"center\", va=\"center\",\n",
        "                    color=\"white\" if cm[i, j] > thresh else \"black\")\n",
        "    fig.tight_layout()\n",
        "    return ax"
      ],
      "execution_count": null,
      "outputs": []
    },
    {
      "cell_type": "markdown",
      "metadata": {
        "id": "yx8uIHeJnhlJ"
      },
      "source": [
        "#### Let's try other inputs:"
      ]
    },
    {
      "cell_type": "code",
      "metadata": {
        "colab": {
          "base_uri": "https://localhost:8080/"
        },
        "id": "I_bUB95doLqt",
        "outputId": "3002bba5-621f-48e6-a071-796ddfff99a4"
      },
      "source": [
        "import time\n",
        "message = ['I lost my job!']\n",
        "\n",
        "seq = tokenizer.texts_to_sequences(message)\n",
        "padded = pad_sequences(seq, maxlen=500)\n",
        "\n",
        "start_time = time.time()\n",
        "pred = model.predict(padded)\n",
        "\n",
        "print('Message: ' + str(message))\n",
        "print('predicted: {} ({:.2f} seconds)'.format(class_names[np.argmax(pred)], (time.time() - start_time)))"
      ],
      "execution_count": null,
      "outputs": [
        {
          "output_type": "stream",
          "text": [
            "Message: ['I lost my job!']\n",
            "predicted: sadness (0.06 seconds)\n"
          ],
          "name": "stdout"
        }
      ]
    },
    {
      "cell_type": "markdown",
      "metadata": {
        "id": "qdsH_JW8oPzo"
      },
      "source": [
        "### Done\n",
        "Save the model for later use"
      ]
    },
    {
      "cell_type": "code",
      "metadata": {
        "id": "3JzPv17DoVNj"
      },
      "source": [
        "# creates a HDF5 file 'my_model.h5'\n",
        "model.save('models/cnn_w2v.h5')"
      ],
      "execution_count": null,
      "outputs": []
    },
    {
      "cell_type": "code",
      "metadata": {
        "id": "0Pdhdlz6oZIJ"
      },
      "source": [
        "from keras.models import load_model\n",
        "predictor = load_model('models/cnn_w2v.h5')"
      ],
      "execution_count": null,
      "outputs": []
    },
    {
      "cell_type": "markdown",
      "metadata": {
        "id": "BFnlmKaqeo2c"
      },
      "source": [
        "### Hyper parameter tuning for CNN"
      ]
    },
    {
      "cell_type": "code",
      "metadata": {
        "colab": {
          "base_uri": "https://localhost:8080/"
        },
        "id": "MaPXrQUFeoF5",
        "outputId": "ffc2d338-6098-4f7a-a867-a981c20c17f4"
      },
      "source": [
        "# Convolution\n",
        "\n",
        "model = Sequential()\n",
        "model.add(embedd_layer)\n",
        "# Add Convolutional layer\n",
        "model.add(Conv1D(filters=32, kernel_size=3, padding='same', activation='relu'))\n",
        "model.add(MaxPooling1D(3))\n",
        "model.add(GlobalMaxPooling1D())\n",
        "model.add(BatchNormalization())\n",
        "\n",
        "# Add fully connected layers\n",
        "model.add(Dense(30, activation='relu'))\n",
        "model.add(Dropout(0.5))\n",
        "model.add(Dense(num_classes, activation='softmax'))\n",
        "\n",
        "# Summarize the model\n",
        "model.summary()"
      ],
      "execution_count": null,
      "outputs": [
        {
          "output_type": "stream",
          "text": [
            "Model: \"sequential_8\"\n",
            "_________________________________________________________________\n",
            "Layer (type)                 Output Shape              Param #   \n",
            "=================================================================\n",
            "embedding (Embedding)        (None, 500, 300)          3659700   \n",
            "_________________________________________________________________\n",
            "conv1d_6 (Conv1D)            (None, 500, 32)           28832     \n",
            "_________________________________________________________________\n",
            "max_pooling1d_6 (MaxPooling1 (None, 166, 32)           0         \n",
            "_________________________________________________________________\n",
            "global_max_pooling1d_6 (Glob (None, 32)                0         \n",
            "_________________________________________________________________\n",
            "batch_normalization_6 (Batch (None, 32)                128       \n",
            "_________________________________________________________________\n",
            "dense_13 (Dense)             (None, 30)                990       \n",
            "_________________________________________________________________\n",
            "dropout_6 (Dropout)          (None, 30)                0         \n",
            "_________________________________________________________________\n",
            "dense_14 (Dense)             (None, 5)                 155       \n",
            "=================================================================\n",
            "Total params: 3,689,805\n",
            "Trainable params: 30,041\n",
            "Non-trainable params: 3,659,764\n",
            "_________________________________________________________________\n"
          ],
          "name": "stdout"
        }
      ]
    },
    {
      "cell_type": "code",
      "metadata": {
        "id": "HZfRv254e6MY"
      },
      "source": [
        "model.compile(loss = 'categorical_crossentropy', optimizer = Nadam(lr=0.0001, clipnorm=1.0), metrics = ['accuracy'])"
      ],
      "execution_count": null,
      "outputs": []
    },
    {
      "cell_type": "code",
      "metadata": {
        "colab": {
          "base_uri": "https://localhost:8080/"
        },
        "id": "nzUAXDQyfUlZ",
        "outputId": "ae49fe8e-1e67-4e8f-e9de-855448b78d8a"
      },
      "source": [
        "batch_size = 32\n",
        "epochs = 30\n",
        "\n",
        "hist = model.fit(X_train_pad, y_train, \n",
        "                 batch_size=batch_size,\n",
        "                 epochs=epochs,\n",
        "                 validation_data=(X_test_pad,y_test))"
      ],
      "execution_count": null,
      "outputs": [
        {
          "output_type": "stream",
          "text": [
            "Epoch 1/30\n",
            "248/248 [==============================] - 28s 107ms/step - loss: 1.9725 - accuracy: 0.2064 - val_loss: 1.5173 - val_accuracy: 0.3581\n",
            "Epoch 2/30\n",
            "248/248 [==============================] - 26s 106ms/step - loss: 1.5960 - accuracy: 0.3428 - val_loss: 1.3819 - val_accuracy: 0.4082\n",
            "Epoch 3/30\n",
            "248/248 [==============================] - 26s 105ms/step - loss: 1.4648 - accuracy: 0.3837 - val_loss: 1.3149 - val_accuracy: 0.4427\n",
            "Epoch 4/30\n",
            "248/248 [==============================] - 26s 105ms/step - loss: 1.3865 - accuracy: 0.4190 - val_loss: 1.2658 - val_accuracy: 0.4783\n",
            "Epoch 5/30\n",
            "248/248 [==============================] - 26s 104ms/step - loss: 1.3053 - accuracy: 0.4568 - val_loss: 1.2248 - val_accuracy: 0.5025\n",
            "Epoch 6/30\n",
            "248/248 [==============================] - 26s 104ms/step - loss: 1.2855 - accuracy: 0.4810 - val_loss: 1.1820 - val_accuracy: 0.5323\n",
            "Epoch 7/30\n",
            "248/248 [==============================] - 26s 104ms/step - loss: 1.1777 - accuracy: 0.5243 - val_loss: 1.1418 - val_accuracy: 0.5606\n",
            "Epoch 8/30\n",
            "248/248 [==============================] - 26s 105ms/step - loss: 1.1522 - accuracy: 0.5324 - val_loss: 1.1079 - val_accuracy: 0.5830\n",
            "Epoch 9/30\n",
            "248/248 [==============================] - 26s 107ms/step - loss: 1.1089 - accuracy: 0.5698 - val_loss: 1.0703 - val_accuracy: 0.5992\n",
            "Epoch 10/30\n",
            "248/248 [==============================] - 26s 106ms/step - loss: 1.0726 - accuracy: 0.5925 - val_loss: 1.0432 - val_accuracy: 0.6142\n",
            "Epoch 11/30\n",
            "248/248 [==============================] - 26s 105ms/step - loss: 1.0443 - accuracy: 0.5933 - val_loss: 1.0166 - val_accuracy: 0.6236\n",
            "Epoch 12/30\n",
            "248/248 [==============================] - 26s 106ms/step - loss: 0.9950 - accuracy: 0.6202 - val_loss: 0.9923 - val_accuracy: 0.6357\n",
            "Epoch 13/30\n",
            "248/248 [==============================] - 26s 106ms/step - loss: 0.9653 - accuracy: 0.6441 - val_loss: 0.9722 - val_accuracy: 0.6463\n",
            "Epoch 14/30\n",
            "248/248 [==============================] - 26s 106ms/step - loss: 0.9556 - accuracy: 0.6401 - val_loss: 0.9561 - val_accuracy: 0.6502\n",
            "Epoch 15/30\n",
            "248/248 [==============================] - 26s 107ms/step - loss: 0.9272 - accuracy: 0.6543 - val_loss: 0.9434 - val_accuracy: 0.6537\n",
            "Epoch 16/30\n",
            "248/248 [==============================] - 26s 106ms/step - loss: 0.9156 - accuracy: 0.6594 - val_loss: 0.9285 - val_accuracy: 0.6593\n",
            "Epoch 17/30\n",
            "248/248 [==============================] - 26s 106ms/step - loss: 0.8639 - accuracy: 0.6777 - val_loss: 0.9236 - val_accuracy: 0.6649\n",
            "Epoch 18/30\n",
            "248/248 [==============================] - 26s 106ms/step - loss: 0.8623 - accuracy: 0.6768 - val_loss: 0.9159 - val_accuracy: 0.6696\n",
            "Epoch 19/30\n",
            "248/248 [==============================] - 26s 107ms/step - loss: 0.8297 - accuracy: 0.7006 - val_loss: 0.9075 - val_accuracy: 0.6729\n",
            "Epoch 20/30\n",
            "248/248 [==============================] - 26s 106ms/step - loss: 0.8152 - accuracy: 0.7064 - val_loss: 0.9039 - val_accuracy: 0.6761\n",
            "Epoch 21/30\n",
            "248/248 [==============================] - 26s 107ms/step - loss: 0.7878 - accuracy: 0.7204 - val_loss: 0.8999 - val_accuracy: 0.6785\n",
            "Epoch 22/30\n",
            "248/248 [==============================] - 26s 107ms/step - loss: 0.7505 - accuracy: 0.7307 - val_loss: 0.8985 - val_accuracy: 0.6826\n",
            "Epoch 23/30\n",
            "248/248 [==============================] - 26s 106ms/step - loss: 0.7528 - accuracy: 0.7419 - val_loss: 0.8963 - val_accuracy: 0.6823\n",
            "Epoch 24/30\n",
            "248/248 [==============================] - 27s 108ms/step - loss: 0.7433 - accuracy: 0.7335 - val_loss: 0.8944 - val_accuracy: 0.6838\n",
            "Epoch 25/30\n",
            "248/248 [==============================] - 27s 107ms/step - loss: 0.7156 - accuracy: 0.7437 - val_loss: 0.8941 - val_accuracy: 0.6858\n",
            "Epoch 26/30\n",
            "248/248 [==============================] - 27s 107ms/step - loss: 0.7173 - accuracy: 0.7452 - val_loss: 0.8949 - val_accuracy: 0.6876\n",
            "Epoch 27/30\n",
            "248/248 [==============================] - 26s 107ms/step - loss: 0.6963 - accuracy: 0.7581 - val_loss: 0.8960 - val_accuracy: 0.6882\n",
            "Epoch 28/30\n",
            "248/248 [==============================] - 26s 107ms/step - loss: 0.6940 - accuracy: 0.7594 - val_loss: 0.8975 - val_accuracy: 0.6882\n",
            "Epoch 29/30\n",
            "248/248 [==============================] - 26s 107ms/step - loss: 0.6534 - accuracy: 0.7689 - val_loss: 0.8981 - val_accuracy: 0.6829\n",
            "Epoch 30/30\n",
            "248/248 [==============================] - 27s 107ms/step - loss: 0.6529 - accuracy: 0.7761 - val_loss: 0.8970 - val_accuracy: 0.6841\n"
          ],
          "name": "stdout"
        }
      ]
    },
    {
      "cell_type": "code",
      "metadata": {
        "id": "1NFiqxbSokcM"
      },
      "source": [
        "predictions = model.predict(X_test_pad)\n",
        "predictions = np.argmax(predictions, axis=1)\n",
        "predictions = [class_names[pred] for pred in predictions]"
      ],
      "execution_count": null,
      "outputs": []
    },
    {
      "cell_type": "code",
      "metadata": {
        "colab": {
          "base_uri": "https://localhost:8080/"
        },
        "id": "xxbdPdbOh5c8",
        "outputId": "a4287538-f44d-4c97-a5bf-5948355d131b"
      },
      "source": [
        "print(\"Accuracy: {:.4f}%\".format(accuracy_score(data_test.Emotion, predictions) * 100))\n",
        "print(\"\\nF1 Score: {:.4f}\".format(f1_score(data_test.Emotion, predictions, average='macro') * 100))\n",
        "print(\"\\nRecall Score: {:.4f}\".format(recall_score(data_test.Emotion, predictions, average='macro') * 100))\n",
        "print(\"\\nPrecision Score: {:.4f}\".format(precision_score(data_test.Emotion, predictions, average='macro') * 100))"
      ],
      "execution_count": null,
      "outputs": [
        {
          "output_type": "stream",
          "text": [
            "Accuracy: 68.8771%\n",
            "\n",
            "F1 Score: 68.9556\n",
            "\n",
            "Recall Score: 68.9783\n",
            "\n",
            "Precision Score: 69.0014\n"
          ],
          "name": "stdout"
        }
      ]
    },
    {
      "cell_type": "code",
      "metadata": {
        "colab": {
          "base_uri": "https://localhost:8080/"
        },
        "id": "Gje0ZicaiV6y",
        "outputId": "c8753d96-677b-4fc1-9856-8bf552b6a628"
      },
      "source": [
        "print(f1_score(data_test.Emotion, predictions, average=None) * 100)\n",
        "print(recall_score(data_test.Emotion, predictions, average=None) * 100)\n",
        "print(precision_score(data_test.Emotion, predictions, average=None) * 100)"
      ],
      "execution_count": null,
      "outputs": [
        {
          "output_type": "stream",
          "text": [
            "[63.68 71.85 69.8  73.89 65.55]\n",
            "[63.49 69.37 69.31 75.86 66.86]\n",
            "[63.86 74.53 70.3  72.02 64.3 ]\n"
          ],
          "name": "stdout"
        }
      ]
    },
    {
      "cell_type": "code",
      "metadata": {
        "id": "J9mj5rKUhZFr"
      },
      "source": [
        "model.save('models/h1_cnn_w2v.h5')"
      ],
      "execution_count": null,
      "outputs": []
    },
    {
      "cell_type": "code",
      "metadata": {
        "colab": {
          "base_uri": "https://localhost:8080/"
        },
        "id": "3-2z1Nvbpd9p",
        "outputId": "89ff98b7-2265-42f8-c61c-d996c49aa962"
      },
      "source": [
        "# Convolution\n",
        "\n",
        "model = Sequential()\n",
        "model.add(embedd_layer)\n",
        "# Add Convolutional layer\n",
        "model.add(Conv1D(filters=64, kernel_size=3, padding='same', activation='relu'))\n",
        "model.add(MaxPooling1D(3))\n",
        "model.add(GlobalMaxPooling1D())\n",
        "model.add(BatchNormalization())\n",
        "\n",
        "# Add fully connected layers\n",
        "model.add(Dense(30, activation='relu'))\n",
        "model.add(Dropout(0.5))\n",
        "model.add(Dense(num_classes, activation='softmax'))\n",
        "\n",
        "# Summarize the model\n",
        "model.summary()"
      ],
      "execution_count": null,
      "outputs": [
        {
          "output_type": "stream",
          "text": [
            "Model: \"sequential_6\"\n",
            "_________________________________________________________________\n",
            "Layer (type)                 Output Shape              Param #   \n",
            "=================================================================\n",
            "embedding (Embedding)        (None, 500, 300)          3659700   \n",
            "_________________________________________________________________\n",
            "conv1d_4 (Conv1D)            (None, 500, 64)           57664     \n",
            "_________________________________________________________________\n",
            "max_pooling1d_4 (MaxPooling1 (None, 166, 64)           0         \n",
            "_________________________________________________________________\n",
            "global_max_pooling1d_4 (Glob (None, 64)                0         \n",
            "_________________________________________________________________\n",
            "batch_normalization_4 (Batch (None, 64)                256       \n",
            "_________________________________________________________________\n",
            "dense_9 (Dense)              (None, 30)                1950      \n",
            "_________________________________________________________________\n",
            "dropout_4 (Dropout)          (None, 30)                0         \n",
            "_________________________________________________________________\n",
            "dense_10 (Dense)             (None, 5)                 155       \n",
            "=================================================================\n",
            "Total params: 3,719,725\n",
            "Trainable params: 59,897\n",
            "Non-trainable params: 3,659,828\n",
            "_________________________________________________________________\n"
          ],
          "name": "stdout"
        }
      ]
    },
    {
      "cell_type": "code",
      "metadata": {
        "id": "E_WNYtxRpl4T"
      },
      "source": [
        "model.compile(loss = 'categorical_crossentropy', optimizer = Nadam(lr=0.0001, clipnorm=1.0), metrics = ['accuracy'])"
      ],
      "execution_count": null,
      "outputs": []
    },
    {
      "cell_type": "code",
      "metadata": {
        "colab": {
          "base_uri": "https://localhost:8080/"
        },
        "id": "BpKtoyE6pnmz",
        "outputId": "2d4b34cd-d05e-4b90-b785-f3a26c3ef431"
      },
      "source": [
        "batch_size = 32\n",
        "epochs = 30\n",
        "\n",
        "hist = model.fit(X_train_pad, y_train, \n",
        "                 batch_size=batch_size,\n",
        "                 epochs=epochs,\n",
        "                 validation_data=(X_test_pad,y_test))"
      ],
      "execution_count": null,
      "outputs": [
        {
          "output_type": "stream",
          "text": [
            "Epoch 1/30\n",
            "248/248 [==============================] - 35s 135ms/step - loss: 1.9427 - accuracy: 0.2679 - val_loss: 1.4490 - val_accuracy: 0.3873\n",
            "Epoch 2/30\n",
            "248/248 [==============================] - 33s 134ms/step - loss: 1.5442 - accuracy: 0.3540 - val_loss: 1.3243 - val_accuracy: 0.4409\n",
            "Epoch 3/30\n",
            "248/248 [==============================] - 33s 134ms/step - loss: 1.3881 - accuracy: 0.4309 - val_loss: 1.2546 - val_accuracy: 0.4934\n",
            "Epoch 4/30\n",
            "248/248 [==============================] - 33s 135ms/step - loss: 1.2918 - accuracy: 0.4700 - val_loss: 1.1878 - val_accuracy: 0.5373\n",
            "Epoch 5/30\n",
            "248/248 [==============================] - 34s 135ms/step - loss: 1.2030 - accuracy: 0.5103 - val_loss: 1.1313 - val_accuracy: 0.5641\n",
            "Epoch 6/30\n",
            "248/248 [==============================] - 34s 136ms/step - loss: 1.1316 - accuracy: 0.5480 - val_loss: 1.0733 - val_accuracy: 0.5883\n",
            "Epoch 7/30\n",
            "248/248 [==============================] - 33s 135ms/step - loss: 1.0719 - accuracy: 0.5922 - val_loss: 1.0331 - val_accuracy: 0.6048\n",
            "Epoch 8/30\n",
            "248/248 [==============================] - 33s 135ms/step - loss: 1.0224 - accuracy: 0.6111 - val_loss: 0.9962 - val_accuracy: 0.6195\n",
            "Epoch 9/30\n",
            "248/248 [==============================] - 33s 134ms/step - loss: 0.9622 - accuracy: 0.6356 - val_loss: 0.9717 - val_accuracy: 0.6322\n",
            "Epoch 10/30\n",
            "248/248 [==============================] - 33s 134ms/step - loss: 0.9262 - accuracy: 0.6544 - val_loss: 0.9478 - val_accuracy: 0.6398\n",
            "Epoch 11/30\n",
            "248/248 [==============================] - 33s 134ms/step - loss: 0.9018 - accuracy: 0.6653 - val_loss: 0.9312 - val_accuracy: 0.6466\n",
            "Epoch 12/30\n",
            "248/248 [==============================] - 33s 134ms/step - loss: 0.8574 - accuracy: 0.6741 - val_loss: 0.9213 - val_accuracy: 0.6508\n",
            "Epoch 13/30\n",
            "248/248 [==============================] - 33s 134ms/step - loss: 0.8094 - accuracy: 0.7039 - val_loss: 0.9098 - val_accuracy: 0.6625\n",
            "Epoch 14/30\n",
            "248/248 [==============================] - 33s 134ms/step - loss: 0.7940 - accuracy: 0.7130 - val_loss: 0.9005 - val_accuracy: 0.6687\n",
            "Epoch 15/30\n",
            "248/248 [==============================] - 33s 134ms/step - loss: 0.7637 - accuracy: 0.7274 - val_loss: 0.8926 - val_accuracy: 0.6726\n",
            "Epoch 16/30\n",
            "248/248 [==============================] - 33s 134ms/step - loss: 0.7472 - accuracy: 0.7375 - val_loss: 0.8882 - val_accuracy: 0.6743\n",
            "Epoch 17/30\n",
            "248/248 [==============================] - 33s 134ms/step - loss: 0.7246 - accuracy: 0.7373 - val_loss: 0.8907 - val_accuracy: 0.6779\n",
            "Epoch 18/30\n",
            "248/248 [==============================] - 33s 134ms/step - loss: 0.6917 - accuracy: 0.7610 - val_loss: 0.8840 - val_accuracy: 0.6732\n",
            "Epoch 19/30\n",
            "248/248 [==============================] - 33s 134ms/step - loss: 0.6719 - accuracy: 0.7655 - val_loss: 0.8818 - val_accuracy: 0.6838\n",
            "Epoch 20/30\n",
            "248/248 [==============================] - 33s 134ms/step - loss: 0.6264 - accuracy: 0.7834 - val_loss: 0.8815 - val_accuracy: 0.6814\n",
            "Epoch 21/30\n",
            "248/248 [==============================] - 33s 134ms/step - loss: 0.6322 - accuracy: 0.7797 - val_loss: 0.8869 - val_accuracy: 0.6820\n",
            "Epoch 22/30\n",
            "248/248 [==============================] - 33s 134ms/step - loss: 0.6214 - accuracy: 0.7762 - val_loss: 0.8984 - val_accuracy: 0.6835\n",
            "Epoch 23/30\n",
            "248/248 [==============================] - 33s 134ms/step - loss: 0.5981 - accuracy: 0.7924 - val_loss: 0.8892 - val_accuracy: 0.6829\n",
            "Epoch 24/30\n",
            "248/248 [==============================] - 33s 134ms/step - loss: 0.5658 - accuracy: 0.8091 - val_loss: 0.8976 - val_accuracy: 0.6873\n",
            "Epoch 25/30\n",
            "248/248 [==============================] - 33s 134ms/step - loss: 0.5578 - accuracy: 0.8067 - val_loss: 0.8994 - val_accuracy: 0.6846\n",
            "Epoch 26/30\n",
            "248/248 [==============================] - 33s 134ms/step - loss: 0.5452 - accuracy: 0.8177 - val_loss: 0.8999 - val_accuracy: 0.6897\n",
            "Epoch 27/30\n",
            "248/248 [==============================] - 33s 134ms/step - loss: 0.5054 - accuracy: 0.8249 - val_loss: 0.9148 - val_accuracy: 0.6897\n",
            "Epoch 28/30\n",
            "248/248 [==============================] - 33s 134ms/step - loss: 0.4893 - accuracy: 0.8316 - val_loss: 0.9144 - val_accuracy: 0.6935\n",
            "Epoch 29/30\n",
            "248/248 [==============================] - 33s 135ms/step - loss: 0.5089 - accuracy: 0.8241 - val_loss: 0.9228 - val_accuracy: 0.6917\n",
            "Epoch 30/30\n",
            "248/248 [==============================] - 33s 135ms/step - loss: 0.4732 - accuracy: 0.8421 - val_loss: 0.9238 - val_accuracy: 0.6923\n"
          ],
          "name": "stdout"
        }
      ]
    },
    {
      "cell_type": "code",
      "metadata": {
        "id": "8TnhFcMjqOvB"
      },
      "source": [
        "predictions = model.predict(X_test_pad)\n",
        "predictions = np.argmax(predictions, axis=1)\n",
        "predictions = [class_names[pred] for pred in predictions]"
      ],
      "execution_count": null,
      "outputs": []
    },
    {
      "cell_type": "code",
      "metadata": {
        "colab": {
          "base_uri": "https://localhost:8080/"
        },
        "id": "XGyJYJyhqT-J",
        "outputId": "aabe20ab-a4f4-4e98-f4bf-078dcdcdc8e6"
      },
      "source": [
        "print(\"Accuracy: {:.4f}%\".format(accuracy_score(data_test.Emotion, predictions) * 100))\n",
        "print(\"\\nF1 Score: {:.4f}\".format(f1_score(data_test.Emotion, predictions, average='macro') * 100))\n",
        "print(\"\\nRecall Score: {:.4f}\".format(recall_score(data_test.Emotion, predictions, average='macro') * 100))\n",
        "print(\"\\nPrecision Score: {:.4f}\".format(precision_score(data_test.Emotion, predictions, average='macro') * 100))"
      ],
      "execution_count": null,
      "outputs": [
        {
          "output_type": "stream",
          "text": [
            "Accuracy: 69.2308%\n",
            "\n",
            "F1 Score: 69.2933\n",
            "\n",
            "Recall Score: 69.3322\n",
            "\n",
            "Precision Score: 69.2960\n"
          ],
          "name": "stdout"
        }
      ]
    },
    {
      "cell_type": "code",
      "metadata": {
        "colab": {
          "base_uri": "https://localhost:8080/"
        },
        "id": "RExk8pApqZEA",
        "outputId": "fe12ac61-3e2b-42af-adf7-69253dae4079"
      },
      "source": [
        "print(f1_score(data_test.Emotion, predictions, average=None) * 100)\n",
        "print(recall_score(data_test.Emotion, predictions, average=None) * 100)\n",
        "print(precision_score(data_test.Emotion, predictions, average=None) * 100)"
      ],
      "execution_count": null,
      "outputs": [
        {
          "output_type": "stream",
          "text": [
            "[63.23 70.91 72.09 75.   65.24]\n",
            "[63.64 69.66 70.86 77.12 65.38]\n",
            "[62.82 72.21 73.35 73.   65.1 ]\n"
          ],
          "name": "stdout"
        }
      ]
    },
    {
      "cell_type": "code",
      "metadata": {
        "id": "3WviR3vNdkZR"
      },
      "source": [
        "model.save('models/h2_cnn_w2v.h5')"
      ],
      "execution_count": null,
      "outputs": []
    },
    {
      "cell_type": "code",
      "metadata": {
        "colab": {
          "base_uri": "https://localhost:8080/"
        },
        "id": "2Dw-rc3zc4Ks",
        "outputId": "7c5db7fd-af4a-4578-9fc0-1b1c666f511a"
      },
      "source": [
        "# Convolution\n",
        "\n",
        "model = Sequential()\n",
        "model.add(embedd_layer)\n",
        "# Add Convolutional layer\n",
        "model.add(Conv1D(filters=64, kernel_size=3, padding='same', activation='relu'))\n",
        "model.add(MaxPooling1D(3))\n",
        "model.add(GlobalMaxPooling1D())\n",
        "model.add(BatchNormalization())\n",
        "\n",
        "# Add fully connected layers\n",
        "model.add(Dense(30, activation='relu'))\n",
        "model.add(Dropout(0.5))\n",
        "model.add(Dense(num_classes, activation='softmax'))\n",
        "\n",
        "# Summarize the model\n",
        "model.summary()"
      ],
      "execution_count": null,
      "outputs": [
        {
          "output_type": "stream",
          "text": [
            "Model: \"sequential_5\"\n",
            "_________________________________________________________________\n",
            "Layer (type)                 Output Shape              Param #   \n",
            "=================================================================\n",
            "embedding (Embedding)        (None, 500, 300)          3659700   \n",
            "_________________________________________________________________\n",
            "conv1d_3 (Conv1D)            (None, 500, 64)           57664     \n",
            "_________________________________________________________________\n",
            "max_pooling1d_3 (MaxPooling1 (None, 166, 64)           0         \n",
            "_________________________________________________________________\n",
            "global_max_pooling1d_3 (Glob (None, 64)                0         \n",
            "_________________________________________________________________\n",
            "batch_normalization_3 (Batch (None, 64)                256       \n",
            "_________________________________________________________________\n",
            "dense_7 (Dense)              (None, 30)                1950      \n",
            "_________________________________________________________________\n",
            "dropout_3 (Dropout)          (None, 30)                0         \n",
            "_________________________________________________________________\n",
            "dense_8 (Dense)              (None, 5)                 155       \n",
            "=================================================================\n",
            "Total params: 3,719,725\n",
            "Trainable params: 59,897\n",
            "Non-trainable params: 3,659,828\n",
            "_________________________________________________________________\n"
          ],
          "name": "stdout"
        }
      ]
    },
    {
      "cell_type": "code",
      "metadata": {
        "id": "8rRvKr0Pc85S"
      },
      "source": [
        "model.compile(loss = 'categorical_crossentropy', optimizer = Nadam(lr=0.0001, clipnorm=1.0), metrics = ['accuracy'])"
      ],
      "execution_count": null,
      "outputs": []
    },
    {
      "cell_type": "code",
      "metadata": {
        "colab": {
          "base_uri": "https://localhost:8080/"
        },
        "id": "Mgxx58-yncQR",
        "outputId": "e02b6b4a-9de3-4777-bcb4-4619ce2fb628"
      },
      "source": [
        "batch_size = 64\n",
        "epochs = 30\n",
        "\n",
        "hist = model.fit(X_train_pad, y_train, \n",
        "                 batch_size=batch_size,\n",
        "                 epochs=epochs,\n",
        "                 validation_data=(X_test_pad,y_test))"
      ],
      "execution_count": null,
      "outputs": [
        {
          "output_type": "stream",
          "text": [
            "Epoch 1/30\n",
            "124/124 [==============================] - 34s 260ms/step - loss: 2.0437 - accuracy: 0.2206 - val_loss: 1.5474 - val_accuracy: 0.3513\n",
            "Epoch 2/30\n",
            "124/124 [==============================] - 32s 258ms/step - loss: 1.5958 - accuracy: 0.3362 - val_loss: 1.4452 - val_accuracy: 0.4079\n",
            "Epoch 3/30\n",
            "124/124 [==============================] - 32s 259ms/step - loss: 1.4389 - accuracy: 0.3908 - val_loss: 1.3413 - val_accuracy: 0.4565\n",
            "Epoch 4/30\n",
            "124/124 [==============================] - 32s 257ms/step - loss: 1.3504 - accuracy: 0.4395 - val_loss: 1.2604 - val_accuracy: 0.4884\n",
            "Epoch 5/30\n",
            "124/124 [==============================] - 32s 258ms/step - loss: 1.2726 - accuracy: 0.4824 - val_loss: 1.1964 - val_accuracy: 0.5302\n",
            "Epoch 6/30\n",
            "124/124 [==============================] - 32s 259ms/step - loss: 1.1929 - accuracy: 0.5192 - val_loss: 1.1455 - val_accuracy: 0.5570\n",
            "Epoch 7/30\n",
            "124/124 [==============================] - 32s 259ms/step - loss: 1.1463 - accuracy: 0.5459 - val_loss: 1.0996 - val_accuracy: 0.5756\n",
            "Epoch 8/30\n",
            "124/124 [==============================] - 32s 260ms/step - loss: 1.1074 - accuracy: 0.5661 - val_loss: 1.0610 - val_accuracy: 0.5995\n",
            "Epoch 9/30\n",
            "124/124 [==============================] - 32s 259ms/step - loss: 1.0677 - accuracy: 0.5877 - val_loss: 1.0276 - val_accuracy: 0.6083\n",
            "Epoch 10/30\n",
            "124/124 [==============================] - 32s 258ms/step - loss: 0.9977 - accuracy: 0.6219 - val_loss: 1.0049 - val_accuracy: 0.6236\n",
            "Epoch 11/30\n",
            "124/124 [==============================] - 32s 257ms/step - loss: 0.9704 - accuracy: 0.6326 - val_loss: 0.9841 - val_accuracy: 0.6284\n",
            "Epoch 12/30\n",
            "124/124 [==============================] - 32s 257ms/step - loss: 0.9370 - accuracy: 0.6547 - val_loss: 0.9614 - val_accuracy: 0.6357\n",
            "Epoch 13/30\n",
            "124/124 [==============================] - 32s 258ms/step - loss: 0.9035 - accuracy: 0.6604 - val_loss: 0.9470 - val_accuracy: 0.6390\n",
            "Epoch 14/30\n",
            "124/124 [==============================] - 32s 257ms/step - loss: 0.8989 - accuracy: 0.6700 - val_loss: 0.9349 - val_accuracy: 0.6410\n",
            "Epoch 15/30\n",
            "124/124 [==============================] - 32s 258ms/step - loss: 0.8513 - accuracy: 0.6900 - val_loss: 0.9214 - val_accuracy: 0.6540\n",
            "Epoch 16/30\n",
            "124/124 [==============================] - 32s 257ms/step - loss: 0.8195 - accuracy: 0.7045 - val_loss: 0.9103 - val_accuracy: 0.6561\n",
            "Epoch 17/30\n",
            "124/124 [==============================] - 32s 257ms/step - loss: 0.8105 - accuracy: 0.7040 - val_loss: 0.9046 - val_accuracy: 0.6564\n",
            "Epoch 18/30\n",
            "124/124 [==============================] - 32s 257ms/step - loss: 0.7792 - accuracy: 0.7129 - val_loss: 0.8964 - val_accuracy: 0.6620\n",
            "Epoch 19/30\n",
            "124/124 [==============================] - 32s 258ms/step - loss: 0.7607 - accuracy: 0.7345 - val_loss: 0.8937 - val_accuracy: 0.6646\n",
            "Epoch 20/30\n",
            "124/124 [==============================] - 32s 257ms/step - loss: 0.7357 - accuracy: 0.7373 - val_loss: 0.8884 - val_accuracy: 0.6681\n",
            "Epoch 21/30\n",
            "124/124 [==============================] - 32s 257ms/step - loss: 0.7230 - accuracy: 0.7454 - val_loss: 0.8838 - val_accuracy: 0.6711\n",
            "Epoch 22/30\n",
            "124/124 [==============================] - 32s 257ms/step - loss: 0.7069 - accuracy: 0.7519 - val_loss: 0.8824 - val_accuracy: 0.6690\n",
            "Epoch 23/30\n",
            "124/124 [==============================] - 32s 257ms/step - loss: 0.6725 - accuracy: 0.7637 - val_loss: 0.8832 - val_accuracy: 0.6758\n",
            "Epoch 24/30\n",
            "124/124 [==============================] - 32s 258ms/step - loss: 0.6609 - accuracy: 0.7684 - val_loss: 0.8823 - val_accuracy: 0.6773\n",
            "Epoch 25/30\n",
            "124/124 [==============================] - 32s 257ms/step - loss: 0.6533 - accuracy: 0.7642 - val_loss: 0.8769 - val_accuracy: 0.6776\n",
            "Epoch 26/30\n",
            "124/124 [==============================] - 32s 256ms/step - loss: 0.6423 - accuracy: 0.7823 - val_loss: 0.8771 - val_accuracy: 0.6767\n",
            "Epoch 27/30\n",
            "124/124 [==============================] - 32s 256ms/step - loss: 0.6145 - accuracy: 0.7871 - val_loss: 0.8789 - val_accuracy: 0.6799\n",
            "Epoch 28/30\n",
            "124/124 [==============================] - 32s 256ms/step - loss: 0.6105 - accuracy: 0.7923 - val_loss: 0.8818 - val_accuracy: 0.6820\n",
            "Epoch 29/30\n",
            "124/124 [==============================] - 32s 256ms/step - loss: 0.5851 - accuracy: 0.7977 - val_loss: 0.8828 - val_accuracy: 0.6823\n",
            "Epoch 30/30\n",
            "124/124 [==============================] - 32s 256ms/step - loss: 0.5678 - accuracy: 0.8025 - val_loss: 0.8845 - val_accuracy: 0.6829\n"
          ],
          "name": "stdout"
        }
      ]
    },
    {
      "cell_type": "code",
      "metadata": {
        "id": "YIZ-vz9mc8QX"
      },
      "source": [
        "predictions = model.predict(X_test_pad)\n",
        "predictions = np.argmax(predictions, axis=1)\n",
        "predictions = [class_names[pred] for pred in predictions]"
      ],
      "execution_count": null,
      "outputs": []
    },
    {
      "cell_type": "code",
      "metadata": {
        "colab": {
          "base_uri": "https://localhost:8080/"
        },
        "id": "yHgcdjikc77N",
        "outputId": "20608064-ceb9-4871-b8f1-5b37fabeab63"
      },
      "source": [
        "print(\"Accuracy: {:.4f}%\".format(accuracy_score(data_test.Emotion, predictions) * 100))\n",
        "print(\"\\nF1 Score: {:.4f}\".format(f1_score(data_test.Emotion, predictions, average='macro') * 100))\n",
        "print(\"\\nRecall Score: {:.4f}\".format(recall_score(data_test.Emotion, predictions, average='macro') * 100))\n",
        "print(\"\\nPrecision Score: {:.4f}\".format(precision_score(data_test.Emotion, predictions, average='macro') * 100))"
      ],
      "execution_count": null,
      "outputs": [
        {
          "output_type": "stream",
          "text": [
            "Accuracy: 68.2877%\n",
            "\n",
            "F1 Score: 68.3315\n",
            "\n",
            "Recall Score: 68.3778\n",
            "\n",
            "Precision Score: 68.3294\n"
          ],
          "name": "stdout"
        }
      ]
    },
    {
      "cell_type": "code",
      "metadata": {
        "colab": {
          "base_uri": "https://localhost:8080/"
        },
        "id": "MU_AIA2Lc7nb",
        "outputId": "b757aad2-a4d2-47ad-d581-c86db2fb220a"
      },
      "source": [
        "print(f1_score(data_test.Emotion, predictions, average=None) * 100)\n",
        "print(recall_score(data_test.Emotion, predictions, average=None) * 100)\n",
        "print(precision_score(data_test.Emotion, predictions, average=None) * 100)"
      ],
      "execution_count": null,
      "outputs": [
        {
          "output_type": "stream",
          "text": [
            "[63.71 69.03 70.45 75.15 63.31]\n",
            "[64.36 67.3  71.15 76.8  62.28]\n",
            "[63.08 70.85 69.76 73.57 64.37]\n"
          ],
          "name": "stdout"
        }
      ]
    },
    {
      "cell_type": "code",
      "metadata": {
        "id": "Of1Pa2uUc7Po"
      },
      "source": [
        "model.save('models/h3_cnn_w2v.h5')"
      ],
      "execution_count": null,
      "outputs": []
    },
    {
      "cell_type": "code",
      "metadata": {
        "colab": {
          "base_uri": "https://localhost:8080/"
        },
        "id": "BYAeHTAbgywc",
        "outputId": "5a6abb29-e5a8-470d-cc3a-dc40390c3d34"
      },
      "source": [
        "# Convolution\n",
        "\n",
        "model = Sequential()\n",
        "model.add(embedd_layer)\n",
        "# Add Convolutional layer\n",
        "model.add(Conv1D(filters=64, kernel_size=3, padding='same', activation='relu'))\n",
        "model.add(MaxPooling1D(3))\n",
        "model.add(GlobalMaxPooling1D())\n",
        "model.add(BatchNormalization())\n",
        "\n",
        "# Add fully connected layers\n",
        "model.add(Dense(20, activation='relu'))\n",
        "model.add(Dropout(0.5))\n",
        "model.add(Dense(num_classes, activation='softmax'))\n",
        "\n",
        "# Summarize the model\n",
        "model.summary()"
      ],
      "execution_count": null,
      "outputs": [
        {
          "output_type": "stream",
          "text": [
            "Model: \"sequential_15\"\n",
            "_________________________________________________________________\n",
            "Layer (type)                 Output Shape              Param #   \n",
            "=================================================================\n",
            "embedding (Embedding)        (None, 500, 300)          3659700   \n",
            "_________________________________________________________________\n",
            "conv1d_13 (Conv1D)           (None, 500, 64)           57664     \n",
            "_________________________________________________________________\n",
            "max_pooling1d_13 (MaxPooling (None, 166, 64)           0         \n",
            "_________________________________________________________________\n",
            "global_max_pooling1d_13 (Glo (None, 64)                0         \n",
            "_________________________________________________________________\n",
            "batch_normalization_13 (Batc (None, 64)                256       \n",
            "_________________________________________________________________\n",
            "dense_27 (Dense)             (None, 20)                1300      \n",
            "_________________________________________________________________\n",
            "dropout_13 (Dropout)         (None, 20)                0         \n",
            "_________________________________________________________________\n",
            "dense_28 (Dense)             (None, 5)                 105       \n",
            "=================================================================\n",
            "Total params: 3,719,025\n",
            "Trainable params: 59,197\n",
            "Non-trainable params: 3,659,828\n",
            "_________________________________________________________________\n"
          ],
          "name": "stdout"
        }
      ]
    },
    {
      "cell_type": "code",
      "metadata": {
        "id": "cEgvB1GHgPZM"
      },
      "source": [
        "model.compile(loss = 'categorical_crossentropy', optimizer = Nadam(lr=0.0001, clipnorm=1.0), metrics = ['accuracy'])"
      ],
      "execution_count": null,
      "outputs": []
    },
    {
      "cell_type": "code",
      "metadata": {
        "colab": {
          "base_uri": "https://localhost:8080/"
        },
        "id": "AjntXMMjgPBB",
        "outputId": "a6a983c8-06f0-4c57-8b3d-1e9b9ee3f6c2"
      },
      "source": [
        "batch_size = 32\n",
        "epochs = 30\n",
        "\n",
        "hist = model.fit(X_train_pad, y_train, \n",
        "                 batch_size=batch_size,\n",
        "                 epochs=epochs,\n",
        "                 validation_data=(X_test_pad,y_test))"
      ],
      "execution_count": null,
      "outputs": [
        {
          "output_type": "stream",
          "text": [
            "Epoch 1/30\n",
            "248/248 [==============================] - 35s 135ms/step - loss: 2.0185 - accuracy: 0.2419 - val_loss: 1.4805 - val_accuracy: 0.3578\n",
            "Epoch 2/30\n",
            "248/248 [==============================] - 33s 134ms/step - loss: 1.5868 - accuracy: 0.3375 - val_loss: 1.3781 - val_accuracy: 0.4038\n",
            "Epoch 3/30\n",
            "248/248 [==============================] - 33s 134ms/step - loss: 1.4430 - accuracy: 0.3763 - val_loss: 1.3285 - val_accuracy: 0.4430\n",
            "Epoch 4/30\n",
            "248/248 [==============================] - 33s 134ms/step - loss: 1.3499 - accuracy: 0.4170 - val_loss: 1.2799 - val_accuracy: 0.4810\n",
            "Epoch 5/30\n",
            "248/248 [==============================] - 33s 134ms/step - loss: 1.2730 - accuracy: 0.4617 - val_loss: 1.2259 - val_accuracy: 0.5175\n",
            "Epoch 6/30\n",
            "248/248 [==============================] - 33s 134ms/step - loss: 1.2273 - accuracy: 0.5004 - val_loss: 1.1792 - val_accuracy: 0.5420\n",
            "Epoch 7/30\n",
            "248/248 [==============================] - 33s 134ms/step - loss: 1.1776 - accuracy: 0.5213 - val_loss: 1.1303 - val_accuracy: 0.5806\n",
            "Epoch 8/30\n",
            "248/248 [==============================] - 33s 134ms/step - loss: 1.1155 - accuracy: 0.5661 - val_loss: 1.0885 - val_accuracy: 0.6060\n",
            "Epoch 9/30\n",
            "248/248 [==============================] - 33s 134ms/step - loss: 1.0832 - accuracy: 0.5739 - val_loss: 1.0490 - val_accuracy: 0.6180\n",
            "Epoch 10/30\n",
            "248/248 [==============================] - 33s 134ms/step - loss: 1.0268 - accuracy: 0.5957 - val_loss: 1.0132 - val_accuracy: 0.6316\n",
            "Epoch 11/30\n",
            "248/248 [==============================] - 33s 134ms/step - loss: 0.9891 - accuracy: 0.6197 - val_loss: 0.9836 - val_accuracy: 0.6437\n",
            "Epoch 12/30\n",
            "248/248 [==============================] - 33s 135ms/step - loss: 0.9697 - accuracy: 0.6390 - val_loss: 0.9632 - val_accuracy: 0.6496\n",
            "Epoch 13/30\n",
            "248/248 [==============================] - 33s 135ms/step - loss: 0.9158 - accuracy: 0.6588 - val_loss: 0.9428 - val_accuracy: 0.6522\n",
            "Epoch 14/30\n",
            "248/248 [==============================] - 34s 136ms/step - loss: 0.9089 - accuracy: 0.6633 - val_loss: 0.9327 - val_accuracy: 0.6566\n",
            "Epoch 15/30\n",
            "248/248 [==============================] - 34s 136ms/step - loss: 0.8912 - accuracy: 0.6651 - val_loss: 0.9136 - val_accuracy: 0.6670\n",
            "Epoch 16/30\n",
            "248/248 [==============================] - 34s 136ms/step - loss: 0.8504 - accuracy: 0.6828 - val_loss: 0.9027 - val_accuracy: 0.6732\n",
            "Epoch 17/30\n",
            "248/248 [==============================] - 34s 136ms/step - loss: 0.8563 - accuracy: 0.6786 - val_loss: 0.8935 - val_accuracy: 0.6740\n",
            "Epoch 18/30\n",
            "248/248 [==============================] - 34s 136ms/step - loss: 0.7987 - accuracy: 0.6964 - val_loss: 0.8905 - val_accuracy: 0.6734\n",
            "Epoch 19/30\n",
            "248/248 [==============================] - 34s 137ms/step - loss: 0.7887 - accuracy: 0.7062 - val_loss: 0.8854 - val_accuracy: 0.6805\n",
            "Epoch 20/30\n",
            "248/248 [==============================] - 34s 137ms/step - loss: 0.7612 - accuracy: 0.7309 - val_loss: 0.8825 - val_accuracy: 0.6841\n",
            "Epoch 21/30\n",
            "248/248 [==============================] - 34s 137ms/step - loss: 0.7418 - accuracy: 0.7298 - val_loss: 0.8779 - val_accuracy: 0.6788\n",
            "Epoch 22/30\n",
            "248/248 [==============================] - 34s 138ms/step - loss: 0.7278 - accuracy: 0.7379 - val_loss: 0.8783 - val_accuracy: 0.6820\n",
            "Epoch 23/30\n",
            "248/248 [==============================] - 34s 137ms/step - loss: 0.7335 - accuracy: 0.7385 - val_loss: 0.8780 - val_accuracy: 0.6823\n",
            "Epoch 24/30\n",
            "248/248 [==============================] - 34s 137ms/step - loss: 0.6995 - accuracy: 0.7447 - val_loss: 0.8743 - val_accuracy: 0.6908\n",
            "Epoch 25/30\n",
            "248/248 [==============================] - 34s 136ms/step - loss: 0.6636 - accuracy: 0.7647 - val_loss: 0.8736 - val_accuracy: 0.6858\n",
            "Epoch 26/30\n",
            "248/248 [==============================] - 34s 136ms/step - loss: 0.6778 - accuracy: 0.7497 - val_loss: 0.8798 - val_accuracy: 0.6897\n",
            "Epoch 27/30\n",
            "248/248 [==============================] - 34s 136ms/step - loss: 0.6789 - accuracy: 0.7590 - val_loss: 0.8769 - val_accuracy: 0.6888\n",
            "Epoch 28/30\n",
            "248/248 [==============================] - 34s 137ms/step - loss: 0.6184 - accuracy: 0.7769 - val_loss: 0.8816 - val_accuracy: 0.6926\n",
            "Epoch 29/30\n",
            "248/248 [==============================] - 34s 137ms/step - loss: 0.6156 - accuracy: 0.7744 - val_loss: 0.8876 - val_accuracy: 0.6938\n",
            "Epoch 30/30\n",
            "248/248 [==============================] - 34s 136ms/step - loss: 0.6276 - accuracy: 0.7773 - val_loss: 0.8861 - val_accuracy: 0.6926\n"
          ],
          "name": "stdout"
        }
      ]
    },
    {
      "cell_type": "code",
      "metadata": {
        "id": "lAnIOU8WgOcg"
      },
      "source": [
        "predictions = model.predict(X_test_pad)\n",
        "predictions = np.argmax(predictions, axis=1)\n",
        "predictions = [class_names[pred] for pred in predictions]"
      ],
      "execution_count": null,
      "outputs": []
    },
    {
      "cell_type": "code",
      "metadata": {
        "colab": {
          "base_uri": "https://localhost:8080/"
        },
        "id": "00CB5bPbgj9S",
        "outputId": "21fe14eb-7e84-426e-e3d0-b6073f79c5c3"
      },
      "source": [
        "print(\"Accuracy: {:.4f}%\".format(accuracy_score(data_test.Emotion, predictions) * 100))\n",
        "print(\"\\nF1 Score: {:.4f}\".format(f1_score(data_test.Emotion, predictions, average='macro') * 100))\n",
        "print(\"\\nRecall Score: {:.4f}\".format(recall_score(data_test.Emotion, predictions, average='macro') * 100))\n",
        "print(\"\\nPrecision Score: {:.4f}\".format(precision_score(data_test.Emotion, predictions, average='macro') * 100))"
      ],
      "execution_count": null,
      "outputs": [
        {
          "output_type": "stream",
          "text": [
            "Accuracy: 69.2602%\n",
            "\n",
            "F1 Score: 69.2615\n",
            "\n",
            "Recall Score: 69.3646\n",
            "\n",
            "Precision Score: 69.2811\n"
          ],
          "name": "stdout"
        }
      ]
    },
    {
      "cell_type": "code",
      "metadata": {
        "colab": {
          "base_uri": "https://localhost:8080/"
        },
        "id": "v7lziqglgnn_",
        "outputId": "55dacd37-2de2-4626-ce98-87751d74da2f"
      },
      "source": [
        "print(f1_score(data_test.Emotion, predictions, average=None) * 100)\n",
        "print(recall_score(data_test.Emotion, predictions, average=None) * 100)\n",
        "print(precision_score(data_test.Emotion, predictions, average=None) * 100)"
      ],
      "execution_count": null,
      "outputs": [
        {
          "output_type": "stream",
          "text": [
            "[65.5  70.33 70.22 74.85 65.41]\n",
            "[64.65 67.89 71.71 78.37 64.2 ]\n",
            "[66.37 72.94 68.79 71.63 66.67]\n"
          ],
          "name": "stdout"
        }
      ]
    },
    {
      "cell_type": "code",
      "metadata": {
        "colab": {
          "base_uri": "https://localhost:8080/",
          "height": 573
        },
        "id": "zSplqlRr49at",
        "outputId": "cb206934-3972-45b6-dff9-35134b92104b"
      },
      "source": [
        "# Accuracy plot\n",
        "plt.plot(hist.history['accuracy'])\n",
        "plt.plot(hist.history['val_accuracy'])\n",
        "plt.title('model accuracy')\n",
        "plt.ylabel('accuracy')\n",
        "plt.xlabel('epoch')\n",
        "plt.legend(['train', 'test'], loc='upper left')\n",
        "plt.show()\n",
        "\n",
        "# Loss plot\n",
        "plt.plot(hist.history['loss'])\n",
        "plt.plot(hist.history['val_loss'])\n",
        "plt.title('model loss')\n",
        "plt.ylabel('loss')\n",
        "plt.xlabel('epoch')\n",
        "plt.legend(['train', 'test'], loc='upper left')\n",
        "plt.show()"
      ],
      "execution_count": null,
      "outputs": [
        {
          "output_type": "display_data",
          "data": {
            "image/png": "[encoded data removed]",
            "text/plain": [
              "<Figure size 432x288 with 1 Axes>"
            ]
          },
          "metadata": {
            "tags": [],
            "needs_background": "light"
          }
        },
        {
          "output_type": "display_data",
          "data": {
            "image/png": "[encoded data removed]",
            "text/plain": [
              "<Figure size 432x288 with 1 Axes>"
            ]
          },
          "metadata": {
            "tags": [],
            "needs_background": "light"
          }
        }
      ]
    },
    {
      "cell_type": "code",
      "metadata": {
        "colab": {
          "base_uri": "https://localhost:8080/",
          "height": 1000
        },
        "id": "zpkhheJRqdTZ",
        "outputId": "fd21bad8-1c53-4813-9c27-d1f779cced41"
      },
      "source": [
        "np.set_printoptions(precision=2)\n",
        "\n",
        "# Plot non-normalized confusion matrix\n",
        "plot_confusion_matrix(data_test.Emotion, predictions, classes=class_names, title='Confusion matrix, without normalization')\n",
        "\n",
        "# Plot normalized confusion matrix\n",
        "plot_confusion_matrix(data_test.Emotion, predictions, classes=class_names, normalize=True, title='Normalized confusion matrix')\n",
        "\n",
        "plt.show()"
      ],
      "execution_count": null,
      "outputs": [
        {
          "output_type": "display_data",
          "data": {
            "image/png": "[encoded data removed]",
            "text/plain": [
              "<Figure size 900x540 with 2 Axes>"
            ]
          },
          "metadata": {
            "tags": [],
            "needs_background": "light"
          }
        },
        {
          "output_type": "display_data",
          "data": {
            "image/png": "[encoded data removed]",
            "text/plain": [
              "<Figure size 900x540 with 2 Axes>"
            ]
          },
          "metadata": {
            "tags": [],
            "needs_background": "light"
          }
        }
      ]
    },
    {
      "cell_type": "code",
      "metadata": {
        "id": "DvwZNnyegqt1"
      },
      "source": [
        "model.save('models/h4_cnn_w2v.h5')"
      ],
      "execution_count": null,
      "outputs": []
    },
    {
      "cell_type": "code",
      "metadata": {
        "colab": {
          "base_uri": "https://localhost:8080/"
        },
        "id": "A1WZM9sKejMw",
        "outputId": "4ade50eb-c6fb-41e2-aaac-c2b6efd5e61f"
      },
      "source": [
        "# Convolution\n",
        "\n",
        "model = Sequential()\n",
        "model.add(embedd_layer)\n",
        "# Add Convolutional layer\n",
        "model.add(Conv1D(filters=64, kernel_size=3, padding='same', activation='relu'))\n",
        "model.add(MaxPooling1D(2))\n",
        "model.add(GlobalMaxPooling1D())\n",
        "model.add(BatchNormalization())\n",
        "\n",
        "# Add fully connected layers\n",
        "model.add(Dense(20, activation='relu'))\n",
        "model.add(Dropout(0.6))\n",
        "model.add(Dense(num_classes, activation='softmax'))\n",
        "\n",
        "# Summarize the model\n",
        "model.summary()"
      ],
      "execution_count": null,
      "outputs": [
        {
          "output_type": "stream",
          "text": [
            "Model: \"sequential_21\"\n",
            "_________________________________________________________________\n",
            "Layer (type)                 Output Shape              Param #   \n",
            "=================================================================\n",
            "embedding (Embedding)        (None, 500, 300)          3659700   \n",
            "_________________________________________________________________\n",
            "conv1d_19 (Conv1D)           (None, 500, 64)           57664     \n",
            "_________________________________________________________________\n",
            "max_pooling1d_19 (MaxPooling (None, 250, 64)           0         \n",
            "_________________________________________________________________\n",
            "global_max_pooling1d_19 (Glo (None, 64)                0         \n",
            "_________________________________________________________________\n",
            "batch_normalization_19 (Batc (None, 64)                256       \n",
            "_________________________________________________________________\n",
            "dense_39 (Dense)             (None, 20)                1300      \n",
            "_________________________________________________________________\n",
            "dropout_19 (Dropout)         (None, 20)                0         \n",
            "_________________________________________________________________\n",
            "dense_40 (Dense)             (None, 5)                 105       \n",
            "=================================================================\n",
            "Total params: 3,719,025\n",
            "Trainable params: 59,197\n",
            "Non-trainable params: 3,659,828\n",
            "_________________________________________________________________\n"
          ],
          "name": "stdout"
        }
      ]
    },
    {
      "cell_type": "code",
      "metadata": {
        "id": "W4MATOONen_i"
      },
      "source": [
        "model.compile(loss = 'categorical_crossentropy', optimizer = Nadam(lr=0.0001, clipnorm=1.0), metrics = ['accuracy'])"
      ],
      "execution_count": null,
      "outputs": []
    },
    {
      "cell_type": "code",
      "metadata": {
        "colab": {
          "base_uri": "https://localhost:8080/"
        },
        "id": "gPfCUU6GensF",
        "outputId": "f34c5071-6fe2-4785-f5c0-404d7930c716"
      },
      "source": [
        "batch_size = 32\n",
        "epochs = 30\n",
        "\n",
        "hist = model.fit(X_train_pad, y_train, \n",
        "                 batch_size=batch_size,\n",
        "                 epochs=epochs,\n",
        "                 validation_data=(X_test_pad,y_test))"
      ],
      "execution_count": null,
      "outputs": [
        {
          "output_type": "stream",
          "text": [
            "Epoch 1/30\n",
            "248/248 [==============================] - 36s 138ms/step - loss: 2.2207 - accuracy: 0.2141 - val_loss: 1.5201 - val_accuracy: 0.3711\n",
            "Epoch 2/30\n",
            "248/248 [==============================] - 34s 138ms/step - loss: 1.6402 - accuracy: 0.3237 - val_loss: 1.3372 - val_accuracy: 0.4533\n",
            "Epoch 3/30\n",
            "248/248 [==============================] - 34s 138ms/step - loss: 1.4973 - accuracy: 0.3715 - val_loss: 1.2443 - val_accuracy: 0.5052\n",
            "Epoch 4/30\n",
            "248/248 [==============================] - 34s 138ms/step - loss: 1.3828 - accuracy: 0.4159 - val_loss: 1.1803 - val_accuracy: 0.5435\n",
            "Epoch 5/30\n",
            "248/248 [==============================] - 34s 138ms/step - loss: 1.2829 - accuracy: 0.4732 - val_loss: 1.1179 - val_accuracy: 0.5765\n",
            "Epoch 6/30\n",
            "248/248 [==============================] - 34s 139ms/step - loss: 1.2250 - accuracy: 0.4882 - val_loss: 1.0807 - val_accuracy: 0.5992\n",
            "Epoch 7/30\n",
            "248/248 [==============================] - 34s 139ms/step - loss: 1.1722 - accuracy: 0.5113 - val_loss: 1.0292 - val_accuracy: 0.6242\n",
            "Epoch 8/30\n",
            "248/248 [==============================] - 34s 138ms/step - loss: 1.1066 - accuracy: 0.5509 - val_loss: 0.9967 - val_accuracy: 0.6446\n",
            "Epoch 9/30\n",
            "248/248 [==============================] - 34s 138ms/step - loss: 1.0727 - accuracy: 0.5615 - val_loss: 0.9660 - val_accuracy: 0.6549\n",
            "Epoch 10/30\n",
            "248/248 [==============================] - 34s 138ms/step - loss: 1.0234 - accuracy: 0.5906 - val_loss: 0.9371 - val_accuracy: 0.6658\n",
            "Epoch 11/30\n",
            "248/248 [==============================] - 34s 138ms/step - loss: 1.0015 - accuracy: 0.6092 - val_loss: 0.9112 - val_accuracy: 0.6726\n",
            "Epoch 12/30\n",
            "248/248 [==============================] - 34s 137ms/step - loss: 0.9723 - accuracy: 0.6162 - val_loss: 0.8935 - val_accuracy: 0.6820\n",
            "Epoch 13/30\n",
            "248/248 [==============================] - 34s 138ms/step - loss: 0.9474 - accuracy: 0.6182 - val_loss: 0.8802 - val_accuracy: 0.6858\n",
            "Epoch 14/30\n",
            "248/248 [==============================] - 34s 138ms/step - loss: 0.9046 - accuracy: 0.6510 - val_loss: 0.8619 - val_accuracy: 0.6911\n",
            "Epoch 15/30\n",
            "248/248 [==============================] - 34s 137ms/step - loss: 0.8781 - accuracy: 0.6628 - val_loss: 0.8520 - val_accuracy: 0.6961\n",
            "Epoch 16/30\n",
            "248/248 [==============================] - 34s 137ms/step - loss: 0.8759 - accuracy: 0.6540 - val_loss: 0.8401 - val_accuracy: 0.7032\n",
            "Epoch 17/30\n",
            "248/248 [==============================] - 34s 138ms/step - loss: 0.8555 - accuracy: 0.6646 - val_loss: 0.8333 - val_accuracy: 0.7050\n",
            "Epoch 18/30\n",
            "248/248 [==============================] - 34s 137ms/step - loss: 0.8274 - accuracy: 0.6815 - val_loss: 0.8272 - val_accuracy: 0.7097\n",
            "Epoch 19/30\n",
            "248/248 [==============================] - 34s 137ms/step - loss: 0.7948 - accuracy: 0.6896 - val_loss: 0.8220 - val_accuracy: 0.7070\n",
            "Epoch 20/30\n",
            "248/248 [==============================] - 34s 137ms/step - loss: 0.7992 - accuracy: 0.6947 - val_loss: 0.8128 - val_accuracy: 0.7129\n",
            "Epoch 21/30\n",
            "248/248 [==============================] - 34s 136ms/step - loss: 0.7836 - accuracy: 0.6919 - val_loss: 0.8097 - val_accuracy: 0.7129\n",
            "Epoch 22/30\n",
            "248/248 [==============================] - 34s 137ms/step - loss: 0.7889 - accuracy: 0.6977 - val_loss: 0.8099 - val_accuracy: 0.7121\n",
            "Epoch 23/30\n",
            "248/248 [==============================] - 34s 138ms/step - loss: 0.7516 - accuracy: 0.7099 - val_loss: 0.8077 - val_accuracy: 0.7168\n",
            "Epoch 24/30\n",
            "248/248 [==============================] - 34s 137ms/step - loss: 0.7114 - accuracy: 0.7273 - val_loss: 0.8038 - val_accuracy: 0.7206\n",
            "Epoch 25/30\n",
            "248/248 [==============================] - 34s 138ms/step - loss: 0.7185 - accuracy: 0.7246 - val_loss: 0.8042 - val_accuracy: 0.7182\n",
            "Epoch 26/30\n",
            "248/248 [==============================] - 34s 138ms/step - loss: 0.7009 - accuracy: 0.7277 - val_loss: 0.8068 - val_accuracy: 0.7188\n",
            "Epoch 27/30\n",
            "248/248 [==============================] - 34s 138ms/step - loss: 0.6702 - accuracy: 0.7483 - val_loss: 0.8076 - val_accuracy: 0.7235\n",
            "Epoch 28/30\n",
            "248/248 [==============================] - 34s 138ms/step - loss: 0.6712 - accuracy: 0.7394 - val_loss: 0.8070 - val_accuracy: 0.7238\n",
            "Epoch 29/30\n",
            "248/248 [==============================] - 34s 137ms/step - loss: 0.6581 - accuracy: 0.7404 - val_loss: 0.8086 - val_accuracy: 0.7280\n",
            "Epoch 30/30\n",
            "248/248 [==============================] - 34s 137ms/step - loss: 0.6419 - accuracy: 0.7499 - val_loss: 0.8110 - val_accuracy: 0.7268\n"
          ],
          "name": "stdout"
        }
      ]
    },
    {
      "cell_type": "code",
      "metadata": {
        "id": "HTotWiK-eneJ"
      },
      "source": [
        "predictions = model.predict(X_test_pad)\n",
        "predictions = np.argmax(predictions, axis=1)\n",
        "predictions = [class_names[pred] for pred in predictions]"
      ],
      "execution_count": null,
      "outputs": []
    },
    {
      "cell_type": "code",
      "metadata": {
        "colab": {
          "base_uri": "https://localhost:8080/"
        },
        "id": "RFGOyqlyenLi",
        "outputId": "9c71c718-b387-4b69-fdba-5c2292d58b95"
      },
      "source": [
        "print(\"Accuracy: {:.4f}%\".format(accuracy_score(data_test.Emotion, predictions) * 100))\n",
        "print(\"\\nF1 Score: {:.4f}\".format(f1_score(data_test.Emotion, predictions, average='macro') * 100))\n",
        "print(\"\\nRecall Score: {:.4f}\".format(recall_score(data_test.Emotion, predictions, average='macro') * 100))\n",
        "print(\"\\nPrecision Score: {:.4f}\".format(precision_score(data_test.Emotion, predictions, average='macro') * 100))"
      ],
      "execution_count": null,
      "outputs": [
        {
          "output_type": "stream",
          "text": [
            "Accuracy: 72.6790%\n",
            "\n",
            "F1 Score: 72.6845\n",
            "\n",
            "Recall Score: 72.7155\n",
            "\n",
            "Precision Score: 72.7608\n"
          ],
          "name": "stdout"
        }
      ]
    },
    {
      "cell_type": "code",
      "metadata": {
        "colab": {
          "base_uri": "https://localhost:8080/"
        },
        "id": "Snh_8nT2ex9O",
        "outputId": "40ac471b-c3ad-4f14-d5ea-82a8dc19bb31"
      },
      "source": [
        "print(f1_score(data_test.Emotion, predictions, average=None) * 100)\n",
        "print(recall_score(data_test.Emotion, predictions, average=None) * 100)\n",
        "print(precision_score(data_test.Emotion, predictions, average=None) * 100)"
      ],
      "execution_count": null,
      "outputs": [
        {
          "output_type": "stream",
          "text": [
            "[68.71 73.49 74.08 76.92 70.22]\n",
            "[67.97 73.49 77.23 77.59 67.31]\n",
            "[69.47 73.49 71.19 76.27 73.39]\n"
          ],
          "name": "stdout"
        }
      ]
    },
    {
      "cell_type": "code",
      "metadata": {
        "colab": {
          "base_uri": "https://localhost:8080/",
          "height": 573
        },
        "id": "iFBkKshX_LT6",
        "outputId": "b0aa5160-4f5a-4c92-e777-221f3e6e2208"
      },
      "source": [
        "# Accuracy plot\n",
        "plt.plot(hist.history['accuracy'])\n",
        "plt.plot(hist.history['val_accuracy'])\n",
        "plt.title('model accuracy')\n",
        "plt.ylabel('accuracy')\n",
        "plt.xlabel('epoch')\n",
        "plt.legend(['train', 'test'], loc='upper left')\n",
        "plt.show()\n",
        "\n",
        "# Loss plot\n",
        "plt.plot(hist.history['loss'])\n",
        "plt.plot(hist.history['val_loss'])\n",
        "plt.title('model loss')\n",
        "plt.ylabel('loss')\n",
        "plt.xlabel('epoch')\n",
        "plt.legend(['train', 'test'], loc='upper left')\n",
        "plt.show()"
      ],
      "execution_count": null,
      "outputs": [
        {
          "output_type": "display_data",
          "data": {
            "image/png": "[encoded data removed]",
            "text/plain": [
              "<Figure size 432x288 with 1 Axes>"
            ]
          },
          "metadata": {
            "tags": [],
            "needs_background": "light"
          }
        },
        {
          "output_type": "display_data",
          "data": {
            "image/png": "[encoded data removed]",
            "text/plain": [
              "<Figure size 432x288 with 1 Axes>"
            ]
          },
          "metadata": {
            "tags": [],
            "needs_background": "light"
          }
        }
      ]
    },
    {
      "cell_type": "code",
      "metadata": {
        "colab": {
          "base_uri": "https://localhost:8080/",
          "height": 1000
        },
        "id": "Mfcy-BD__eeP",
        "outputId": "fd094a21-2f2b-432e-ebd9-fbc154f0cb91"
      },
      "source": [
        "np.set_printoptions(precision=2)\n",
        "\n",
        "# Plot non-normalized confusion matrix\n",
        "plot_confusion_matrix(data_test.Emotion, predictions, classes=class_names, title='Confusion matrix, without normalization')\n",
        "\n",
        "# Plot normalized confusion matrix\n",
        "plot_confusion_matrix(data_test.Emotion, predictions, classes=class_names, normalize=True, title='Normalized confusion matrix')\n",
        "\n",
        "plt.show()"
      ],
      "execution_count": null,
      "outputs": [
        {
          "output_type": "display_data",
          "data": {
            "image/png": "[encoded data removed]",
            "text/plain": [
              "<Figure size 900x540 with 2 Axes>"
            ]
          },
          "metadata": {
            "tags": [],
            "needs_background": "light"
          }
        },
        {
          "output_type": "display_data",
          "data": {
            "image/png": "[encoded data removed]",
            "text/plain": [
              "<Figure size 900x540 with 2 Axes>"
            ]
          },
          "metadata": {
            "tags": [],
            "needs_background": "light"
          }
        }
      ]
    },
    {
      "cell_type": "code",
      "metadata": {
        "id": "ufwEwirde_ac"
      },
      "source": [
        "model.save('models/h5_cnn_w2v.h5')"
      ],
      "execution_count": null,
      "outputs": []
    },
    {
      "cell_type": "code",
      "metadata": {
        "id": "WDu3dpKC_Zxw"
      },
      "source": [
        "from keras.models import load_model\n",
        "model = load_model('models/h5_cnn_w2v.h5')"
      ],
      "execution_count": null,
      "outputs": []
    },
    {
      "cell_type": "code",
      "metadata": {
        "colab": {
          "base_uri": "https://localhost:8080/"
        },
        "id": "vABCaSgL2Oq3",
        "outputId": "967d667a-7c7a-4158-ca2c-f939bb5f5a6b"
      },
      "source": [
        "# Convolution\n",
        "\n",
        "model = Sequential()\n",
        "model.add(embedd_layer)\n",
        "# Add Convolutional layer\n",
        "model.add(Conv1D(filters=64, kernel_size=5, padding='same', activation='relu'))\n",
        "model.add(MaxPooling1D(3))\n",
        "model.add(GlobalMaxPooling1D())\n",
        "model.add(BatchNormalization())\n",
        "\n",
        "# Add fully connected layers\n",
        "model.add(Dense(20, activation='relu'))\n",
        "model.add(Dropout(0.5))\n",
        "model.add(Dense(num_classes, activation='softmax'))\n",
        "\n",
        "# Summarize the model\n",
        "model.summary()"
      ],
      "execution_count": null,
      "outputs": [
        {
          "output_type": "stream",
          "text": [
            "Model: \"sequential_22\"\n",
            "_________________________________________________________________\n",
            "Layer (type)                 Output Shape              Param #   \n",
            "=================================================================\n",
            "embedding (Embedding)        (None, 500, 300)          3659700   \n",
            "_________________________________________________________________\n",
            "conv1d_20 (Conv1D)           (None, 500, 64)           96064     \n",
            "_________________________________________________________________\n",
            "max_pooling1d_20 (MaxPooling (None, 166, 64)           0         \n",
            "_________________________________________________________________\n",
            "global_max_pooling1d_20 (Glo (None, 64)                0         \n",
            "_________________________________________________________________\n",
            "batch_normalization_20 (Batc (None, 64)                256       \n",
            "_________________________________________________________________\n",
            "dense_41 (Dense)             (None, 20)                1300      \n",
            "_________________________________________________________________\n",
            "dropout_20 (Dropout)         (None, 20)                0         \n",
            "_________________________________________________________________\n",
            "dense_42 (Dense)             (None, 5)                 105       \n",
            "=================================================================\n",
            "Total params: 3,757,425\n",
            "Trainable params: 97,597\n",
            "Non-trainable params: 3,659,828\n",
            "_________________________________________________________________\n"
          ],
          "name": "stdout"
        }
      ]
    },
    {
      "cell_type": "code",
      "metadata": {
        "id": "M7rm-jxu2VWV"
      },
      "source": [
        "model.compile(loss = 'categorical_crossentropy', optimizer = Nadam(lr=0.0001, clipnorm=1.0), metrics = ['accuracy'])"
      ],
      "execution_count": null,
      "outputs": []
    },
    {
      "cell_type": "code",
      "metadata": {
        "colab": {
          "base_uri": "https://localhost:8080/"
        },
        "id": "5qsk3w7v2VIN",
        "outputId": "738b470e-75e2-4e31-e787-977b33c7f431"
      },
      "source": [
        "batch_size = 32\n",
        "epochs = 30\n",
        "\n",
        "hist = model.fit(X_train_pad, y_train, \n",
        "                 batch_size=batch_size,\n",
        "                 epochs=epochs,\n",
        "                 validation_data=(X_test_pad,y_test))"
      ],
      "execution_count": null,
      "outputs": [
        {
          "output_type": "stream",
          "text": [
            "Epoch 1/30\n",
            "248/248 [==============================] - 51s 206ms/step - loss: 1.8060 - accuracy: 0.2953 - val_loss: 1.4648 - val_accuracy: 0.3949\n",
            "Epoch 2/30\n",
            "248/248 [==============================] - 51s 204ms/step - loss: 1.4403 - accuracy: 0.3985 - val_loss: 1.2844 - val_accuracy: 0.4798\n",
            "Epoch 3/30\n",
            "248/248 [==============================] - 51s 204ms/step - loss: 1.2919 - accuracy: 0.4632 - val_loss: 1.1836 - val_accuracy: 0.5293\n",
            "Epoch 4/30\n",
            "248/248 [==============================] - 51s 204ms/step - loss: 1.1923 - accuracy: 0.5120 - val_loss: 1.1113 - val_accuracy: 0.5759\n",
            "Epoch 5/30\n",
            "248/248 [==============================] - 51s 205ms/step - loss: 1.0980 - accuracy: 0.5586 - val_loss: 1.0632 - val_accuracy: 0.6004\n",
            "Epoch 6/30\n",
            "248/248 [==============================] - 51s 205ms/step - loss: 1.0210 - accuracy: 0.6036 - val_loss: 1.0117 - val_accuracy: 0.6189\n",
            "Epoch 7/30\n",
            "248/248 [==============================] - 51s 206ms/step - loss: 0.9651 - accuracy: 0.6216 - val_loss: 0.9822 - val_accuracy: 0.6331\n",
            "Epoch 8/30\n",
            "248/248 [==============================] - 51s 206ms/step - loss: 0.9209 - accuracy: 0.6443 - val_loss: 0.9493 - val_accuracy: 0.6508\n",
            "Epoch 9/30\n",
            "248/248 [==============================] - 52s 209ms/step - loss: 0.8544 - accuracy: 0.6763 - val_loss: 0.9232 - val_accuracy: 0.6569\n",
            "Epoch 10/30\n",
            "248/248 [==============================] - 53s 212ms/step - loss: 0.8209 - accuracy: 0.6930 - val_loss: 0.9024 - val_accuracy: 0.6696\n",
            "Epoch 11/30\n",
            "248/248 [==============================] - 52s 210ms/step - loss: 0.7712 - accuracy: 0.7117 - val_loss: 0.8947 - val_accuracy: 0.6752\n",
            "Epoch 12/30\n",
            "248/248 [==============================] - 53s 212ms/step - loss: 0.7363 - accuracy: 0.7318 - val_loss: 0.8775 - val_accuracy: 0.6767\n",
            "Epoch 13/30\n",
            "248/248 [==============================] - 52s 210ms/step - loss: 0.7148 - accuracy: 0.7357 - val_loss: 0.8660 - val_accuracy: 0.6864\n",
            "Epoch 14/30\n",
            "248/248 [==============================] - 51s 205ms/step - loss: 0.6821 - accuracy: 0.7482 - val_loss: 0.8587 - val_accuracy: 0.6885\n",
            "Epoch 15/30\n",
            "248/248 [==============================] - 51s 204ms/step - loss: 0.6492 - accuracy: 0.7639 - val_loss: 0.8530 - val_accuracy: 0.6914\n",
            "Epoch 16/30\n",
            "248/248 [==============================] - 51s 206ms/step - loss: 0.6269 - accuracy: 0.7685 - val_loss: 0.8534 - val_accuracy: 0.6932\n",
            "Epoch 17/30\n",
            "248/248 [==============================] - 51s 206ms/step - loss: 0.5911 - accuracy: 0.7796 - val_loss: 0.8529 - val_accuracy: 0.6967\n",
            "Epoch 18/30\n",
            "248/248 [==============================] - 51s 207ms/step - loss: 0.5663 - accuracy: 0.7942 - val_loss: 0.8488 - val_accuracy: 0.6950\n",
            "Epoch 19/30\n",
            "248/248 [==============================] - 52s 211ms/step - loss: 0.5453 - accuracy: 0.8045 - val_loss: 0.8555 - val_accuracy: 0.6973\n",
            "Epoch 20/30\n",
            "248/248 [==============================] - 52s 210ms/step - loss: 0.5280 - accuracy: 0.8099 - val_loss: 0.8597 - val_accuracy: 0.6970\n",
            "Epoch 21/30\n",
            "248/248 [==============================] - 52s 209ms/step - loss: 0.5079 - accuracy: 0.8166 - val_loss: 0.8669 - val_accuracy: 0.7017\n",
            "Epoch 22/30\n",
            "248/248 [==============================] - 52s 209ms/step - loss: 0.4828 - accuracy: 0.8276 - val_loss: 0.8617 - val_accuracy: 0.7076\n",
            "Epoch 23/30\n",
            "248/248 [==============================] - 52s 210ms/step - loss: 0.4682 - accuracy: 0.8314 - val_loss: 0.8822 - val_accuracy: 0.7085\n",
            "Epoch 24/30\n",
            "248/248 [==============================] - 52s 210ms/step - loss: 0.4489 - accuracy: 0.8402 - val_loss: 0.8815 - val_accuracy: 0.7065\n",
            "Epoch 25/30\n",
            "248/248 [==============================] - 52s 210ms/step - loss: 0.4194 - accuracy: 0.8534 - val_loss: 0.8970 - val_accuracy: 0.7076\n",
            "Epoch 26/30\n",
            "248/248 [==============================] - 52s 208ms/step - loss: 0.4030 - accuracy: 0.8547 - val_loss: 0.8970 - val_accuracy: 0.7106\n",
            "Epoch 27/30\n",
            "248/248 [==============================] - 52s 209ms/step - loss: 0.3891 - accuracy: 0.8632 - val_loss: 0.9157 - val_accuracy: 0.7038\n",
            "Epoch 28/30\n",
            "248/248 [==============================] - 52s 208ms/step - loss: 0.3793 - accuracy: 0.8678 - val_loss: 0.9202 - val_accuracy: 0.7050\n",
            "Epoch 29/30\n",
            "248/248 [==============================] - 52s 208ms/step - loss: 0.3630 - accuracy: 0.8757 - val_loss: 0.9308 - val_accuracy: 0.7085\n",
            "Epoch 30/30\n",
            "248/248 [==============================] - 52s 209ms/step - loss: 0.3527 - accuracy: 0.8785 - val_loss: 0.9435 - val_accuracy: 0.7079\n"
          ],
          "name": "stdout"
        }
      ]
    },
    {
      "cell_type": "code",
      "metadata": {
        "id": "4n2MgT6E2U7C"
      },
      "source": [
        "predictions = model.predict(X_test_pad)\n",
        "predictions = np.argmax(predictions, axis=1)\n",
        "predictions = [class_names[pred] for pred in predictions]"
      ],
      "execution_count": null,
      "outputs": []
    },
    {
      "cell_type": "code",
      "metadata": {
        "colab": {
          "base_uri": "https://localhost:8080/"
        },
        "id": "fDVqEpht2UmY",
        "outputId": "4f2462bc-8a24-4d2a-8ce9-750415eff3b8"
      },
      "source": [
        "print(\"Accuracy: {:.4f}%\".format(accuracy_score(data_test.Emotion, predictions) * 100))\n",
        "print(\"\\nF1 Score: {:.4f}\".format(f1_score(data_test.Emotion, predictions, average='macro') * 100))\n",
        "print(\"\\nRecall Score: {:.4f}\".format(recall_score(data_test.Emotion, predictions, average='macro') * 100))\n",
        "print(\"\\nPrecision Score: {:.4f}\".format(precision_score(data_test.Emotion, predictions, average='macro') * 100))"
      ],
      "execution_count": null,
      "outputs": [
        {
          "output_type": "stream",
          "text": [
            "Accuracy: 70.0855%\n",
            "\n",
            "F1 Score: 70.1840\n",
            "\n",
            "Recall Score: 70.1530\n",
            "\n",
            "Precision Score: 70.3044\n"
          ],
          "name": "stdout"
        }
      ]
    },
    {
      "cell_type": "code",
      "metadata": {
        "colab": {
          "base_uri": "https://localhost:8080/"
        },
        "id": "lvKiJgsh2T-q",
        "outputId": "9167cf47-e569-4893-9f36-c4233e04ac40"
      },
      "source": [
        "print(f1_score(data_test.Emotion, predictions, average=None) * 100)\n",
        "print(recall_score(data_test.Emotion, predictions, average=None) * 100)\n",
        "print(precision_score(data_test.Emotion, predictions, average=None) * 100)"
      ],
      "execution_count": null,
      "outputs": [
        {
          "output_type": "stream",
          "text": [
            "[65.7  71.04 70.92 76.19 67.07]\n",
            "[68.4  69.37 71.57 76.49 64.94]\n",
            "[63.2  72.8  70.28 75.89 69.35]\n"
          ],
          "name": "stdout"
        }
      ]
    },
    {
      "cell_type": "code",
      "metadata": {
        "id": "wjs_NUtV2qgO"
      },
      "source": [
        "model.save('models/h6_cnn_w2v.h5')"
      ],
      "execution_count": null,
      "outputs": []
    },
    {
      "cell_type": "markdown",
      "metadata": {
        "id": "9cuZRutRe4kX"
      },
      "source": [
        "## Emotion Classification in text using LSTM \n",
        "### Workflow: \n",
        "1. Import Data\n",
        "2. Prepare the input data\n",
        "3. Import pre-trained W2V\n",
        "4. Create Neural Network Pipeline\n",
        "5. Train The Model\n",
        "6. Evaluate results"
      ]
    },
    {
      "cell_type": "markdown",
      "metadata": {
        "id": "2VQVxHQEfKUS"
      },
      "source": [
        "### 1. Import Data"
      ]
    },
    {
      "cell_type": "code",
      "metadata": {
        "id": "-8LE1N2KemPp"
      },
      "source": [
        "import pandas as pd\n",
        "import numpy as np\n",
        "\n",
        "# text preprocessing\n",
        "from nltk.tokenize import word_tokenize\n",
        "import re\n",
        "\n",
        "# plots and metrics\n",
        "import matplotlib.pyplot as plt\n",
        "from sklearn.metrics import accuracy_score, f1_score, confusion_matrix, recall_score, precision_score\n",
        "\n",
        "# preparing input to our model\n",
        "from keras.preprocessing.text import Tokenizer\n",
        "from keras.preprocessing.sequence import pad_sequences\n",
        "from keras.utils import to_categorical\n",
        "\n",
        "# keras layers\n",
        "from keras.models import Sequential\n",
        "from keras.layers import Embedding, Bidirectional, LSTM, GRU, Dense, GlobalMaxPooling1D, MaxPooling1D, BatchNormalization, Dropout"
      ],
      "execution_count": null,
      "outputs": []
    },
    {
      "cell_type": "code",
      "metadata": {
        "id": "jyr1EDHTfW2O"
      },
      "source": [
        "#Defining vector space dimension and fixed input size\n",
        "# Number of labels: joy, anger, fear, sadness, neutral\n",
        "num_classes = 5\n",
        "\n",
        "# Number of dimensions for word embedding\n",
        "embed_num_dims = 300\n",
        "\n",
        "# Max input length (max number of words) \n",
        "max_seq_len = 500\n",
        "\n",
        "class_names = ['joy', 'fear', 'anger', 'sadness', 'neutral']"
      ],
      "execution_count": null,
      "outputs": []
    },
    {
      "cell_type": "code",
      "metadata": {
        "id": "01AHSTH_fap6"
      },
      "source": [
        "#Importing our training and testing datasets\n",
        "data_train = pd.read_csv('/content/drive/MyDrive/it809/data_train.csv', encoding='utf-8')\n",
        "data_test = pd.read_csv('/content/drive/MyDrive/it809/data_test.csv', encoding='utf-8')\n",
        "\n",
        "X_train = data_train.Text\n",
        "X_test = data_test.Text\n",
        "\n",
        "y_train = data_train.Emotion\n",
        "y_test = data_test.Emotion\n",
        "\n",
        "data = data_train.append(data_test, ignore_index=True)"
      ],
      "execution_count": null,
      "outputs": []
    },
    {
      "cell_type": "markdown",
      "metadata": {
        "id": "LotRhWx0fy6X"
      },
      "source": [
        "### 2. Prepare input data\n",
        "To input the data to our NN Model we'll need some preprocessing:\n",
        "1. Tokenize our texts and count unique tokens\n",
        "2. Padding: each input (sentence or text) has to be of the same lenght\n",
        "3. Labels have to be converted to integeres and categorized\n",
        "\n",
        "Basic preprocessing and tokenization using nltk to double check that sentences are properly split into words.\n",
        "We could also add stopword removal but steps like stemming or lemmatization are not needed since we are using word2vec and words with the same stem can have a different meaning"
      ]
    },
    {
      "cell_type": "code",
      "metadata": {
        "colab": {
          "base_uri": "https://localhost:8080/"
        },
        "id": "S97-XwIdl9Xd",
        "outputId": "65453b28-dbcd-4ad0-e5ae-ab1c824d3f39"
      },
      "source": [
        "import nltk\n",
        "nltk.download('punkt')"
      ],
      "execution_count": null,
      "outputs": [
        {
          "output_type": "stream",
          "text": [
            "[nltk_data] Downloading package punkt to /root/nltk_data...\n",
            "[nltk_data]   Unzipping tokenizers/punkt.zip.\n"
          ],
          "name": "stdout"
        },
        {
          "output_type": "execute_result",
          "data": {
            "text/plain": [
              "True"
            ]
          },
          "metadata": {
            "tags": []
          },
          "execution_count": 5
        }
      ]
    },
    {
      "cell_type": "code",
      "metadata": {
        "id": "TRLbaWSCfu89"
      },
      "source": [
        "def clean_text(data):\n",
        "    \n",
        "    # remove @usernames\n",
        "    data = re.sub(r\"(@[\\d\\w\\.]+)\", '', data)\n",
        "    \n",
        "    # tekenization using nltk\n",
        "    data = word_tokenize(data)\n",
        "    \n",
        "    return data"
      ],
      "execution_count": null,
      "outputs": []
    },
    {
      "cell_type": "code",
      "metadata": {
        "id": "j57Dwi7FgYj1"
      },
      "source": [
        "texts = [' '.join(clean_text(text)) for text in data.Text]\n",
        "texts_train = [' '.join(clean_text(text)) for text in X_train]\n",
        "texts_test = [' '.join(clean_text(text)) for text in X_test]"
      ],
      "execution_count": null,
      "outputs": []
    },
    {
      "cell_type": "code",
      "metadata": {
        "colab": {
          "base_uri": "https://localhost:8080/"
        },
        "id": "yObi1mJhgbAK",
        "outputId": "759677e0-ea76-403a-f271-bd84094a4a40"
      },
      "source": [
        "print(texts_train[92])"
      ],
      "execution_count": null,
      "outputs": [
        {
          "output_type": "stream",
          "text": [
            "a bit ? I 'm extremely annoyed that he did n't phone me when he promised me that he would ! He 's such a liar .\n"
          ],
          "name": "stdout"
        }
      ]
    },
    {
      "cell_type": "markdown",
      "metadata": {
        "id": "wkSd50IYghXQ"
      },
      "source": [
        "**Tokenization + fitting using keras**"
      ]
    },
    {
      "cell_type": "code",
      "metadata": {
        "colab": {
          "base_uri": "https://localhost:8080/"
        },
        "id": "bwMEbERjgkBh",
        "outputId": "309a39bb-b2a4-4651-f625-c2a027d581b5"
      },
      "source": [
        "#Tokenization + fitting using keras\n",
        "tokenizer = Tokenizer(num_words=None,\n",
        "                      filters='!\"#$%&()*+,-./:;<=>?@[\\\\]^_`{|}~\\t\\n',\n",
        "                      lower=True,\n",
        "                      split=\" \",\n",
        "                      char_level=False)\n",
        "tokenizer.fit_on_texts(texts)\n",
        "\n",
        "sequence_train = tokenizer.texts_to_sequences(texts_train)\n",
        "sequence_test = tokenizer.texts_to_sequences(texts_test)\n",
        "\n",
        "index_of_words = tokenizer.word_index\n",
        "\n",
        "# vacab size is number of unique words + reserved 0 index for padding\n",
        "vocab_size = len(index_of_words) + 1\n",
        "\n",
        "# Extract variables\n",
        "print('Vocab size: {}'.format(vocab_size))\n",
        "longest = max(len(seq) for seq in sequence_train)\n",
        "print(\"Longest comment size: {}\".format(longest))\n",
        "average = np.mean([len(seq) for seq in sequence_train])\n",
        "print(\"Average comment size: {}\".format(average))\n",
        "stdev = np.std([len(seq) for seq in sequence_train])\n",
        "print(\"Stdev of comment size: {}\".format(stdev))\n",
        "max_len = int(average + stdev * 3)\n",
        "print('Max comment size: {}'.format(max_len))"
      ],
      "execution_count": null,
      "outputs": [
        {
          "output_type": "stream",
          "text": [
            "Vocab size: 12199\n",
            "Longest comment size: 235\n",
            "Average comment size: 16.198008570708343\n",
            "Stdev of comment size: 13.375809032425684\n",
            "Max comment size: 56\n"
          ],
          "name": "stdout"
        }
      ]
    },
    {
      "cell_type": "markdown",
      "metadata": {
        "id": "RTux4USNherj"
      },
      "source": [
        "**Padding** -> each input has the same length\n",
        "\n",
        "We defined maximum number of words for our texts and input size to our model has to be fixed - padding with zeros to keep the same input lenght (longest input in our dataset is ~250 words)"
      ]
    },
    {
      "cell_type": "code",
      "metadata": {
        "colab": {
          "base_uri": "https://localhost:8080/"
        },
        "id": "EIzlVdsmgj1u",
        "outputId": "f8edf9da-916d-4866-ef0c-9919c4b3d4b3"
      },
      "source": [
        "X_train_pad = pad_sequences(sequence_train, maxlen = max_seq_len )\n",
        "X_test_pad = pad_sequences(sequence_test, maxlen = max_seq_len )\n",
        "data_t = data_train[\"Text\"]\n",
        "for sample_i, (sent, token_sent) in enumerate(zip(data_t[:2], sequence_train[:2])):\n",
        "    print('Sequence {}'.format(sample_i + 1))\n",
        "    print('  Input:  {}'.format(sent))\n",
        "    print('  Output: {}'.format(token_sent))"
      ],
      "execution_count": null,
      "outputs": [
        {
          "output_type": "stream",
          "text": [
            "Sequence 1\n",
            "  Input:   There are tons of other paintings that I think are better . \n",
            "  Output: [57, 51, 5956, 8, 132, 3306, 11, 1, 119, 51, 345]\n",
            "Sequence 2\n",
            "  Input:  Yet the dog had grown old and less capable , and one day the gillie had come and explained with great sorrow that the dog had suffered a stroke , and must be put down . \n",
            "  Output: [420, 2, 312, 14, 1469, 168, 5, 575, 2372, 5, 45, 75, 2, 5957, 14, 138, 5, 2092, 18, 180, 847, 11, 2, 312, 14, 818, 3, 1713, 5, 284, 37, 277, 154]\n"
          ],
          "name": "stdout"
        }
      ]
    },
    {
      "cell_type": "markdown",
      "metadata": {
        "id": "Gia5qk0jhruO"
      },
      "source": [
        "**Categorize** labels:"
      ]
    },
    {
      "cell_type": "code",
      "metadata": {
        "id": "Rc-cHIb7gjoV"
      },
      "source": [
        "encoding = {\n",
        "    'joy': 0,\n",
        "    'fear': 1,\n",
        "    'anger': 2,\n",
        "    'sadness': 3,\n",
        "    'neutral': 4\n",
        "}\n",
        "\n",
        "# Integer labels\n",
        "y_train = [encoding[x] for x in data_train.Emotion]\n",
        "y_test = [encoding[x] for x in data_test.Emotion]"
      ],
      "execution_count": null,
      "outputs": []
    },
    {
      "cell_type": "code",
      "metadata": {
        "colab": {
          "base_uri": "https://localhost:8080/"
        },
        "id": "_SeRvhudgjUN",
        "outputId": "a9132f32-682f-49a4-ec7e-7be5c8e69ddf"
      },
      "source": [
        "y_train = to_categorical(y_train)\n",
        "y_test = to_categorical(y_test)\n",
        "\n",
        "y_train"
      ],
      "execution_count": null,
      "outputs": [
        {
          "output_type": "execute_result",
          "data": {
            "text/plain": [
              "array([[0., 0., 0., 0., 1.],\n",
              "       [0., 0., 0., 1., 0.],\n",
              "       [0., 1., 0., 0., 0.],\n",
              "       ...,\n",
              "       [0., 0., 0., 1., 0.],\n",
              "       [0., 1., 0., 0., 0.],\n",
              "       [0., 0., 1., 0., 0.]], dtype=float32)"
            ]
          },
          "metadata": {
            "tags": []
          },
          "execution_count": 11
        }
      ]
    },
    {
      "cell_type": "markdown",
      "metadata": {
        "id": "Lhyf-Xw5h5B1"
      },
      "source": [
        "### 2. Import pretrained word vectors\n",
        "* Importing pretrained word2vec from file and creating embedding matrix\n",
        "* We will later map each word in our corpus to existing word vector"
      ]
    },
    {
      "cell_type": "code",
      "metadata": {
        "id": "FZVmE7Jqgi1j"
      },
      "source": [
        "def create_embedding_matrix(filepath, word_index, embedding_dim):\n",
        "    vocab_size = len(word_index) + 1  # Adding again 1 because of reserved 0 index\n",
        "    embedding_matrix = np.zeros((vocab_size, embedding_dim))\n",
        "    with open(filepath) as f:\n",
        "        for line in f:\n",
        "            word, *vector = line.split()\n",
        "            if word in word_index:\n",
        "                idx = word_index[word] \n",
        "                embedding_matrix[idx] = np.array(\n",
        "                    vector, dtype=np.float32)[:embedding_dim]\n",
        "    return embedding_matrix"
      ],
      "execution_count": null,
      "outputs": []
    },
    {
      "cell_type": "markdown",
      "metadata": {
        "id": "53d8mn-liI6O"
      },
      "source": [
        "You can download and import any pre-trained word embeddings. I will use 300 dimentional w2v pre-trained on wikipedia articles. Download fast text english vectors: https://fasttext.cc/docs/en/english-vectors.html"
      ]
    },
    {
      "cell_type": "code",
      "metadata": {
        "id": "9U2Vp4qQiLVQ",
        "colab": {
          "base_uri": "https://localhost:8080/"
        },
        "outputId": "3e95366c-6963-4820-d26f-2a0564b29cd8"
      },
      "source": [
        "import urllib.request\n",
        "import zipfile\n",
        "import os\n",
        "\n",
        "fname = 'embeddings/wiki-news-300d-1M.vec'\n",
        "\n",
        "if not os.path.isfile(fname):\n",
        "    print('Downloading word vectors...')\n",
        "    urllib.request.urlretrieve('https://dl.fbaipublicfiles.com/fasttext/vectors-english/wiki-news-300d-1M.vec.zip',\n",
        "                              'wiki-news-300d-1M.vec.zip')\n",
        "    print('Unzipping...')\n",
        "    with zipfile.ZipFile('wiki-news-300d-1M.vec.zip', 'r') as zip_ref:\n",
        "        zip_ref.extractall('embeddings')\n",
        "    print('done.')\n",
        "    \n",
        "    os.remove('wiki-news-300d-1M.vec.zip')"
      ],
      "execution_count": null,
      "outputs": [
        {
          "output_type": "stream",
          "text": [
            "Downloading word vectors...\n",
            "Unzipping...\n",
            "done.\n"
          ],
          "name": "stdout"
        }
      ]
    },
    {
      "cell_type": "code",
      "metadata": {
        "colab": {
          "base_uri": "https://localhost:8080/"
        },
        "id": "YMPC8jusiMWp",
        "outputId": "5c630e64-bd08-4270-ab51-4ad6e04459cc"
      },
      "source": [
        "embedd_matrix = create_embedding_matrix(fname, index_of_words, embed_num_dims)\n",
        "embedd_matrix.shape"
      ],
      "execution_count": null,
      "outputs": [
        {
          "output_type": "execute_result",
          "data": {
            "text/plain": [
              "(12199, 300)"
            ]
          },
          "metadata": {
            "tags": []
          },
          "execution_count": 14
        }
      ]
    },
    {
      "cell_type": "markdown",
      "metadata": {
        "id": "cqT-pVNpiXMa"
      },
      "source": [
        "Some of the words from our corpus were not included in the pre-trained word vectors. If we inspect those words we'll see that it's mostly spelling errors. "
      ]
    },
    {
      "cell_type": "code",
      "metadata": {
        "colab": {
          "base_uri": "https://localhost:8080/"
        },
        "id": "3knf9l5kiTh_",
        "outputId": "02fa9ae2-056f-4226-d9d7-31dcc23646fe"
      },
      "source": [
        "# Inspect unseen words\n",
        "new_words = 0\n",
        "\n",
        "for word in index_of_words:\n",
        "    entry = embedd_matrix[index_of_words[word]]\n",
        "    if all(v == 0 for v in entry):\n",
        "        new_words = new_words + 1\n",
        "\n",
        "print('Words found in wiki vocab: ' + str(len(index_of_words) - new_words))\n",
        "print('New words found: ' + str(new_words))"
      ],
      "execution_count": null,
      "outputs": [
        {
          "output_type": "stream",
          "text": [
            "Words found in wiki vocab: 11490\n",
            "New words found: 708\n"
          ],
          "name": "stdout"
        }
      ]
    },
    {
      "cell_type": "markdown",
      "metadata": {
        "id": "5ihMUqMTihXh"
      },
      "source": [
        "## 3. Create LSTM Pipeline\n",
        "### Embedding Layer\n",
        "\n",
        "We will use pre-trained word vectors. We could also train our own embedding layer if we don't specify the pre-trained weights \n",
        "\n",
        "* **vocabulary size:** the maximum number of terms that are used to represent a text: e.g. if we set the size of the “vocabulary” to 1000 only the first thousand terms most frequent in the corpus will be considered (and the other terms will be ignored)\n",
        "* **the maximum length:** of the texts (which must all be the same length)\n",
        "* **size of embeddings:** basically, the more dimensions we have the more precise the semantics will be, but beyond a certain threshold we will lose the ability of the embedding to define a coherent and general enough semantic area\n",
        "* **trainable:** True if you want to fine-tune them while training"
      ]
    },
    {
      "cell_type": "code",
      "metadata": {
        "id": "h5Ws59EPiqWK"
      },
      "source": [
        "embedd_layer = Embedding(vocab_size,\n",
        "                         embed_num_dims,\n",
        "                         input_length = max_seq_len,\n",
        "                         weights = [embedd_matrix],\n",
        "                         trainable=False)"
      ],
      "execution_count": null,
      "outputs": []
    },
    {
      "cell_type": "markdown",
      "metadata": {
        "id": "imV2SLw-i-lZ"
      },
      "source": [
        "### Model Pipeline\n",
        "- the input is the first N words of each text (with proper padding)\n",
        "- the first level creates embedding of words, using vocabulary with a certain dimension, and a given size of embeddings\n",
        "- LSTM layer which will receive word embeddings for each token in the tweet as inputs. The intuition is that its output tokens will store information not only of the initial token, but also any previous tokens; In other words, the LSTM layer is generating a new encoding for the original input.\n",
        "- the output level has a number of neurons equal to the classes of the problem and a “softmax” activation function"
      ]
    },
    {
      "cell_type": "code",
      "metadata": {
        "id": "N49YPxq6iS-I",
        "colab": {
          "base_uri": "https://localhost:8080/"
        },
        "outputId": "148885bf-2149-491c-ca9d-d86f8a09d059"
      },
      "source": [
        "import keras.backend\n",
        "from keras.models import Sequential\n",
        "from keras.layers import Dense, Conv1D, MaxPooling1D\n",
        "from keras.layers import Dropout, GlobalMaxPooling1D, BatchNormalization\n",
        "from keras.layers import Bidirectional\n",
        "from keras.layers.embeddings import Embedding\n",
        "from keras.optimizers import Nadam\n",
        "\n",
        "# Initate model\n",
        "model = Sequential()\n",
        "\n",
        "# Add Embedding layer\n",
        "model.add(embedd_layer)\n",
        "\n",
        "# Add Recurrent layer\n",
        "model.add(LSTM(60, return_sequences=True, name='lstm_layer'))\n",
        "model.add(MaxPooling1D(3))\n",
        "model.add(GlobalMaxPooling1D())\n",
        "model.add(BatchNormalization())\n",
        "\n",
        "# Add fully connected layers\n",
        "model.add(Dense(50, activation='relu')) #hidden\n",
        "model.add(Dropout(0.3))\n",
        "model.add(Dense(num_classes, activation='softmax'))\n",
        "\n",
        "# Summarize the model\n",
        "model.summary()\n"
      ],
      "execution_count": null,
      "outputs": [
        {
          "output_type": "stream",
          "text": [
            "Model: \"sequential\"\n",
            "_________________________________________________________________\n",
            "Layer (type)                 Output Shape              Param #   \n",
            "=================================================================\n",
            "embedding (Embedding)        (None, 500, 300)          3659700   \n",
            "_________________________________________________________________\n",
            "lstm_layer (LSTM)            (None, 500, 60)           86640     \n",
            "_________________________________________________________________\n",
            "max_pooling1d (MaxPooling1D) (None, 166, 60)           0         \n",
            "_________________________________________________________________\n",
            "global_max_pooling1d (Global (None, 60)                0         \n",
            "_________________________________________________________________\n",
            "batch_normalization (BatchNo (None, 60)                240       \n",
            "_________________________________________________________________\n",
            "dense (Dense)                (None, 50)                3050      \n",
            "_________________________________________________________________\n",
            "dropout (Dropout)            (None, 50)                0         \n",
            "_________________________________________________________________\n",
            "dense_1 (Dense)              (None, 5)                 255       \n",
            "=================================================================\n",
            "Total params: 3,749,885\n",
            "Trainable params: 90,065\n",
            "Non-trainable params: 3,659,820\n",
            "_________________________________________________________________\n"
          ],
          "name": "stdout"
        }
      ]
    },
    {
      "cell_type": "code",
      "metadata": {
        "id": "VcRSu8mviSsn"
      },
      "source": [
        "model.compile(loss = 'categorical_crossentropy', optimizer = Nadam(lr=0.0001, clipnorm=1.0), metrics = ['accuracy'])"
      ],
      "execution_count": null,
      "outputs": []
    },
    {
      "cell_type": "markdown",
      "metadata": {
        "id": "kOuTPPPAoJNC"
      },
      "source": [
        "### 3. Train the Model\n",
        "* **validation data**: use validation_split in order to estimate how well your model has been trained and adjust parameters or add dropout layers. After that we will train the model using the complete train set.\n",
        "* **epochs**: 20 **batch_size**: 64"
      ]
    },
    {
      "cell_type": "code",
      "metadata": {
        "colab": {
          "base_uri": "https://localhost:8080/"
        },
        "id": "BZqfrG9gsoQz",
        "outputId": "29ae0da1-d883-4535-af7f-f43651aabfc8"
      },
      "source": [
        "batch_size = 64\n",
        "epochs = 30\n",
        "\n",
        "hist = model.fit(X_train_pad, y_train, \n",
        "                 batch_size=batch_size,\n",
        "                 epochs=epochs,\n",
        "                 validation_data=(X_test_pad,y_test))"
      ],
      "execution_count": null,
      "outputs": [
        {
          "output_type": "stream",
          "text": [
            "Epoch 1/30\n",
            "124/124 [==============================] - 82s 639ms/step - loss: 1.7404 - accuracy: 0.2387 - val_loss: 1.5784 - val_accuracy: 0.3655\n",
            "Epoch 2/30\n",
            "124/124 [==============================] - 78s 628ms/step - loss: 1.4458 - accuracy: 0.3644 - val_loss: 1.5261 - val_accuracy: 0.4220\n",
            "Epoch 3/30\n",
            "124/124 [==============================] - 78s 628ms/step - loss: 1.3573 - accuracy: 0.4270 - val_loss: 1.4397 - val_accuracy: 0.4819\n",
            "Epoch 4/30\n",
            "124/124 [==============================] - 78s 630ms/step - loss: 1.2862 - accuracy: 0.4774 - val_loss: 1.3218 - val_accuracy: 0.5332\n",
            "Epoch 5/30\n",
            "124/124 [==============================] - 78s 627ms/step - loss: 1.2084 - accuracy: 0.5226 - val_loss: 1.2072 - val_accuracy: 0.5656\n",
            "Epoch 6/30\n",
            "124/124 [==============================] - 78s 628ms/step - loss: 1.1520 - accuracy: 0.5607 - val_loss: 1.1190 - val_accuracy: 0.5971\n",
            "Epoch 7/30\n",
            "124/124 [==============================] - 78s 626ms/step - loss: 1.0759 - accuracy: 0.5882 - val_loss: 1.0637 - val_accuracy: 0.6118\n",
            "Epoch 8/30\n",
            "124/124 [==============================] - 77s 624ms/step - loss: 1.0534 - accuracy: 0.6024 - val_loss: 1.0224 - val_accuracy: 0.6245\n",
            "Epoch 9/30\n",
            "124/124 [==============================] - 77s 626ms/step - loss: 0.9838 - accuracy: 0.6367 - val_loss: 0.9870 - val_accuracy: 0.6410\n",
            "Epoch 10/30\n",
            "124/124 [==============================] - 78s 627ms/step - loss: 0.9566 - accuracy: 0.6451 - val_loss: 0.9579 - val_accuracy: 0.6487\n",
            "Epoch 11/30\n",
            "124/124 [==============================] - 77s 623ms/step - loss: 0.9323 - accuracy: 0.6535 - val_loss: 0.9395 - val_accuracy: 0.6564\n",
            "Epoch 12/30\n",
            "124/124 [==============================] - 77s 625ms/step - loss: 0.9253 - accuracy: 0.6629 - val_loss: 0.9232 - val_accuracy: 0.6670\n",
            "Epoch 13/30\n",
            "124/124 [==============================] - 77s 625ms/step - loss: 0.8794 - accuracy: 0.6760 - val_loss: 0.9159 - val_accuracy: 0.6649\n",
            "Epoch 14/30\n",
            "124/124 [==============================] - 78s 626ms/step - loss: 0.8416 - accuracy: 0.6975 - val_loss: 0.8979 - val_accuracy: 0.6761\n",
            "Epoch 15/30\n",
            "124/124 [==============================] - 78s 626ms/step - loss: 0.8365 - accuracy: 0.6970 - val_loss: 0.8979 - val_accuracy: 0.6755\n",
            "Epoch 16/30\n",
            "124/124 [==============================] - 77s 618ms/step - loss: 0.8178 - accuracy: 0.7043 - val_loss: 0.8823 - val_accuracy: 0.6773\n",
            "Epoch 17/30\n",
            "124/124 [==============================] - 77s 618ms/step - loss: 0.8049 - accuracy: 0.7045 - val_loss: 0.8743 - val_accuracy: 0.6799\n",
            "Epoch 18/30\n",
            "124/124 [==============================] - 77s 619ms/step - loss: 0.7891 - accuracy: 0.7137 - val_loss: 0.8688 - val_accuracy: 0.6861\n",
            "Epoch 19/30\n",
            "124/124 [==============================] - 76s 617ms/step - loss: 0.7664 - accuracy: 0.7192 - val_loss: 0.8682 - val_accuracy: 0.6844\n",
            "Epoch 20/30\n",
            "124/124 [==============================] - 76s 616ms/step - loss: 0.7795 - accuracy: 0.7158 - val_loss: 0.8680 - val_accuracy: 0.6835\n",
            "Epoch 21/30\n",
            "124/124 [==============================] - 76s 616ms/step - loss: 0.7587 - accuracy: 0.7304 - val_loss: 0.8605 - val_accuracy: 0.6882\n",
            "Epoch 22/30\n",
            "124/124 [==============================] - 77s 622ms/step - loss: 0.7410 - accuracy: 0.7379 - val_loss: 0.8635 - val_accuracy: 0.6817\n",
            "Epoch 23/30\n",
            "124/124 [==============================] - 77s 621ms/step - loss: 0.7151 - accuracy: 0.7468 - val_loss: 0.8545 - val_accuracy: 0.6911\n",
            "Epoch 24/30\n",
            "124/124 [==============================] - 77s 618ms/step - loss: 0.7090 - accuracy: 0.7493 - val_loss: 0.8597 - val_accuracy: 0.6902\n",
            "Epoch 25/30\n",
            "124/124 [==============================] - 78s 626ms/step - loss: 0.6980 - accuracy: 0.7542 - val_loss: 0.8512 - val_accuracy: 0.6947\n",
            "Epoch 26/30\n",
            "124/124 [==============================] - 77s 621ms/step - loss: 0.6919 - accuracy: 0.7544 - val_loss: 0.8560 - val_accuracy: 0.6926\n",
            "Epoch 27/30\n",
            "124/124 [==============================] - 76s 616ms/step - loss: 0.6805 - accuracy: 0.7613 - val_loss: 0.8548 - val_accuracy: 0.6891\n",
            "Epoch 28/30\n",
            "124/124 [==============================] - 76s 615ms/step - loss: 0.6939 - accuracy: 0.7612 - val_loss: 0.8570 - val_accuracy: 0.6923\n",
            "Epoch 29/30\n",
            "124/124 [==============================] - 77s 619ms/step - loss: 0.6657 - accuracy: 0.7691 - val_loss: 0.8547 - val_accuracy: 0.6917\n",
            "Epoch 30/30\n",
            "124/124 [==============================] - 77s 622ms/step - loss: 0.6567 - accuracy: 0.7727 - val_loss: 0.8529 - val_accuracy: 0.6920\n"
          ],
          "name": "stdout"
        }
      ]
    },
    {
      "cell_type": "code",
      "metadata": {
        "colab": {
          "base_uri": "https://localhost:8080/",
          "height": 573
        },
        "id": "PU7tBTkl0BV_",
        "outputId": "b02b4d92-eb36-4102-fcde-7db6dfd59a23"
      },
      "source": [
        "#  \"Accuracy\"\n",
        "plt.plot(hist.history['accuracy'])\n",
        "plt.plot(hist.history['val_accuracy'])\n",
        "plt.title('model accuracy')\n",
        "plt.ylabel('accuracy')\n",
        "plt.xlabel('epoch')\n",
        "plt.legend(['train', 'test'], loc='upper left')\n",
        "plt.show()\n",
        "\n",
        "# \"Loss\"\n",
        "plt.plot(hist.history['loss'])\n",
        "plt.plot(hist.history['val_loss'])\n",
        "plt.title('model loss')\n",
        "plt.ylabel('loss')\n",
        "plt.xlabel('epoch')\n",
        "plt.legend(['train', 'test'], loc='upper left')\n",
        "plt.show()"
      ],
      "execution_count": null,
      "outputs": [
        {
          "output_type": "display_data",
          "data": {
            "image/png": "[encoded data removed]",
            "text/plain": [
              "<Figure size 432x288 with 1 Axes>"
            ]
          },
          "metadata": {
            "tags": [],
            "needs_background": "light"
          }
        },
        {
          "output_type": "display_data",
          "data": {
            "image/png": "[encoded data removed]",
            "text/plain": [
              "<Figure size 432x288 with 1 Axes>"
            ]
          },
          "metadata": {
            "tags": [],
            "needs_background": "light"
          }
        }
      ]
    },
    {
      "cell_type": "markdown",
      "metadata": {
        "id": "BHszIAxQoqLo"
      },
      "source": [
        "### 4. Evaluation"
      ]
    },
    {
      "cell_type": "code",
      "metadata": {
        "id": "qbWnP2XzokWq"
      },
      "source": [
        "predictions = model.predict(X_test_pad)\n",
        "predictions = np.argmax(predictions, axis=1)\n",
        "predictions = [class_names[pred] for pred in predictions]"
      ],
      "execution_count": null,
      "outputs": []
    },
    {
      "cell_type": "code",
      "metadata": {
        "id": "_Qc_sileouMj",
        "colab": {
          "base_uri": "https://localhost:8080/"
        },
        "outputId": "9b097a54-f0ff-43b3-aceb-77d8b0a1c9ce"
      },
      "source": [
        "print(\"Accuracy: {:.4f}%\".format(accuracy_score(data_test.Emotion, predictions) * 100))\n",
        "print(\"\\nF1 Score: {:.4f}\".format(f1_score(data_test.Emotion, predictions, average='macro') * 100))\n",
        "print(\"\\nRecall Score: {:.4f}\".format(recall_score(data_test.Emotion, predictions, average='macro') * 100))\n",
        "print(\"\\nPrecision Score: {:.4f}\".format(precision_score(data_test.Emotion, predictions, average='macro') * 100))"
      ],
      "execution_count": null,
      "outputs": [
        {
          "output_type": "stream",
          "text": [
            "Accuracy: 69.2013%\n",
            "\n",
            "F1 Score: 69.1829\n",
            "\n",
            "Recall Score: 69.3179\n",
            "\n",
            "Precision Score: 69.3678\n"
          ],
          "name": "stdout"
        }
      ]
    },
    {
      "cell_type": "code",
      "metadata": {
        "colab": {
          "base_uri": "https://localhost:8080/"
        },
        "id": "j38h7gIO9DIl",
        "outputId": "59ce4547-2f06-4e75-fda8-b1191dbfe48c"
      },
      "source": [
        "print(f1_score(data_test.Emotion, predictions, average=None) * 100)\n",
        "print(recall_score(data_test.Emotion, predictions, average=None) * 100)\n",
        "print(precision_score(data_test.Emotion, predictions, average=None) * 100)"
      ],
      "execution_count": null,
      "outputs": [
        {
          "output_type": "stream",
          "text": [
            "[64.08504176 70.52384676 69.91210277 74.62908012 66.7644901 ]\n",
            "[60.89466089 66.42120766 73.12588402 78.84012539 67.30769231]\n",
            "[67.62820513 75.16666667 66.96891192 70.84507042 66.22998544]\n"
          ],
          "name": "stdout"
        }
      ]
    },
    {
      "cell_type": "markdown",
      "metadata": {
        "id": "CqheW6LwozL3"
      },
      "source": [
        "#### Plotting confusion Matrix:"
      ]
    },
    {
      "cell_type": "code",
      "metadata": {
        "id": "WkV1SGs_oygM"
      },
      "source": [
        "def plot_confusion_matrix(y_true, y_pred, classes,\n",
        "                          normalize=False,\n",
        "                          title=None,\n",
        "                          cmap=plt.cm.Blues):\n",
        "    '''\n",
        "    This function prints and plots the confusion matrix.\n",
        "    Normalization can be applied by setting `normalize=True`.\n",
        "    '''\n",
        "    if not title:\n",
        "        if normalize:\n",
        "            title = 'Normalized confusion matrix'\n",
        "        else:\n",
        "            title = 'Confusion matrix, without normalization'\n",
        "\n",
        "    # Compute confusion matrix\n",
        "    cm = confusion_matrix(y_true, y_pred)\n",
        "\n",
        "    if normalize:\n",
        "        cm = cm.astype('float') / cm.sum(axis=1)[:, np.newaxis]\n",
        "\n",
        "    fig, ax = plt.subplots()\n",
        "    \n",
        "    # Set size\n",
        "    fig.set_size_inches(12.5, 7.5)\n",
        "    im = ax.imshow(cm, interpolation='nearest', cmap=cmap)\n",
        "    ax.figure.colorbar(im, ax=ax)\n",
        "    ax.grid(False)\n",
        "    \n",
        "    # We want to show all ticks...\n",
        "    ax.set(xticks=np.arange(cm.shape[1]),\n",
        "           yticks=np.arange(cm.shape[0]),\n",
        "           # ... and label them with the respective list entries\n",
        "           xticklabels=classes, yticklabels=classes,\n",
        "           title=title,\n",
        "           ylabel='True label',\n",
        "           xlabel='Predicted label')\n",
        "\n",
        "    # Rotate the tick labels and set their alignment.\n",
        "    plt.setp(ax.get_xticklabels(), rotation=45, ha=\"right\",\n",
        "             rotation_mode=\"anchor\")\n",
        "\n",
        "    # Loop over data dimensions and create text annotations.\n",
        "    fmt = '.2f' if normalize else 'd'\n",
        "    thresh = cm.max() / 2.\n",
        "    for i in range(cm.shape[0]):\n",
        "        for j in range(cm.shape[1]):\n",
        "            ax.text(j, i, format(cm[i, j], fmt),\n",
        "                    ha=\"center\", va=\"center\",\n",
        "                    color=\"white\" if cm[i, j] > thresh else \"black\")\n",
        "    fig.tight_layout()\n",
        "    return ax"
      ],
      "execution_count": null,
      "outputs": []
    },
    {
      "cell_type": "code",
      "metadata": {
        "id": "opxqeJNZpIzQ",
        "colab": {
          "base_uri": "https://localhost:8080/",
          "height": 1000
        },
        "outputId": "4e837126-f229-4d10-c354-8338b1d0d3bf"
      },
      "source": [
        "np.set_printoptions(precision=2)\n",
        "\n",
        "# Plot non-normalized confusion matrix\n",
        "plot_confusion_matrix(data_test.Emotion, predictions, classes=class_names,\n",
        "                      title='Confusion matrix, without normalization')\n",
        "\n",
        "# Plot normalized confusion matrix\n",
        "plot_confusion_matrix(data_test.Emotion, predictions, classes=class_names, normalize=True,\n",
        "                      title='Normalized confusion matrix')\n",
        "\n",
        "plt.show()"
      ],
      "execution_count": null,
      "outputs": [
        {
          "output_type": "display_data",
          "data": {
            "image/png": "[encoded data removed]",
            "text/plain": [
              "<Figure size 900x540 with 2 Axes>"
            ]
          },
          "metadata": {
            "tags": [],
            "needs_background": "light"
          }
        },
        {
          "output_type": "display_data",
          "data": {
            "image/png": "[encoded data removed]",
            "text/plain": [
              "<Figure size 900x540 with 2 Axes>"
            ]
          },
          "metadata": {
            "tags": [],
            "needs_background": "light"
          }
        }
      ]
    },
    {
      "cell_type": "markdown",
      "metadata": {
        "id": "G4bi2aPapVKd"
      },
      "source": [
        "#### Let's try other inputs:"
      ]
    },
    {
      "cell_type": "code",
      "metadata": {
        "id": "EV7l0A4ipK1G",
        "colab": {
          "base_uri": "https://localhost:8080/"
        },
        "outputId": "d92fbee4-b51b-4e3e-d249-7210bd822c6f"
      },
      "source": [
        "import time\n",
        "\n",
        "message = ['delivery was hour late and my pizza was cold!']\n",
        "\n",
        "seq = tokenizer.texts_to_sequences(message)\n",
        "padded = pad_sequences(seq, maxlen=max_seq_len)\n",
        "\n",
        "start_time = time.time()\n",
        "pred = model.predict(padded)\n",
        "\n",
        "print('Message: ' + str(message))\n",
        "print('predicted: {} ({:.2f} seconds)'.format(class_names[np.argmax(pred)], (time.time() - start_time)))"
      ],
      "execution_count": null,
      "outputs": [
        {
          "output_type": "stream",
          "text": [
            "Message: ['delivery was hour late and my pizza was cold!']\n",
            "predicted: fear (0.07 seconds)\n"
          ],
          "name": "stdout"
        }
      ]
    },
    {
      "cell_type": "markdown",
      "metadata": {
        "id": "7w9KgOmVpe3X"
      },
      "source": [
        "### Done\n",
        "Save the model for later use"
      ]
    },
    {
      "cell_type": "code",
      "metadata": {
        "id": "QeVdcf0bpKFl"
      },
      "source": [
        "# creates a HDF5 file 'my_model.h5'\n",
        "model.save('models/LSTM_w2v.h5')"
      ],
      "execution_count": null,
      "outputs": []
    },
    {
      "cell_type": "code",
      "metadata": {
        "id": "3HE6WVOqpmfr"
      },
      "source": [
        "from keras.models import load_model\n",
        "predictor = load_model('models/LSTM_w2v.h5')"
      ],
      "execution_count": null,
      "outputs": []
    },
    {
      "cell_type": "markdown",
      "metadata": {
        "id": "Y-4OKUCrFa-j"
      },
      "source": [
        "### Hyper parameter tuning for LSTM"
      ]
    },
    {
      "cell_type": "code",
      "metadata": {
        "colab": {
          "base_uri": "https://localhost:8080/"
        },
        "id": "vYHpKOzqFjkd",
        "outputId": "87feffe9-c448-4953-af60-3fa1e64432a2"
      },
      "source": [
        "import keras.backend\n",
        "from keras.models import Sequential\n",
        "from keras.layers import Dense, Conv1D, MaxPooling1D\n",
        "from keras.layers import Dropout, GlobalMaxPooling1D, BatchNormalization\n",
        "from keras.layers import Bidirectional\n",
        "from keras.layers.embeddings import Embedding\n",
        "from keras.optimizers import Nadam\n",
        "\n",
        "# Initate model\n",
        "model = Sequential()\n",
        "\n",
        "# Add Embedding layer\n",
        "model.add(embedd_layer)\n",
        "\n",
        "# Add Recurrent layer\n",
        "model.add(LSTM(60, return_sequences=True, name='lstm_layer'))\n",
        "model.add(MaxPooling1D(3))\n",
        "model.add(GlobalMaxPooling1D())\n",
        "model.add(BatchNormalization())\n",
        "\n",
        "# Add fully connected layers\n",
        "model.add(Dense(50, activation='relu'))\n",
        "model.add(Dropout(0.3))\n",
        "model.add(Dense(num_classes, activation='softmax'))\n",
        "\n",
        "# Summarize the model\n",
        "model.summary()"
      ],
      "execution_count": null,
      "outputs": [
        {
          "output_type": "stream",
          "text": [
            "Model: \"sequential\"\n",
            "_________________________________________________________________\n",
            "Layer (type)                 Output Shape              Param #   \n",
            "=================================================================\n",
            "embedding (Embedding)        (None, 500, 300)          3659700   \n",
            "_________________________________________________________________\n",
            "lstm_layer (LSTM)            (None, 500, 60)           86640     \n",
            "_________________________________________________________________\n",
            "max_pooling1d (MaxPooling1D) (None, 166, 60)           0         \n",
            "_________________________________________________________________\n",
            "global_max_pooling1d (Global (None, 60)                0         \n",
            "_________________________________________________________________\n",
            "batch_normalization (BatchNo (None, 60)                240       \n",
            "_________________________________________________________________\n",
            "dense (Dense)                (None, 50)                3050      \n",
            "_________________________________________________________________\n",
            "dropout (Dropout)            (None, 50)                0         \n",
            "_________________________________________________________________\n",
            "dense_1 (Dense)              (None, 5)                 255       \n",
            "=================================================================\n",
            "Total params: 3,749,885\n",
            "Trainable params: 90,065\n",
            "Non-trainable params: 3,659,820\n",
            "_________________________________________________________________\n"
          ],
          "name": "stdout"
        }
      ]
    },
    {
      "cell_type": "code",
      "metadata": {
        "colab": {
          "base_uri": "https://localhost:8080/"
        },
        "id": "8dFQx9XIF7lp",
        "outputId": "459a1d91-b6e4-4994-ab15-0b806487ef05"
      },
      "source": [
        "model.compile(loss = 'categorical_crossentropy', optimizer = Nadam(lr=0.0001, clipnorm=1.0), metrics = ['accuracy'])\n",
        "batch_size = 32\n",
        "epochs = 30\n",
        "\n",
        "hist = model.fit(X_train_pad, y_train, \n",
        "                 batch_size=batch_size,\n",
        "                 epochs=epochs,\n",
        "                 validation_data=(X_test_pad,y_test))"
      ],
      "execution_count": null,
      "outputs": [
        {
          "output_type": "stream",
          "text": [
            "Epoch 1/30\n",
            "248/248 [==============================] - 93s 361ms/step - loss: 1.6812 - accuracy: 0.2629 - val_loss: 1.5329 - val_accuracy: 0.4179\n",
            "Epoch 2/30\n",
            "248/248 [==============================] - 89s 358ms/step - loss: 1.3687 - accuracy: 0.4190 - val_loss: 1.3536 - val_accuracy: 0.4898\n",
            "Epoch 3/30\n",
            "248/248 [==============================] - 89s 358ms/step - loss: 1.2521 - accuracy: 0.4747 - val_loss: 1.1668 - val_accuracy: 0.5582\n",
            "Epoch 4/30\n",
            "248/248 [==============================] - 89s 360ms/step - loss: 1.1401 - accuracy: 0.5612 - val_loss: 1.0601 - val_accuracy: 0.6095\n",
            "Epoch 5/30\n",
            "248/248 [==============================] - 94s 379ms/step - loss: 1.0529 - accuracy: 0.6044 - val_loss: 1.0021 - val_accuracy: 0.6233\n",
            "Epoch 6/30\n",
            "248/248 [==============================] - 89s 359ms/step - loss: 1.0053 - accuracy: 0.6206 - val_loss: 0.9611 - val_accuracy: 0.6390\n",
            "Epoch 7/30\n",
            "248/248 [==============================] - 89s 361ms/step - loss: 0.9501 - accuracy: 0.6523 - val_loss: 0.9290 - val_accuracy: 0.6555\n",
            "Epoch 8/30\n",
            "248/248 [==============================] - 90s 363ms/step - loss: 0.9087 - accuracy: 0.6690 - val_loss: 0.9095 - val_accuracy: 0.6658\n",
            "Epoch 9/30\n",
            "248/248 [==============================] - 90s 364ms/step - loss: 0.8993 - accuracy: 0.6668 - val_loss: 0.9013 - val_accuracy: 0.6684\n",
            "Epoch 10/30\n",
            "248/248 [==============================] - 90s 361ms/step - loss: 0.8691 - accuracy: 0.6801 - val_loss: 0.8877 - val_accuracy: 0.6746\n",
            "Epoch 11/30\n",
            "248/248 [==============================] - 89s 357ms/step - loss: 0.8525 - accuracy: 0.6920 - val_loss: 0.8756 - val_accuracy: 0.6767\n",
            "Epoch 12/30\n",
            "248/248 [==============================] - 89s 357ms/step - loss: 0.8257 - accuracy: 0.7013 - val_loss: 0.8657 - val_accuracy: 0.6867\n",
            "Epoch 13/30\n",
            "248/248 [==============================] - 88s 357ms/step - loss: 0.8045 - accuracy: 0.7064 - val_loss: 0.8687 - val_accuracy: 0.6793\n",
            "Epoch 14/30\n",
            "248/248 [==============================] - 89s 359ms/step - loss: 0.7799 - accuracy: 0.7234 - val_loss: 0.8659 - val_accuracy: 0.6793\n",
            "Epoch 15/30\n",
            "248/248 [==============================] - 89s 357ms/step - loss: 0.7649 - accuracy: 0.7200 - val_loss: 0.8627 - val_accuracy: 0.6844\n",
            "Epoch 16/30\n",
            "248/248 [==============================] - 89s 359ms/step - loss: 0.7631 - accuracy: 0.7292 - val_loss: 0.8551 - val_accuracy: 0.6864\n",
            "Epoch 17/30\n",
            "248/248 [==============================] - 89s 360ms/step - loss: 0.7229 - accuracy: 0.7435 - val_loss: 0.8552 - val_accuracy: 0.6920\n",
            "Epoch 18/30\n",
            "248/248 [==============================] - 89s 358ms/step - loss: 0.7246 - accuracy: 0.7488 - val_loss: 0.8478 - val_accuracy: 0.6914\n",
            "Epoch 19/30\n",
            "248/248 [==============================] - 89s 359ms/step - loss: 0.7152 - accuracy: 0.7445 - val_loss: 0.8508 - val_accuracy: 0.6844\n",
            "Epoch 20/30\n",
            "248/248 [==============================] - 89s 359ms/step - loss: 0.6920 - accuracy: 0.7563 - val_loss: 0.8493 - val_accuracy: 0.6917\n",
            "Epoch 21/30\n",
            "248/248 [==============================] - 89s 357ms/step - loss: 0.6863 - accuracy: 0.7622 - val_loss: 0.8440 - val_accuracy: 0.6976\n",
            "Epoch 22/30\n",
            "248/248 [==============================] - 89s 358ms/step - loss: 0.6837 - accuracy: 0.7549 - val_loss: 0.8442 - val_accuracy: 0.6967\n",
            "Epoch 23/30\n",
            "248/248 [==============================] - 89s 360ms/step - loss: 0.6583 - accuracy: 0.7674 - val_loss: 0.8500 - val_accuracy: 0.6944\n",
            "Epoch 24/30\n",
            "248/248 [==============================] - 89s 359ms/step - loss: 0.6522 - accuracy: 0.7794 - val_loss: 0.8498 - val_accuracy: 0.6964\n",
            "Epoch 25/30\n",
            "248/248 [==============================] - 89s 357ms/step - loss: 0.6465 - accuracy: 0.7761 - val_loss: 0.8634 - val_accuracy: 0.6967\n",
            "Epoch 26/30\n",
            "248/248 [==============================] - 89s 358ms/step - loss: 0.6253 - accuracy: 0.7903 - val_loss: 0.8527 - val_accuracy: 0.7011\n",
            "Epoch 27/30\n",
            "248/248 [==============================] - 89s 359ms/step - loss: 0.6188 - accuracy: 0.7848 - val_loss: 0.8549 - val_accuracy: 0.6994\n",
            "Epoch 28/30\n",
            "248/248 [==============================] - 89s 359ms/step - loss: 0.6073 - accuracy: 0.7971 - val_loss: 0.8489 - val_accuracy: 0.7006\n",
            "Epoch 29/30\n",
            "248/248 [==============================] - 89s 359ms/step - loss: 0.5979 - accuracy: 0.7948 - val_loss: 0.8490 - val_accuracy: 0.7006\n",
            "Epoch 30/30\n",
            "248/248 [==============================] - 89s 361ms/step - loss: 0.5822 - accuracy: 0.7926 - val_loss: 0.8591 - val_accuracy: 0.7026\n"
          ],
          "name": "stdout"
        }
      ]
    },
    {
      "cell_type": "code",
      "metadata": {
        "colab": {
          "base_uri": "https://localhost:8080/"
        },
        "id": "IEry7AhHGVvq",
        "outputId": "08ff724f-cf11-41d1-d848-d8c5dc530c20"
      },
      "source": [
        "predictions = model.predict(X_test_pad)\n",
        "predictions = np.argmax(predictions, axis=1)\n",
        "predictions = [class_names[pred] for pred in predictions]\n",
        "print(\"Accuracy: {:.4f}%\".format(accuracy_score(data_test.Emotion, predictions) * 100))\n",
        "print(\"\\nF1 Score: {:.4f}\".format(f1_score(data_test.Emotion, predictions, average='macro') * 100))\n",
        "print(\"\\nRecall Score: {:.4f}\".format(recall_score(data_test.Emotion, predictions, average='macro') * 100))\n",
        "print(\"\\nPrecision Score: {:.4f}\".format(precision_score(data_test.Emotion, predictions, average='macro') * 100))\n",
        "print(f1_score(data_test.Emotion, predictions, average=None) * 100)\n",
        "print(recall_score(data_test.Emotion, predictions, average=None) * 100)\n",
        "print(precision_score(data_test.Emotion, predictions, average=None) * 100)"
      ],
      "execution_count": null,
      "outputs": [
        {
          "output_type": "stream",
          "text": [
            "Accuracy: 70.2623%\n",
            "\n",
            "F1 Score: 70.2348\n",
            "\n",
            "Recall Score: 70.3733\n",
            "\n",
            "Precision Score: 70.3852\n",
            "[67.13581985 70.96774194 71.46932953 74.67057101 66.93037975]\n",
            "[68.83116883 69.66126657 70.86280057 79.93730408 62.5739645 ]\n",
            "[65.52197802 72.32415902 72.08633094 70.05494505 71.93877551]\n"
          ],
          "name": "stdout"
        }
      ]
    },
    {
      "cell_type": "code",
      "metadata": {
        "id": "6yhjb32_G-yh"
      },
      "source": [
        "# creates a HDF5 file 'my_model.h5'\n",
        "model.save('models/h1_LSTM_w2v.h5')"
      ],
      "execution_count": null,
      "outputs": []
    },
    {
      "cell_type": "code",
      "metadata": {
        "colab": {
          "base_uri": "https://localhost:8080/"
        },
        "id": "rFZiztynFjQO",
        "outputId": "542fce20-09be-4493-8320-4a01aec2df5d"
      },
      "source": [
        "import keras.backend\n",
        "from keras.models import Sequential\n",
        "from keras.layers import Dense, Conv1D, MaxPooling1D\n",
        "from keras.layers import Dropout, GlobalMaxPooling1D, BatchNormalization\n",
        "from keras.layers import Bidirectional\n",
        "from keras.layers.embeddings import Embedding\n",
        "from keras.optimizers import Nadam\n",
        "\n",
        "# Initate model\n",
        "model = Sequential()\n",
        "\n",
        "# Add Embedding layer\n",
        "model.add(embedd_layer)\n",
        "\n",
        "# Add Recurrent layer\n",
        "model.add(LSTM(60, return_sequences=True, name='lstm_layer'))\n",
        "model.add(MaxPooling1D(3))\n",
        "model.add(GlobalMaxPooling1D())\n",
        "model.add(BatchNormalization())\n",
        "\n",
        "# Add fully connected layers\n",
        "model.add(Dense(30, activation='relu'))\n",
        "model.add(Dropout(0.3))\n",
        "model.add(Dense(num_classes, activation='softmax'))\n",
        "\n",
        "# Summarize the model\n",
        "model.summary()"
      ],
      "execution_count": null,
      "outputs": [
        {
          "output_type": "stream",
          "text": [
            "Model: \"sequential_1\"\n",
            "_________________________________________________________________\n",
            "Layer (type)                 Output Shape              Param #   \n",
            "=================================================================\n",
            "embedding (Embedding)        (None, 500, 300)          3659700   \n",
            "_________________________________________________________________\n",
            "lstm_layer (LSTM)            (None, 500, 60)           86640     \n",
            "_________________________________________________________________\n",
            "max_pooling1d_1 (MaxPooling1 (None, 166, 60)           0         \n",
            "_________________________________________________________________\n",
            "global_max_pooling1d_1 (Glob (None, 60)                0         \n",
            "_________________________________________________________________\n",
            "batch_normalization_1 (Batch (None, 60)                240       \n",
            "_________________________________________________________________\n",
            "dense_2 (Dense)              (None, 30)                1830      \n",
            "_________________________________________________________________\n",
            "dropout_1 (Dropout)          (None, 30)                0         \n",
            "_________________________________________________________________\n",
            "dense_3 (Dense)              (None, 5)                 155       \n",
            "=================================================================\n",
            "Total params: 3,748,565\n",
            "Trainable params: 88,745\n",
            "Non-trainable params: 3,659,820\n",
            "_________________________________________________________________\n"
          ],
          "name": "stdout"
        }
      ]
    },
    {
      "cell_type": "code",
      "metadata": {
        "colab": {
          "base_uri": "https://localhost:8080/"
        },
        "id": "Ayke2OUIF9Mb",
        "outputId": "52c3a544-acbe-4ff7-9b14-04b50fcfca95"
      },
      "source": [
        "model.compile(loss = 'categorical_crossentropy', optimizer = Nadam(lr=0.0001, clipnorm=1.0), metrics = ['accuracy'])\n",
        "batch_size = 32\n",
        "epochs = 30\n",
        "\n",
        "hist = model.fit(X_train_pad, y_train, \n",
        "                 batch_size=batch_size,\n",
        "                 epochs=epochs,\n",
        "                 validation_data=(X_test_pad,y_test))"
      ],
      "execution_count": null,
      "outputs": [
        {
          "output_type": "stream",
          "text": [
            "Epoch 1/30\n",
            "248/248 [==============================] - 93s 364ms/step - loss: 1.6930 - accuracy: 0.2634 - val_loss: 1.5420 - val_accuracy: 0.3952\n",
            "Epoch 2/30\n",
            "248/248 [==============================] - 89s 361ms/step - loss: 1.4009 - accuracy: 0.3922 - val_loss: 1.3773 - val_accuracy: 0.4719\n",
            "Epoch 3/30\n",
            "248/248 [==============================] - 91s 366ms/step - loss: 1.3125 - accuracy: 0.4534 - val_loss: 1.2187 - val_accuracy: 0.5308\n",
            "Epoch 4/30\n",
            "248/248 [==============================] - 91s 365ms/step - loss: 1.1984 - accuracy: 0.5291 - val_loss: 1.1266 - val_accuracy: 0.5656\n",
            "Epoch 5/30\n",
            "248/248 [==============================] - 91s 367ms/step - loss: 1.1389 - accuracy: 0.5570 - val_loss: 1.0539 - val_accuracy: 0.5992\n",
            "Epoch 6/30\n",
            "248/248 [==============================] - 90s 363ms/step - loss: 1.0686 - accuracy: 0.5935 - val_loss: 1.0057 - val_accuracy: 0.6207\n",
            "Epoch 7/30\n",
            "248/248 [==============================] - 90s 364ms/step - loss: 1.0096 - accuracy: 0.6226 - val_loss: 0.9663 - val_accuracy: 0.6354\n",
            "Epoch 8/30\n",
            "248/248 [==============================] - 96s 386ms/step - loss: 0.9736 - accuracy: 0.6407 - val_loss: 0.9395 - val_accuracy: 0.6463\n",
            "Epoch 9/30\n",
            "248/248 [==============================] - 91s 367ms/step - loss: 0.9351 - accuracy: 0.6553 - val_loss: 0.9235 - val_accuracy: 0.6490\n",
            "Epoch 10/30\n",
            "248/248 [==============================] - 90s 362ms/step - loss: 0.8903 - accuracy: 0.6723 - val_loss: 0.9084 - val_accuracy: 0.6552\n",
            "Epoch 11/30\n",
            "248/248 [==============================] - 89s 361ms/step - loss: 0.8900 - accuracy: 0.6736 - val_loss: 0.8970 - val_accuracy: 0.6637\n",
            "Epoch 12/30\n",
            "248/248 [==============================] - 89s 361ms/step - loss: 0.8586 - accuracy: 0.6916 - val_loss: 0.8894 - val_accuracy: 0.6646\n",
            "Epoch 13/30\n",
            "248/248 [==============================] - 89s 360ms/step - loss: 0.8450 - accuracy: 0.6921 - val_loss: 0.8794 - val_accuracy: 0.6670\n",
            "Epoch 14/30\n",
            "248/248 [==============================] - 89s 360ms/step - loss: 0.8135 - accuracy: 0.7024 - val_loss: 0.8724 - val_accuracy: 0.6696\n",
            "Epoch 15/30\n",
            "248/248 [==============================] - 89s 359ms/step - loss: 0.8232 - accuracy: 0.7026 - val_loss: 0.8712 - val_accuracy: 0.6743\n",
            "Epoch 16/30\n",
            "248/248 [==============================] - 90s 363ms/step - loss: 0.8064 - accuracy: 0.7143 - val_loss: 0.8663 - val_accuracy: 0.6734\n",
            "Epoch 17/30\n",
            "248/248 [==============================] - 90s 364ms/step - loss: 0.7781 - accuracy: 0.7190 - val_loss: 0.8645 - val_accuracy: 0.6776\n",
            "Epoch 18/30\n",
            "248/248 [==============================] - 90s 363ms/step - loss: 0.7572 - accuracy: 0.7283 - val_loss: 0.8602 - val_accuracy: 0.6773\n",
            "Epoch 19/30\n",
            "248/248 [==============================] - 90s 363ms/step - loss: 0.7753 - accuracy: 0.7176 - val_loss: 0.8574 - val_accuracy: 0.6814\n",
            "Epoch 20/30\n",
            "248/248 [==============================] - 90s 362ms/step - loss: 0.7435 - accuracy: 0.7374 - val_loss: 0.8565 - val_accuracy: 0.6820\n",
            "Epoch 21/30\n",
            "248/248 [==============================] - 89s 360ms/step - loss: 0.7440 - accuracy: 0.7368 - val_loss: 0.8558 - val_accuracy: 0.6858\n",
            "Epoch 22/30\n",
            "248/248 [==============================] - 90s 362ms/step - loss: 0.7387 - accuracy: 0.7407 - val_loss: 0.8631 - val_accuracy: 0.6823\n",
            "Epoch 23/30\n",
            "248/248 [==============================] - 89s 361ms/step - loss: 0.6966 - accuracy: 0.7578 - val_loss: 0.8554 - val_accuracy: 0.6820\n",
            "Epoch 24/30\n",
            "248/248 [==============================] - 89s 360ms/step - loss: 0.6878 - accuracy: 0.7621 - val_loss: 0.8520 - val_accuracy: 0.6844\n",
            "Epoch 25/30\n",
            "248/248 [==============================] - 90s 361ms/step - loss: 0.6900 - accuracy: 0.7644 - val_loss: 0.8661 - val_accuracy: 0.6785\n",
            "Epoch 26/30\n",
            "248/248 [==============================] - 89s 360ms/step - loss: 0.6754 - accuracy: 0.7638 - val_loss: 0.8565 - val_accuracy: 0.6882\n",
            "Epoch 27/30\n",
            "248/248 [==============================] - 89s 359ms/step - loss: 0.6627 - accuracy: 0.7679 - val_loss: 0.8572 - val_accuracy: 0.6908\n",
            "Epoch 28/30\n",
            "248/248 [==============================] - 90s 361ms/step - loss: 0.6639 - accuracy: 0.7712 - val_loss: 0.8596 - val_accuracy: 0.6861\n",
            "Epoch 29/30\n",
            "248/248 [==============================] - 89s 359ms/step - loss: 0.6579 - accuracy: 0.7673 - val_loss: 0.8618 - val_accuracy: 0.6885\n",
            "Epoch 30/30\n",
            "248/248 [==============================] - 90s 362ms/step - loss: 0.6275 - accuracy: 0.7873 - val_loss: 0.8692 - val_accuracy: 0.6849\n"
          ],
          "name": "stdout"
        }
      ]
    },
    {
      "cell_type": "code",
      "metadata": {
        "colab": {
          "base_uri": "https://localhost:8080/"
        },
        "id": "4h6AdkPkGXol",
        "outputId": "e1530244-4ac7-4742-b427-62d0a3f49298"
      },
      "source": [
        "predictions = model.predict(X_test_pad)\n",
        "predictions = np.argmax(predictions, axis=1)\n",
        "predictions = [class_names[pred] for pred in predictions]\n",
        "print(\"Accuracy: {:.4f}%\".format(accuracy_score(data_test.Emotion, predictions) * 100))\n",
        "print(\"\\nF1 Score: {:.4f}\".format(f1_score(data_test.Emotion, predictions, average='macro') * 100))\n",
        "print(\"\\nRecall Score: {:.4f}\".format(recall_score(data_test.Emotion, predictions, average='macro') * 100))\n",
        "print(\"\\nPrecision Score: {:.4f}\".format(precision_score(data_test.Emotion, predictions, average='macro') * 100))\n",
        "print(f1_score(data_test.Emotion, predictions, average=None) * 100)\n",
        "print(recall_score(data_test.Emotion, predictions, average=None) * 100)\n",
        "print(precision_score(data_test.Emotion, predictions, average=None) * 100)"
      ],
      "execution_count": null,
      "outputs": [
        {
          "output_type": "stream",
          "text": [
            "Accuracy: 68.4940%\n",
            "\n",
            "F1 Score: 68.4794\n",
            "\n",
            "Recall Score: 68.6417\n",
            "\n",
            "Precision Score: 68.7546\n",
            "[64.45 71.4  67.85 73.26 65.43]\n",
            "[67.24 72.61 64.78 78.37 60.21]\n",
            "[61.89 70.23 71.23 68.78 71.65]\n"
          ],
          "name": "stdout"
        }
      ]
    },
    {
      "cell_type": "code",
      "metadata": {
        "id": "Gbz3UihBHB2O"
      },
      "source": [
        "# creates a HDF5 file 'my_model.h5'\n",
        "model.save('models/h2_LSTM_w2v.h5')"
      ],
      "execution_count": null,
      "outputs": []
    },
    {
      "cell_type": "code",
      "metadata": {
        "colab": {
          "base_uri": "https://localhost:8080/"
        },
        "id": "ntZGk3sOFi8u",
        "outputId": "43037f38-a444-4f3c-889d-a5a3eda1a6bf"
      },
      "source": [
        "import keras.backend\n",
        "from keras.models import Sequential\n",
        "from keras.layers import Dense, Conv1D, MaxPooling1D\n",
        "from keras.layers import Dropout, GlobalMaxPooling1D, BatchNormalization\n",
        "from keras.layers import Bidirectional\n",
        "from keras.layers.embeddings import Embedding\n",
        "from keras.optimizers import Nadam\n",
        "\n",
        "# Initate model\n",
        "model = Sequential()\n",
        "\n",
        "# Add Embedding layer\n",
        "model.add(embedd_layer)\n",
        "\n",
        "# Add Recurrent layer\n",
        "model.add(LSTM(60, return_sequences=True, name='lstm_layer'))\n",
        "model.add(MaxPooling1D(2))\n",
        "model.add(GlobalMaxPooling1D())\n",
        "model.add(BatchNormalization())\n",
        "\n",
        "# Add fully connected layers\n",
        "model.add(Dense(50, activation='relu'))\n",
        "model.add(Dropout(0.3))\n",
        "model.add(Dense(num_classes, activation='softmax'))\n",
        "\n",
        "# Summarize the model\n",
        "model.summary()"
      ],
      "execution_count": null,
      "outputs": [
        {
          "output_type": "stream",
          "text": [
            "Model: \"sequential\"\n",
            "_________________________________________________________________\n",
            "Layer (type)                 Output Shape              Param #   \n",
            "=================================================================\n",
            "embedding (Embedding)        (None, 500, 300)          3659700   \n",
            "_________________________________________________________________\n",
            "lstm_layer (LSTM)            (None, 500, 60)           86640     \n",
            "_________________________________________________________________\n",
            "max_pooling1d (MaxPooling1D) (None, 250, 60)           0         \n",
            "_________________________________________________________________\n",
            "global_max_pooling1d (Global (None, 60)                0         \n",
            "_________________________________________________________________\n",
            "batch_normalization (BatchNo (None, 60)                240       \n",
            "_________________________________________________________________\n",
            "dense (Dense)                (None, 50)                3050      \n",
            "_________________________________________________________________\n",
            "dropout (Dropout)            (None, 50)                0         \n",
            "_________________________________________________________________\n",
            "dense_1 (Dense)              (None, 5)                 255       \n",
            "=================================================================\n",
            "Total params: 3,749,885\n",
            "Trainable params: 90,065\n",
            "Non-trainable params: 3,659,820\n",
            "_________________________________________________________________\n"
          ],
          "name": "stdout"
        }
      ]
    },
    {
      "cell_type": "code",
      "metadata": {
        "colab": {
          "base_uri": "https://localhost:8080/"
        },
        "id": "cHGkchZbF_NV",
        "outputId": "69c49375-6015-44dd-948c-50161a2ee352"
      },
      "source": [
        "model.compile(loss = 'categorical_crossentropy', optimizer = Nadam(lr=0.0001, clipnorm=1.0), metrics = ['accuracy'])\n",
        "batch_size = 32\n",
        "epochs = 30\n",
        "\n",
        "hist = model.fit(X_train_pad, y_train, \n",
        "                 batch_size=batch_size,\n",
        "                 epochs=epochs,\n",
        "                 validation_data=(X_test_pad,y_test))"
      ],
      "execution_count": null,
      "outputs": [
        {
          "output_type": "stream",
          "text": [
            "Epoch 1/30\n",
            "248/248 [==============================] - 86s 332ms/step - loss: 1.6246 - accuracy: 0.2639 - val_loss: 1.5307 - val_accuracy: 0.4530\n",
            "Epoch 2/30\n",
            "248/248 [==============================] - 82s 331ms/step - loss: 1.3513 - accuracy: 0.4214 - val_loss: 1.3285 - val_accuracy: 0.5164\n",
            "Epoch 3/30\n",
            "248/248 [==============================] - 82s 331ms/step - loss: 1.1979 - accuracy: 0.5234 - val_loss: 1.1120 - val_accuracy: 0.5906\n",
            "Epoch 4/30\n",
            "248/248 [==============================] - 82s 332ms/step - loss: 1.0881 - accuracy: 0.5849 - val_loss: 0.9946 - val_accuracy: 0.6328\n",
            "Epoch 5/30\n",
            "248/248 [==============================] - 82s 329ms/step - loss: 0.9839 - accuracy: 0.6299 - val_loss: 0.9158 - val_accuracy: 0.6590\n",
            "Epoch 6/30\n",
            "248/248 [==============================] - 82s 330ms/step - loss: 0.8949 - accuracy: 0.6703 - val_loss: 0.8688 - val_accuracy: 0.6746\n",
            "Epoch 7/30\n",
            "248/248 [==============================] - 82s 331ms/step - loss: 0.8433 - accuracy: 0.6899 - val_loss: 0.8477 - val_accuracy: 0.6838\n",
            "Epoch 8/30\n",
            "248/248 [==============================] - 82s 331ms/step - loss: 0.8014 - accuracy: 0.7127 - val_loss: 0.8193 - val_accuracy: 0.6985\n",
            "Epoch 9/30\n",
            "248/248 [==============================] - 82s 329ms/step - loss: 0.7804 - accuracy: 0.7184 - val_loss: 0.8036 - val_accuracy: 0.7056\n",
            "Epoch 10/30\n",
            "248/248 [==============================] - 82s 329ms/step - loss: 0.7327 - accuracy: 0.7406 - val_loss: 0.7926 - val_accuracy: 0.7062\n",
            "Epoch 11/30\n",
            "248/248 [==============================] - 82s 330ms/step - loss: 0.7275 - accuracy: 0.7439 - val_loss: 0.7839 - val_accuracy: 0.7168\n",
            "Epoch 12/30\n",
            "248/248 [==============================] - 82s 330ms/step - loss: 0.7069 - accuracy: 0.7520 - val_loss: 0.7803 - val_accuracy: 0.7138\n",
            "Epoch 13/30\n",
            "248/248 [==============================] - 81s 328ms/step - loss: 0.6928 - accuracy: 0.7511 - val_loss: 0.7791 - val_accuracy: 0.7191\n",
            "Epoch 14/30\n",
            "248/248 [==============================] - 82s 330ms/step - loss: 0.6799 - accuracy: 0.7607 - val_loss: 0.7623 - val_accuracy: 0.7259\n",
            "Epoch 15/30\n",
            "248/248 [==============================] - 82s 330ms/step - loss: 0.6458 - accuracy: 0.7746 - val_loss: 0.7636 - val_accuracy: 0.7247\n",
            "Epoch 16/30\n",
            "248/248 [==============================] - 82s 330ms/step - loss: 0.6310 - accuracy: 0.7820 - val_loss: 0.7592 - val_accuracy: 0.7268\n",
            "Epoch 17/30\n",
            "248/248 [==============================] - 82s 329ms/step - loss: 0.6219 - accuracy: 0.7905 - val_loss: 0.7526 - val_accuracy: 0.7315\n",
            "Epoch 18/30\n",
            "248/248 [==============================] - 81s 328ms/step - loss: 0.5927 - accuracy: 0.7987 - val_loss: 0.7625 - val_accuracy: 0.7286\n",
            "Epoch 19/30\n",
            "248/248 [==============================] - 81s 328ms/step - loss: 0.5775 - accuracy: 0.8002 - val_loss: 0.7563 - val_accuracy: 0.7309\n",
            "Epoch 20/30\n",
            "248/248 [==============================] - 81s 327ms/step - loss: 0.5836 - accuracy: 0.8050 - val_loss: 0.7481 - val_accuracy: 0.7327\n",
            "Epoch 21/30\n",
            "248/248 [==============================] - 81s 329ms/step - loss: 0.5533 - accuracy: 0.8145 - val_loss: 0.7524 - val_accuracy: 0.7333\n",
            "Epoch 22/30\n",
            "248/248 [==============================] - 81s 327ms/step - loss: 0.5404 - accuracy: 0.8102 - val_loss: 0.7471 - val_accuracy: 0.7318\n",
            "Epoch 23/30\n",
            "248/248 [==============================] - 82s 329ms/step - loss: 0.5473 - accuracy: 0.8113 - val_loss: 0.7448 - val_accuracy: 0.7362\n",
            "Epoch 24/30\n",
            "248/248 [==============================] - 81s 328ms/step - loss: 0.5141 - accuracy: 0.8268 - val_loss: 0.7506 - val_accuracy: 0.7324\n",
            "Epoch 25/30\n",
            "248/248 [==============================] - 81s 328ms/step - loss: 0.5268 - accuracy: 0.8222 - val_loss: 0.7611 - val_accuracy: 0.7294\n",
            "Epoch 26/30\n",
            "248/248 [==============================] - 81s 328ms/step - loss: 0.4980 - accuracy: 0.8303 - val_loss: 0.7518 - val_accuracy: 0.7374\n",
            "Epoch 27/30\n",
            "248/248 [==============================] - 81s 328ms/step - loss: 0.5093 - accuracy: 0.8269 - val_loss: 0.7633 - val_accuracy: 0.7280\n",
            "Epoch 28/30\n",
            "248/248 [==============================] - 82s 329ms/step - loss: 0.4818 - accuracy: 0.8410 - val_loss: 0.7552 - val_accuracy: 0.7350\n",
            "Epoch 29/30\n",
            "248/248 [==============================] - 81s 328ms/step - loss: 0.4630 - accuracy: 0.8480 - val_loss: 0.7612 - val_accuracy: 0.7327\n",
            "Epoch 30/30\n",
            "248/248 [==============================] - 82s 330ms/step - loss: 0.4508 - accuracy: 0.8439 - val_loss: 0.7619 - val_accuracy: 0.7353\n"
          ],
          "name": "stdout"
        }
      ]
    },
    {
      "cell_type": "code",
      "metadata": {
        "colab": {
          "base_uri": "https://localhost:8080/"
        },
        "id": "WzlgaO0JGY5q",
        "outputId": "86dfb9c1-3317-40e7-95f5-eeeb82ba679e"
      },
      "source": [
        "predictions = model.predict(X_test_pad)\n",
        "predictions = np.argmax(predictions, axis=1)\n",
        "predictions = [class_names[pred] for pred in predictions]\n",
        "print(\"Accuracy: {:.4f}%\".format(accuracy_score(data_test.Emotion, predictions) * 100))\n",
        "print(\"\\nF1 Score: {:.4f}\".format(f1_score(data_test.Emotion, predictions, average='macro') * 100))\n",
        "print(\"\\nRecall Score: {:.4f}\".format(recall_score(data_test.Emotion, predictions, average='macro') * 100))\n",
        "print(\"\\nPrecision Score: {:.4f}\".format(precision_score(data_test.Emotion, predictions, average='macro') * 100))\n",
        "print(f1_score(data_test.Emotion, predictions, average=None) * 100)\n",
        "print(recall_score(data_test.Emotion, predictions, average=None) * 100)\n",
        "print(precision_score(data_test.Emotion, predictions, average=None) * 100)"
      ],
      "execution_count": null,
      "outputs": [
        {
          "output_type": "stream",
          "text": [
            "Accuracy: 73.5337%\n",
            "\n",
            "F1 Score: 73.5352\n",
            "\n",
            "Recall Score: 73.6174\n",
            "\n",
            "Precision Score: 73.6652\n",
            "[69.90707648 75.78947368 73.93225331 75.79908676 72.24806202]\n",
            "[70.56277056 79.5287187  71.00424328 78.05642633 68.93491124]\n",
            "[69.26345609 72.38605898 77.11213518 73.66863905 75.89576547]\n"
          ],
          "name": "stdout"
        }
      ]
    },
    {
      "cell_type": "code",
      "metadata": {
        "colab": {
          "base_uri": "https://localhost:8080/",
          "height": 573
        },
        "id": "OcRhMuYNGcCJ",
        "outputId": "48330028-a1c8-495f-eacd-d81f2624c3a5"
      },
      "source": [
        "#  \"Accuracy\"\n",
        "plt.plot(hist.history['accuracy'])\n",
        "plt.plot(hist.history['val_accuracy'])\n",
        "plt.title('model accuracy')\n",
        "plt.ylabel('accuracy')\n",
        "plt.xlabel('epoch')\n",
        "plt.legend(['train', 'test'], loc='upper left')\n",
        "plt.show()\n",
        "\n",
        "# \"Loss\"\n",
        "plt.plot(hist.history['loss'])\n",
        "plt.plot(hist.history['val_loss'])\n",
        "plt.title('model loss')\n",
        "plt.ylabel('loss')\n",
        "plt.xlabel('epoch')\n",
        "plt.legend(['train', 'test'], loc='upper left')\n",
        "plt.show()"
      ],
      "execution_count": null,
      "outputs": [
        {
          "output_type": "display_data",
          "data": {
            "image/png": "[encoded data removed]",
            "text/plain": [
              "<Figure size 432x288 with 1 Axes>"
            ]
          },
          "metadata": {
            "tags": [],
            "needs_background": "light"
          }
        },
        {
          "output_type": "display_data",
          "data": {
            "image/png": "[encoded data removed]",
            "text/plain": [
              "<Figure size 432x288 with 1 Axes>"
            ]
          },
          "metadata": {
            "tags": [],
            "needs_background": "light"
          }
        }
      ]
    },
    {
      "cell_type": "code",
      "metadata": {
        "id": "vDDmImrWHD-_"
      },
      "source": [
        "# creates a HDF5 file 'my_model.h5'\n",
        "model.save('models/h3_LSTM_w2v.h5')"
      ],
      "execution_count": null,
      "outputs": []
    },
    {
      "cell_type": "markdown",
      "metadata": {
        "id": "ozDm7ugHXp5y"
      },
      "source": [
        "## BERT\n",
        "\n",
        "Applying BERT to the problem of multiclass text classification. Our dataset consists of tweets labeled with one of the five emotion categories: joy, anger, sadness, fear, neutral. \n",
        "\n",
        "## Workflow: \n",
        "1. Import Data\n",
        "2. Data preprocessing and downloading BERT\n",
        "3. Training and validation\n",
        "4. Saving the model\n",
        "\n",
        "👋  **Let's start** "
      ]
    },
    {
      "cell_type": "code",
      "metadata": {
        "colab": {
          "base_uri": "https://localhost:8080/"
        },
        "id": "vpqDhgu89fE5",
        "outputId": "02351e2c-0c9e-4d63-cc9d-5acb89e7b3de"
      },
      "source": [
        "!nvidia-smi"
      ],
      "execution_count": null,
      "outputs": [
        {
          "output_type": "stream",
          "text": [
            "Mon May 17 13:00:22 2021       \n",
            "+-----------------------------------------------------------------------------+\n",
            "| NVIDIA-SMI 465.19.01    Driver Version: 460.32.03    CUDA Version: 11.2     |\n",
            "|-------------------------------+----------------------+----------------------+\n",
            "| GPU  Name        Persistence-M| Bus-Id        Disp.A | Volatile Uncorr. ECC |\n",
            "| Fan  Temp  Perf  Pwr:Usage/Cap|         Memory-Usage | GPU-Util  Compute M. |\n",
            "|                               |                      |               MIG M. |\n",
            "|===============================+======================+======================|\n",
            "|   0  Tesla K80           Off  | 00000000:00:04.0 Off |                    0 |\n",
            "| N/A   35C    P8    26W / 149W |      0MiB / 11441MiB |      0%      Default |\n",
            "|                               |                      |                  N/A |\n",
            "+-------------------------------+----------------------+----------------------+\n",
            "                                                                               \n",
            "+-----------------------------------------------------------------------------+\n",
            "| Processes:                                                                  |\n",
            "|  GPU   GI   CI        PID   Type   Process name                  GPU Memory |\n",
            "|        ID   ID                                                   Usage      |\n",
            "|=============================================================================|\n",
            "|  No running processes found                                                 |\n",
            "+-----------------------------------------------------------------------------+\n"
          ],
          "name": "stdout"
        }
      ]
    },
    {
      "cell_type": "code",
      "metadata": {
        "colab": {
          "base_uri": "https://localhost:8080/"
        },
        "id": "97Jm2or2Yigm",
        "outputId": "12133f54-3bca-4526-879d-bb94f70b82bd"
      },
      "source": [
        "!pip install --upgrade grpcio"
      ],
      "execution_count": null,
      "outputs": [
        {
          "output_type": "stream",
          "text": [
            "Collecting grpcio\n",
            "\u001b[?25l  Downloading https://files.pythonhosted.org/packages/31/d8/1bfe90cc49c166dd2ec1be46fa4830c254ce702004a110830c74ec1df0c0/grpcio-1.37.1-cp37-cp37m-manylinux2014_x86_64.whl (4.2MB)\n",
            "\u001b[K     |████████████████████████████████| 4.2MB 5.7MB/s \n",
            "\u001b[?25hRequirement already satisfied, skipping upgrade: six>=1.5.2 in /usr/local/lib/python3.7/dist-packages (from grpcio) (1.15.0)\n",
            "\u001b[31mERROR: tensorflow 2.4.1 has requirement grpcio~=1.32.0, but you'll have grpcio 1.37.1 which is incompatible.\u001b[0m\n",
            "Installing collected packages: grpcio\n",
            "  Found existing installation: grpcio 1.32.0\n",
            "    Uninstalling grpcio-1.32.0:\n",
            "      Successfully uninstalled grpcio-1.32.0\n",
            "Successfully installed grpcio-1.37.1\n"
          ],
          "name": "stdout"
        }
      ]
    },
    {
      "cell_type": "code",
      "metadata": {
        "colab": {
          "base_uri": "https://localhost:8080/"
        },
        "id": "QlXABLVXYz6w",
        "outputId": "c09914c5-00ce-4a87-ad01-9af7d6a84fde"
      },
      "source": [
        "!pip install tqdm"
      ],
      "execution_count": null,
      "outputs": [
        {
          "output_type": "stream",
          "text": [
            "Requirement already satisfied: tqdm in /usr/local/lib/python3.7/dist-packages (4.41.1)\n"
          ],
          "name": "stdout"
        }
      ]
    },
    {
      "cell_type": "code",
      "metadata": {
        "colab": {
          "base_uri": "https://localhost:8080/"
        },
        "id": "tHZFQVM7Y4hX",
        "outputId": "28e1a4c1-30e0-4ca8-e27b-316567bef9ff"
      },
      "source": [
        "!pip install bert-for-tf2"
      ],
      "execution_count": null,
      "outputs": [
        {
          "output_type": "stream",
          "text": [
            "Collecting bert-for-tf2\n",
            "\u001b[?25l  Downloading https://files.pythonhosted.org/packages/a5/a1/acb891630749c56901e770a34d6bac8a509a367dd74a05daf7306952e910/bert-for-tf2-0.14.9.tar.gz (41kB)\n",
            "\r\u001b[K     |████████                        | 10kB 20.2MB/s eta 0:00:01\r\u001b[K     |████████████████                | 20kB 24.9MB/s eta 0:00:01\r\u001b[K     |███████████████████████▉        | 30kB 24.6MB/s eta 0:00:01\r\u001b[K     |███████████████████████████████▉| 40kB 18.3MB/s eta 0:00:01\r\u001b[K     |████████████████████████████████| 51kB 5.3MB/s \n",
            "\u001b[?25hCollecting py-params>=0.9.6\n",
            "  Downloading https://files.pythonhosted.org/packages/aa/e0/4f663d8abf83c8084b75b995bd2ab3a9512ebc5b97206fde38cef906ab07/py-params-0.10.2.tar.gz\n",
            "Collecting params-flow>=0.8.0\n",
            "  Downloading https://files.pythonhosted.org/packages/a9/95/ff49f5ebd501f142a6f0aaf42bcfd1c192dc54909d1d9eb84ab031d46056/params-flow-0.8.2.tar.gz\n",
            "Requirement already satisfied: numpy in /usr/local/lib/python3.7/dist-packages (from params-flow>=0.8.0->bert-for-tf2) (1.19.5)\n",
            "Requirement already satisfied: tqdm in /usr/local/lib/python3.7/dist-packages (from params-flow>=0.8.0->bert-for-tf2) (4.41.1)\n",
            "Building wheels for collected packages: bert-for-tf2, py-params, params-flow\n",
            "  Building wheel for bert-for-tf2 (setup.py) ... \u001b[?25l\u001b[?25hdone\n",
            "  Created wheel for bert-for-tf2: filename=bert_for_tf2-0.14.9-cp37-none-any.whl size=30535 sha256=e1b8fbd14a0b6793318d9eb0e2c266e330ab6e6b69bda1e1133af98961bb2209\n",
            "  Stored in directory: /root/.cache/pip/wheels/a1/04/ee/347bd9f5b821b637c76411d280271a857aece00358896a230f\n",
            "  Building wheel for py-params (setup.py) ... \u001b[?25l\u001b[?25hdone\n",
            "  Created wheel for py-params: filename=py_params-0.10.2-cp37-none-any.whl size=7912 sha256=cdafd4c986d0193054a70db54bacc9e636f07923c047beb8789deb29db152878\n",
            "  Stored in directory: /root/.cache/pip/wheels/d0/4a/70/ff12450229ff1955abf01f365051d4faae1c20aef53ab4cf09\n",
            "  Building wheel for params-flow (setup.py) ... \u001b[?25l\u001b[?25hdone\n",
            "  Created wheel for params-flow: filename=params_flow-0.8.2-cp37-none-any.whl size=19472 sha256=5f89413afcba3c1e5c89a541d49f369d919f1052a6168a9cca4dcdb8a82507c3\n",
            "  Stored in directory: /root/.cache/pip/wheels/08/c8/7f/81c86b9ff2b86e2c477e3914175be03e679e596067dc630c06\n",
            "Successfully built bert-for-tf2 py-params params-flow\n",
            "Installing collected packages: py-params, params-flow, bert-for-tf2\n",
            "Successfully installed bert-for-tf2-0.14.9 params-flow-0.8.2 py-params-0.10.2\n"
          ],
          "name": "stdout"
        }
      ]
    },
    {
      "cell_type": "code",
      "metadata": {
        "colab": {
          "base_uri": "https://localhost:8080/"
        },
        "id": "EzSCui46Y9Rh",
        "outputId": "96cc1783-21df-4704-a795-5ca75440edc4"
      },
      "source": [
        "!pip install sentencepiece"
      ],
      "execution_count": null,
      "outputs": [
        {
          "output_type": "stream",
          "text": [
            "Collecting sentencepiece\n",
            "\u001b[?25l  Downloading https://files.pythonhosted.org/packages/f5/99/e0808cb947ba10f575839c43e8fafc9cc44e4a7a2c8f79c60db48220a577/sentencepiece-0.1.95-cp37-cp37m-manylinux2014_x86_64.whl (1.2MB)\n",
            "\u001b[K     |████████████████████████████████| 1.2MB 11.0MB/s \n",
            "\u001b[?25hInstalling collected packages: sentencepiece\n",
            "Successfully installed sentencepiece-0.1.95\n"
          ],
          "name": "stdout"
        }
      ]
    },
    {
      "cell_type": "code",
      "metadata": {
        "id": "E5jAfykA9e8i"
      },
      "source": [
        "import os\n",
        "import math\n",
        "import datetime\n",
        "\n",
        "from tqdm import tqdm\n",
        "\n",
        "import pandas as pd\n",
        "import numpy as np\n",
        "\n",
        "import tensorflow as tf\n",
        "from tensorflow import keras\n",
        "\n",
        "import bert\n",
        "from bert import BertModelLayer\n",
        "from bert.loader import StockBertConfig, map_stock_config_to_params, load_stock_weights\n",
        "from bert.tokenization.bert_tokenization import FullTokenizer\n",
        "\n",
        "import seaborn as sns\n",
        "from pylab import rcParams\n",
        "import matplotlib.pyplot as plt\n",
        "from matplotlib.ticker import MaxNLocator\n",
        "from matplotlib import rc\n",
        "\n",
        "from sklearn.metrics import confusion_matrix, classification_report\n",
        "\n",
        "%matplotlib inline\n",
        "\n",
        "RANDOM_SEED = 42\n",
        "\n",
        "np.random.seed(RANDOM_SEED)\n",
        "tf.random.set_seed(RANDOM_SEED)"
      ],
      "execution_count": null,
      "outputs": []
    },
    {
      "cell_type": "markdown",
      "metadata": {
        "id": "Ax1JYPHx9qS7"
      },
      "source": [
        "### 1. Import Data"
      ]
    },
    {
      "cell_type": "code",
      "metadata": {
        "id": "xdJObkPu9eyt"
      },
      "source": [
        "data_train = pd.read_csv('/content/drive/MyDrive/it809/data_train.csv', encoding='utf-8')\n",
        "data_test = pd.read_csv('/content/drive/MyDrive/it809/data_test.csv', encoding='utf-8')"
      ],
      "execution_count": null,
      "outputs": []
    },
    {
      "cell_type": "markdown",
      "metadata": {
        "id": "vPedS94OZp00"
      },
      "source": [
        "**Emotion Recognition with BERT**\n",
        "\n",
        "BERT is a pre-trained Transformer Encoder stack. It is trained on Wikipedia and the Book Corpus dataset. \n",
        "\n",
        "It has two versions - Base (12 encoders) and Large (24 encoders)."
      ]
    },
    {
      "cell_type": "code",
      "metadata": {
        "colab": {
          "base_uri": "https://localhost:8080/"
        },
        "id": "CRHSx2ZBZwG6",
        "outputId": "14e669f4-ee88-40ea-d03a-6a359d9031e8"
      },
      "source": [
        "# downloading one of the simpler pre-trained models\n",
        "!wget https://storage.googleapis.com/bert_models/2018_10_18/uncased_L-12_H-768_A-12.zip"
      ],
      "execution_count": null,
      "outputs": [
        {
          "output_type": "stream",
          "text": [
            "--2021-05-17 13:02:17--  https://storage.googleapis.com/bert_models/2018_10_18/uncased_L-12_H-768_A-12.zip\n",
            "Resolving storage.googleapis.com (storage.googleapis.com)... 64.233.166.128, 74.125.71.128, 64.233.184.128, ...\n",
            "Connecting to storage.googleapis.com (storage.googleapis.com)|64.233.166.128|:443... connected.\n",
            "HTTP request sent, awaiting response... 200 OK\n",
            "Length: 407727028 (389M) [application/zip]\n",
            "Saving to: ‘uncased_L-12_H-768_A-12.zip’\n",
            "\n",
            "uncased_L-12_H-768_ 100%[===================>] 388.84M   175MB/s    in 2.2s    \n",
            "\n",
            "2021-05-17 13:02:20 (175 MB/s) - ‘uncased_L-12_H-768_A-12.zip’ saved [407727028/407727028]\n",
            "\n"
          ],
          "name": "stdout"
        }
      ]
    },
    {
      "cell_type": "code",
      "metadata": {
        "colab": {
          "base_uri": "https://localhost:8080/"
        },
        "id": "sUfUszM1Z0WK",
        "outputId": "1b56f8cb-4d76-49e9-f584-cb78dd1f4d9e"
      },
      "source": [
        "# This will unzip a checkpoint, config, and vocabulary, along with other files.\n",
        "!unzip uncased_L-12_H-768_A-12.zip"
      ],
      "execution_count": null,
      "outputs": [
        {
          "output_type": "stream",
          "text": [
            "Archive:  uncased_L-12_H-768_A-12.zip\n",
            "   creating: uncased_L-12_H-768_A-12/\n",
            "  inflating: uncased_L-12_H-768_A-12/bert_model.ckpt.meta  \n",
            "  inflating: uncased_L-12_H-768_A-12/bert_model.ckpt.data-00000-of-00001  \n",
            "  inflating: uncased_L-12_H-768_A-12/vocab.txt  \n",
            "  inflating: uncased_L-12_H-768_A-12/bert_model.ckpt.index  \n",
            "  inflating: uncased_L-12_H-768_A-12/bert_config.json  \n"
          ],
          "name": "stdout"
        }
      ]
    },
    {
      "cell_type": "code",
      "metadata": {
        "id": "oL_XNUUnZ9df"
      },
      "source": [
        "os.makedirs(\"model\", exist_ok=True)"
      ],
      "execution_count": null,
      "outputs": []
    },
    {
      "cell_type": "code",
      "metadata": {
        "id": "k3sl1ycsaAbZ"
      },
      "source": [
        "!mv uncased_L-12_H-768_A-12/ model"
      ],
      "execution_count": null,
      "outputs": []
    },
    {
      "cell_type": "code",
      "metadata": {
        "id": "CiGXskrEaFx4"
      },
      "source": [
        "bert_model_name=\"uncased_L-12_H-768_A-12\"\n",
        "\n",
        "bert_ckpt_dir = os.path.join(\"model/\", bert_model_name)\n",
        "bert_ckpt_file = os.path.join(bert_ckpt_dir, \"bert_model.ckpt\")\n",
        "bert_config_file = os.path.join(bert_ckpt_dir, \"bert_config.json\")"
      ],
      "execution_count": null,
      "outputs": []
    },
    {
      "cell_type": "markdown",
      "metadata": {
        "id": "9sd8KWTKaLRk"
      },
      "source": [
        "#### Preprocessing"
      ]
    },
    {
      "cell_type": "code",
      "metadata": {
        "id": "wLDF9bFWaRSH"
      },
      "source": [
        "class EmotionDetectionData:\n",
        "  DATA_COLUMN = \"Text\"\n",
        "  LABEL_COLUMN = \"Emotion\"\n",
        "\n",
        "  def __init__(self, train, test, tokenizer: FullTokenizer, classes, max_seq_len=152):\n",
        "    self.tokenizer = tokenizer\n",
        "    self.max_seq_len = 0\n",
        "    self.classes = classes\n",
        "    \n",
        "    ((self.train_x, self.train_y), (self.test_x, self.test_y)) = map(self._prepare, [train, test])\n",
        "\n",
        "    print(\"max seq_len\", self.max_seq_len)\n",
        "    self.max_seq_len = min(self.max_seq_len, max_seq_len)\n",
        "    self.train_x, self.test_x = map(self._pad, [self.train_x, self.test_x])\n",
        "\n",
        "  def _prepare(self, df):\n",
        "    x, y = [], []\n",
        "    \n",
        "    for _, row in tqdm(df.iterrows()):\n",
        "      text, label = row[EmotionDetectionData.DATA_COLUMN], row[EmotionDetectionData.LABEL_COLUMN]\n",
        "      tokens = self.tokenizer.tokenize(text)\n",
        "      tokens = [\"[CLS]\"] + tokens + [\"[SEP]\"]\n",
        "      token_ids = self.tokenizer.convert_tokens_to_ids(tokens)\n",
        "      self.max_seq_len = max(self.max_seq_len, len(token_ids))\n",
        "      x.append(token_ids)\n",
        "      y.append(self.classes.index(label))\n",
        "\n",
        "    return np.array(x), np.array(y)\n",
        "\n",
        "  def _pad(self, ids):\n",
        "    x = []\n",
        "    for input_ids in ids:\n",
        "      input_ids = input_ids[:min(len(input_ids), self.max_seq_len - 2)]\n",
        "      input_ids = input_ids + [0] * (self.max_seq_len - len(input_ids))\n",
        "      x.append(np.array(input_ids))\n",
        "    return np.array(x)"
      ],
      "execution_count": null,
      "outputs": []
    },
    {
      "cell_type": "markdown",
      "metadata": {
        "id": "U6U-RYY_axDt"
      },
      "source": [
        "We need to convert the raw texts into vectors that we can feed into our model. We’ll go through 3 steps:\n",
        "\n",
        "Tokenize the text\n",
        "- Convert the sequence of tokens into numbers\n",
        "- Pad the sequences so each one has the same length\n",
        "- Let’s start by creating the BERT tokenizer:"
      ]
    },
    {
      "cell_type": "code",
      "metadata": {
        "id": "d_3HUSzAatf8"
      },
      "source": [
        "tokenizer = FullTokenizer(vocab_file=os.path.join(bert_ckpt_dir, \"vocab.txt\"))"
      ],
      "execution_count": null,
      "outputs": []
    },
    {
      "cell_type": "code",
      "metadata": {
        "colab": {
          "base_uri": "https://localhost:8080/"
        },
        "id": "WjjNEDbjbBq_",
        "outputId": "6516ecce-1ccd-40ac-dc62-7d345f7cbd4d"
      },
      "source": [
        "tokenizer.tokenize(\"I can't wait to visit Bulgaria again!\")"
      ],
      "execution_count": null,
      "outputs": [
        {
          "output_type": "execute_result",
          "data": {
            "text/plain": [
              "['i', 'can', \"'\", 't', 'wait', 'to', 'visit', 'bulgaria', 'again', '!']"
            ]
          },
          "metadata": {
            "tags": []
          },
          "execution_count": 16
        }
      ]
    },
    {
      "cell_type": "code",
      "metadata": {
        "colab": {
          "base_uri": "https://localhost:8080/"
        },
        "id": "cEMvaoqkbBTq",
        "outputId": "e794a186-4945-402c-83a5-03259c73b825"
      },
      "source": [
        "# Convert the sequence of tokens into numbers\n",
        "tokens = tokenizer.tokenize(\"I can't wait to visit Bulgaria again!\")\n",
        "tokenizer.convert_tokens_to_ids(tokens)"
      ],
      "execution_count": null,
      "outputs": [
        {
          "output_type": "execute_result",
          "data": {
            "text/plain": [
              "[1045, 2064, 1005, 1056, 3524, 2000, 3942, 8063, 2153, 999]"
            ]
          },
          "metadata": {
            "tags": []
          },
          "execution_count": 17
        }
      ]
    },
    {
      "cell_type": "code",
      "metadata": {
        "id": "AvI6kiKObPE2"
      },
      "source": [
        "def create_model(max_seq_len, bert_ckpt_file):\n",
        "\n",
        "  with tf.io.gfile.GFile(bert_config_file, \"r\") as reader:\n",
        "      bc = StockBertConfig.from_json_string(reader.read())\n",
        "      bert_params = map_stock_config_to_params(bc)\n",
        "      bert_params.adapter_size = None\n",
        "      bert = BertModelLayer.from_params(bert_params, name=\"bert\")\n",
        "        \n",
        "  input_ids = keras.layers.Input(shape=(max_seq_len, ), dtype='int32', name=\"input_ids\")\n",
        "  bert_output = bert(input_ids)\n",
        "\n",
        "  print(\"bert shape\", bert_output.shape)\n",
        "\n",
        "  cls_out = keras.layers.Lambda(lambda seq: seq[:, 0, :])(bert_output)\n",
        "  cls_out = keras.layers.Dropout(0.5)(cls_out)\n",
        "  logits = keras.layers.Dense(units=768, activation=\"tanh\")(cls_out)\n",
        "  logits = keras.layers.Dropout(0.5)(logits)\n",
        "  logits = keras.layers.Dense(units=len(classes), activation=\"softmax\")(logits)\n",
        "\n",
        "  model = keras.Model(inputs=input_ids, outputs=logits)\n",
        "  model.build(input_shape=(None, max_seq_len))\n",
        "\n",
        "  load_stock_weights(bert, bert_ckpt_file)\n",
        "        \n",
        "  return model"
      ],
      "execution_count": null,
      "outputs": []
    },
    {
      "cell_type": "markdown",
      "metadata": {
        "id": "lw0BbPN5bXua"
      },
      "source": [
        "### Training"
      ]
    },
    {
      "cell_type": "code",
      "metadata": {
        "colab": {
          "base_uri": "https://localhost:8080/"
        },
        "id": "xcyt4PThbXR2",
        "outputId": "d77b2e20-cdb5-4e12-818c-5af5474c3448"
      },
      "source": [
        "classes = data_train.Emotion.unique().tolist()\n",
        "print (\"\\nOur classes are: \", classes)\n",
        "\n",
        "# We’ll start by creating the data object\n",
        "data = EmotionDetectionData(data_train, data_test, tokenizer, classes, max_seq_len=128)"
      ],
      "execution_count": null,
      "outputs": [
        {
          "output_type": "stream",
          "text": [
            "182it [00:00, 1818.22it/s]"
          ],
          "name": "stderr"
        },
        {
          "output_type": "stream",
          "text": [
            "\n",
            "Our classes are:  ['neutral', 'sadness', 'fear', 'anger', 'joy']\n"
          ],
          "name": "stdout"
        },
        {
          "output_type": "stream",
          "text": [
            "7934it [00:04, 1939.66it/s]\n",
            "/usr/local/lib/python3.7/dist-packages/ipykernel_launcher.py:28: VisibleDeprecationWarning: Creating an ndarray from ragged nested sequences (which is a list-or-tuple of lists-or-tuples-or ndarrays with different lengths or shapes) is deprecated. If you meant to do this, you must specify 'dtype=object' when creating the ndarray\n",
            "3393it [00:01, 2005.55it/s]\n"
          ],
          "name": "stderr"
        },
        {
          "output_type": "stream",
          "text": [
            "max seq_len 277\n"
          ],
          "name": "stdout"
        }
      ]
    },
    {
      "cell_type": "code",
      "metadata": {
        "colab": {
          "base_uri": "https://localhost:8080/"
        },
        "id": "-AAwUoYHcB1f",
        "outputId": "65dda009-1cf7-4d31-bac7-529bdbecbc67"
      },
      "source": [
        "data.train_x.shape"
      ],
      "execution_count": null,
      "outputs": [
        {
          "output_type": "execute_result",
          "data": {
            "text/plain": [
              "(7934, 128)"
            ]
          },
          "metadata": {
            "tags": []
          },
          "execution_count": 21
        }
      ]
    },
    {
      "cell_type": "code",
      "metadata": {
        "colab": {
          "base_uri": "https://localhost:8080/"
        },
        "id": "g2eOWhnacLsH",
        "outputId": "e09228b5-e44a-4be7-bf22-0e91121b3777"
      },
      "source": [
        "data.train_x[0]"
      ],
      "execution_count": null,
      "outputs": [
        {
          "output_type": "execute_result",
          "data": {
            "text/plain": [
              "array([ 101, 2045, 2024, 6197, 1997, 2060, 5265, 2008, 1045, 2228, 2024,\n",
              "       2488, 1012,  102,    0,    0,    0,    0,    0,    0,    0,    0,\n",
              "          0,    0,    0,    0,    0,    0,    0,    0,    0,    0,    0,\n",
              "          0,    0,    0,    0,    0,    0,    0,    0,    0,    0,    0,\n",
              "          0,    0,    0,    0,    0,    0,    0,    0,    0,    0,    0,\n",
              "          0,    0,    0,    0,    0,    0,    0,    0,    0,    0,    0,\n",
              "          0,    0,    0,    0,    0,    0,    0,    0,    0,    0,    0,\n",
              "          0,    0,    0,    0,    0,    0,    0,    0,    0,    0,    0,\n",
              "          0,    0,    0,    0,    0,    0,    0,    0,    0,    0,    0,\n",
              "          0,    0,    0,    0,    0,    0,    0,    0,    0,    0,    0,\n",
              "          0,    0,    0,    0,    0,    0,    0,    0,    0,    0,    0,\n",
              "          0,    0,    0,    0,    0,    0,    0])"
            ]
          },
          "metadata": {
            "tags": []
          },
          "execution_count": 22
        }
      ]
    },
    {
      "cell_type": "code",
      "metadata": {
        "colab": {
          "base_uri": "https://localhost:8080/"
        },
        "id": "VxRiV2D2cP6J",
        "outputId": "97ae67c3-caaa-45d4-80f7-4fba1e350f6f"
      },
      "source": [
        "data.train_y[0]"
      ],
      "execution_count": null,
      "outputs": [
        {
          "output_type": "execute_result",
          "data": {
            "text/plain": [
              "0"
            ]
          },
          "metadata": {
            "tags": []
          },
          "execution_count": 54
        }
      ]
    },
    {
      "cell_type": "code",
      "metadata": {
        "colab": {
          "base_uri": "https://localhost:8080/"
        },
        "id": "FSKVeuXwcYTD",
        "outputId": "cb67ba87-641c-43e1-b34b-0951ec3870bf"
      },
      "source": [
        "data.max_seq_len"
      ],
      "execution_count": null,
      "outputs": [
        {
          "output_type": "execute_result",
          "data": {
            "text/plain": [
              "128"
            ]
          },
          "metadata": {
            "tags": []
          },
          "execution_count": 55
        }
      ]
    },
    {
      "cell_type": "code",
      "metadata": {
        "colab": {
          "base_uri": "https://localhost:8080/"
        },
        "id": "sKB60Hg1cefj",
        "outputId": "9f76133e-5b35-4b33-cd10-e42e742450c8"
      },
      "source": [
        "# We can now create the model using the maximum sequence length\n",
        "model = create_model(data.max_seq_len, bert_ckpt_file)"
      ],
      "execution_count": null,
      "outputs": [
        {
          "output_type": "stream",
          "text": [
            "bert shape (None, 128, 768)\n",
            "Done loading 196 BERT weights from: model/uncased_L-12_H-768_A-12/bert_model.ckpt into <bert.model.BertModelLayer object at 0x7fdb21020510> (prefix:bert). Count of weights not found in the checkpoint was: [0]. Count of weights with mismatched shape: [0]\n",
            "Unused weights from checkpoint: \n",
            "\tbert/embeddings/token_type_embeddings\n",
            "\tbert/pooler/dense/bias\n",
            "\tbert/pooler/dense/kernel\n",
            "\tcls/predictions/output_bias\n",
            "\tcls/predictions/transform/LayerNorm/beta\n",
            "\tcls/predictions/transform/LayerNorm/gamma\n",
            "\tcls/predictions/transform/dense/bias\n",
            "\tcls/predictions/transform/dense/kernel\n",
            "\tcls/seq_relationship/output_bias\n",
            "\tcls/seq_relationship/output_weights\n"
          ],
          "name": "stdout"
        }
      ]
    },
    {
      "cell_type": "code",
      "metadata": {
        "colab": {
          "base_uri": "https://localhost:8080/"
        },
        "id": "CREimM86ckTR",
        "outputId": "e594cedd-5b7c-4c59-9a43-0b8253919e17"
      },
      "source": [
        "model.summary()"
      ],
      "execution_count": null,
      "outputs": [
        {
          "output_type": "stream",
          "text": [
            "Model: \"model\"\n",
            "_________________________________________________________________\n",
            "Layer (type)                 Output Shape              Param #   \n",
            "=================================================================\n",
            "input_ids (InputLayer)       [(None, 128)]             0         \n",
            "_________________________________________________________________\n",
            "bert (BertModelLayer)        (None, 128, 768)          108890112 \n",
            "_________________________________________________________________\n",
            "lambda (Lambda)              (None, 768)               0         \n",
            "_________________________________________________________________\n",
            "dropout (Dropout)            (None, 768)               0         \n",
            "_________________________________________________________________\n",
            "dense (Dense)                (None, 768)               590592    \n",
            "_________________________________________________________________\n",
            "dropout_1 (Dropout)          (None, 768)               0         \n",
            "_________________________________________________________________\n",
            "dense_1 (Dense)              (None, 5)                 3845      \n",
            "=================================================================\n",
            "Total params: 109,484,549\n",
            "Trainable params: 109,484,549\n",
            "Non-trainable params: 0\n",
            "_________________________________________________________________\n"
          ],
          "name": "stdout"
        }
      ]
    },
    {
      "cell_type": "markdown",
      "metadata": {
        "id": "KgxEcV2zcyCG"
      },
      "source": [
        "You’ll notice that even this “slim” BERT has almost 110 million parameters.\n",
        "Fine-tuning models like BERT is both art and doing tons of failed experiments. Fortunately, the authors made some recommendations:\n",
        "\n",
        "- Batch size: 16, 32\n",
        "- Learning rate (Adam): 5e-5, 3e-5, 2e-5\n",
        "- Number of epochs: 2, 3, 4"
      ]
    },
    {
      "cell_type": "code",
      "metadata": {
        "id": "cwMtonCZcqeQ"
      },
      "source": [
        "# We’ll use Adam with a slightly different learning rate\n",
        "# Use sparse categorical crossentropy, so we don’t have to one-hot encode our labels.\n",
        "model.compile(\n",
        "  optimizer=keras.optimizers.Adam(1e-5),\n",
        "  loss=keras.losses.SparseCategoricalCrossentropy(from_logits=True),\n",
        "  metrics=[keras.metrics.SparseCategoricalAccuracy(name=\"acc\")]\n",
        ")"
      ],
      "execution_count": null,
      "outputs": []
    },
    {
      "cell_type": "code",
      "metadata": {
        "colab": {
          "base_uri": "https://localhost:8080/"
        },
        "id": "RmHmwYSQc5df",
        "outputId": "a215db25-81e6-4e48-bbe7-351bf9dc14e5"
      },
      "source": [
        "history = model.fit(\n",
        "  x=data.train_x, \n",
        "  y=data.train_y,\n",
        "  validation_data=(data.test_x,data.test_y),\n",
        "  batch_size=16,\n",
        "  shuffle=True,\n",
        "  epochs=5\n",
        ")"
      ],
      "execution_count": null,
      "outputs": [
        {
          "output_type": "stream",
          "text": [
            "Epoch 1/5\n",
            "496/496 [==============================] - 608s 1s/step - loss: 1.5971 - acc: 0.2989 - val_loss: 0.7238 - val_acc: 0.7536\n",
            "Epoch 2/5\n",
            "496/496 [==============================] - 581s 1s/step - loss: 0.7180 - acc: 0.7566 - val_loss: 0.5748 - val_acc: 0.8040\n",
            "Epoch 3/5\n",
            "496/496 [==============================] - 581s 1s/step - loss: 0.4797 - acc: 0.8367 - val_loss: 0.5706 - val_acc: 0.8108\n",
            "Epoch 4/5\n",
            "496/496 [==============================] - 579s 1s/step - loss: 0.3689 - acc: 0.8880 - val_loss: 0.5959 - val_acc: 0.8158\n",
            "Epoch 5/5\n",
            "496/496 [==============================] - 581s 1s/step - loss: 0.2529 - acc: 0.9211 - val_loss: 0.6559 - val_acc: 0.8158\n"
          ],
          "name": "stdout"
        }
      ]
    },
    {
      "cell_type": "markdown",
      "metadata": {
        "id": "kiGz3HIBeSQr"
      },
      "source": [
        "#### Evaluate"
      ]
    },
    {
      "cell_type": "code",
      "metadata": {
        "colab": {
          "base_uri": "https://localhost:8080/",
          "height": 573
        },
        "id": "xGhl0hIkcnDg",
        "outputId": "b99880e1-2745-467b-c917-b597a2da0b96"
      },
      "source": [
        "#  \"Accuracy\"\n",
        "plt.plot(history.history['acc'])\n",
        "plt.plot(history.history['val_acc'])\n",
        "plt.title('model accuracy')\n",
        "plt.ylabel('accuracy')\n",
        "plt.xlabel('epoch')\n",
        "plt.legend(['train', 'test'], loc='upper left')\n",
        "plt.show()\n",
        "\n",
        "# \"Loss\"\n",
        "plt.plot(history.history['loss'])\n",
        "plt.plot(history.history['val_loss'])\n",
        "plt.title('model loss')\n",
        "plt.ylabel('loss')\n",
        "plt.xlabel('epoch')\n",
        "plt.legend(['train', 'test'], loc='upper left')\n",
        "plt.show()"
      ],
      "execution_count": null,
      "outputs": [
        {
          "output_type": "display_data",
          "data": {
            "image/png": "[encoded data removed]",
            "text/plain": [
              "<Figure size 432x288 with 1 Axes>"
            ]
          },
          "metadata": {
            "tags": [],
            "needs_background": "light"
          }
        },
        {
          "output_type": "display_data",
          "data": {
            "image/png": "[encoded data removed]",
            "text/plain": [
              "<Figure size 432x288 with 1 Axes>"
            ]
          },
          "metadata": {
            "tags": [],
            "needs_background": "light"
          }
        }
      ]
    },
    {
      "cell_type": "code",
      "metadata": {
        "colab": {
          "base_uri": "https://localhost:8080/"
        },
        "id": "eNairijEdFZL",
        "outputId": "ed79526a-0ceb-4885-ab33-8294f4d1926a"
      },
      "source": [
        "_, train_acc = model.evaluate(data.train_x, data.train_y)\n",
        "_, test_acc = model.evaluate(data.test_x, data.test_y)\n",
        "\n",
        "print(\"train acc\", train_acc)\n",
        "print(\"test acc\", test_acc)"
      ],
      "execution_count": null,
      "outputs": [
        {
          "output_type": "stream",
          "text": [
            "248/248 [==============================] - 138s 555ms/step - loss: 0.1167 - acc: 0.9658\n",
            "107/107 [==============================] - 59s 548ms/step - loss: 0.6559 - acc: 0.8158\n",
            "train acc 0.9658432006835938\n",
            "test acc 0.8157972097396851\n"
          ],
          "name": "stdout"
        }
      ]
    },
    {
      "cell_type": "code",
      "metadata": {
        "id": "LpZhKuMnewig"
      },
      "source": [
        "y_pred = model.predict(data.test_x).argmax(axis=-1)"
      ],
      "execution_count": null,
      "outputs": []
    },
    {
      "cell_type": "code",
      "metadata": {
        "colab": {
          "base_uri": "https://localhost:8080/"
        },
        "id": "KhTVp9oLezZw",
        "outputId": "c1cc04f2-66f5-416c-b645-2d536a7a1a4d"
      },
      "source": [
        "##need to run once more\n",
        "print(classification_report(data.test_y, y_pred, target_names=classes, digits = 5))"
      ],
      "execution_count": null,
      "outputs": [
        {
          "output_type": "stream",
          "text": [
            "              precision    recall  f1-score   support\n",
            "\n",
            "     neutral    0.75068   0.86834   0.80523       638\n",
            "     sadness    0.81790   0.78402   0.80060       676\n",
            "        fear    0.86626   0.83947   0.85266       679\n",
            "       anger    0.79111   0.77056   0.78070       693\n",
            "         joy    0.86053   0.82037   0.83997       707\n",
            "\n",
            "    accuracy                        0.81580      3393\n",
            "   macro avg    0.81730   0.81655   0.81583      3393\n",
            "weighted avg    0.81835   0.81580   0.81603      3393\n",
            "\n"
          ],
          "name": "stdout"
        }
      ]
    },
    {
      "cell_type": "code",
      "metadata": {
        "id": "HtaWDr1PeKgE"
      },
      "source": [
        "def plot_confusion_matrix(y_true, y_pred, classes,\n",
        "                          normalize=False,\n",
        "                          title=None,\n",
        "                          cmap=plt.cm.Blues):\n",
        "    '''\n",
        "    This function prints and plots the confusion matrix.\n",
        "    Normalization can be applied by setting `normalize=True`.\n",
        "    '''\n",
        "    if not title:\n",
        "        if normalize:\n",
        "            title = 'Normalized confusion matrix'\n",
        "        else:\n",
        "            title = 'Confusion matrix, without normalization'\n",
        "\n",
        "    # Compute confusion matrix\n",
        "    cm = confusion_matrix(y_true, y_pred)\n",
        "\n",
        "    if normalize:\n",
        "        cm = cm.astype('float') / cm.sum(axis=1)[:, np.newaxis]\n",
        "\n",
        "    fig, ax = plt.subplots()\n",
        "    \n",
        "    # Set size\n",
        "    fig.set_size_inches(12.5, 7.5)\n",
        "    im = ax.imshow(cm, interpolation='nearest', cmap=cmap)\n",
        "    ax.figure.colorbar(im, ax=ax)\n",
        "    ax.grid(False)\n",
        "    \n",
        "    # We want to show all ticks...\n",
        "    ax.set(xticks=np.arange(cm.shape[1]),\n",
        "           yticks=np.arange(cm.shape[0]),\n",
        "           # ... and label them with the respective list entries\n",
        "           xticklabels=classes, yticklabels=classes,\n",
        "           title=title,\n",
        "           ylabel='True label',\n",
        "           xlabel='Predicted label')\n",
        "\n",
        "    # Rotate the tick labels and set their alignment.\n",
        "    plt.setp(ax.get_xticklabels(), rotation=45, ha=\"right\",\n",
        "             rotation_mode=\"anchor\")\n",
        "\n",
        "    # Loop over data dimensions and create text annotations.\n",
        "    fmt = '.2f' if normalize else 'd'\n",
        "    thresh = cm.max() / 2.\n",
        "    for i in range(cm.shape[0]):\n",
        "        for j in range(cm.shape[1]):\n",
        "            ax.text(j, i, format(cm[i, j], fmt),\n",
        "                    ha=\"center\", va=\"center\",\n",
        "                    color=\"white\" if cm[i, j] > thresh else \"black\")\n",
        "    fig.tight_layout()\n",
        "    return ax"
      ],
      "execution_count": null,
      "outputs": []
    },
    {
      "cell_type": "code",
      "metadata": {
        "colab": {
          "base_uri": "https://localhost:8080/",
          "height": 1000
        },
        "id": "Gya5tFgleVB6",
        "outputId": "dd4b55bd-5d04-4f19-f3a5-bf12f567c984"
      },
      "source": [
        "np.set_printoptions(precision=2)\n",
        "\n",
        "# Plot non-normalized confusion matrix\n",
        "plot_confusion_matrix(data.test_y, y_pred, classes=classes,\n",
        "                      title='Confusion matrix, without normalization')\n",
        "\n",
        "# Plot normalized confusion matrix\n",
        "plot_confusion_matrix(data.test_y, y_pred, classes=classes, normalize=True,\n",
        "                      title='Normalized confusion matrix')\n",
        "\n",
        "plt.show()"
      ],
      "execution_count": null,
      "outputs": [
        {
          "output_type": "display_data",
          "data": {
            "image/png": "[encoded data removed]",
            "text/plain": [
              "<Figure size 900x540 with 2 Axes>"
            ]
          },
          "metadata": {
            "tags": [],
            "needs_background": "light"
          }
        },
        {
          "output_type": "display_data",
          "data": {
            "image/png": "[encoded data removed]",
            "text/plain": [
              "<Figure size 900x540 with 2 Axes>"
            ]
          },
          "metadata": {
            "tags": [],
            "needs_background": "light"
          }
        }
      ]
    },
    {
      "cell_type": "code",
      "metadata": {
        "colab": {
          "base_uri": "https://localhost:8080/"
        },
        "id": "xaqwNYyGe_RV",
        "outputId": "dafad7fd-8e4a-4d2f-d1ee-9e74695ada2f"
      },
      "source": [
        "import time\n",
        "sentences = [\"I lost my job!\"]\n",
        "\n",
        "pred_tokens = map(tokenizer.tokenize, sentences)\n",
        "pred_tokens = map(lambda tok: [\"[CLS]\"] + tok + [\"[SEP]\"], pred_tokens)\n",
        "pred_token_ids = list(map(tokenizer.convert_tokens_to_ids, pred_tokens))\n",
        "\n",
        "pred_token_ids = map(lambda tids: tids +[0]*(data.max_seq_len-len(tids)),pred_token_ids)\n",
        "pred_token_ids = np.array(list(pred_token_ids))\n",
        "start_time = time.time()\n",
        "predictions = model.predict(pred_token_ids).argmax(axis=-1)\n",
        "\n",
        "\n",
        "for text, label in zip(sentences, predictions):\n",
        "  print('Message: ' + text)\n",
        "  print('predicted: {} ({:.2f} seconds)'.format(classes[label], (time.time() - start_time)))  "
      ],
      "execution_count": null,
      "outputs": [
        {
          "output_type": "stream",
          "text": [
            "Message: I lost my job!\n",
            "predicted: anger (0.11 seconds)\n"
          ],
          "name": "stdout"
        }
      ]
    },
    {
      "cell_type": "code",
      "metadata": {
        "id": "2tCJA2WbAhfL",
        "colab": {
          "base_uri": "https://localhost:8080/"
        },
        "outputId": "d3d48113-0df0-4922-ded4-f556363b0d1f"
      },
      "source": [
        "# let's save the predictor for later use\n",
        "model.save(\"models/bert_model\")"
      ],
      "execution_count": null,
      "outputs": [
        {
          "output_type": "stream",
          "text": [
            "WARNING:tensorflow:Skipping full serialization of Keras layer <tensorflow.python.keras.layers.embeddings.Embedding object at 0x7f82339be910>, because it is not built.\n",
            "INFO:tensorflow:Assets written to: models/bert_model/assets\n"
          ],
          "name": "stdout"
        }
      ]
    },
    {
      "cell_type": "markdown",
      "metadata": {
        "id": "t0Iik65Gdi-D"
      },
      "source": [
        "### Hyperparameter tuning"
      ]
    },
    {
      "cell_type": "code",
      "metadata": {
        "id": "go4Rx95sdpKG"
      },
      "source": [
        "# We’ll use Adam with a slightly different learning rate\n",
        "# Use sparse categorical crossentropy, so we don’t have to one-hot encode our labels.\n",
        "model.compile(\n",
        "  optimizer=keras.optimizers.Adam(1e-5),\n",
        "  loss=keras.losses.SparseCategoricalCrossentropy(from_logits=True),\n",
        "  metrics=[keras.metrics.SparseCategoricalAccuracy(name=\"acc\")]\n",
        ")"
      ],
      "execution_count": null,
      "outputs": []
    },
    {
      "cell_type": "code",
      "metadata": {
        "colab": {
          "base_uri": "https://localhost:8080/"
        },
        "id": "gZTo7NEYdoyk",
        "outputId": "0c987821-bd56-430e-80e2-6268ec0fdaef"
      },
      "source": [
        "history = model.fit(\n",
        "  x=data.train_x, \n",
        "  y=data.train_y,\n",
        "  validation_data=(data.test_x,data.test_y),\n",
        "  batch_size=32,\n",
        "  shuffle=True,\n",
        "  epochs=5\n",
        ")"
      ],
      "execution_count": null,
      "outputs": [
        {
          "output_type": "stream",
          "text": [
            "Epoch 1/5\n",
            "248/248 [==============================] - 516s 2s/step - loss: 1.5796 - acc: 0.3152 - val_loss: 0.7519 - val_acc: 0.7283\n",
            "Epoch 2/5\n",
            "248/248 [==============================] - 497s 2s/step - loss: 0.7504 - acc: 0.7383 - val_loss: 0.6133 - val_acc: 0.7943\n",
            "Epoch 3/5\n",
            "248/248 [==============================] - 498s 2s/step - loss: 0.5284 - acc: 0.8216 - val_loss: 0.5505 - val_acc: 0.8131\n",
            "Epoch 4/5\n",
            "248/248 [==============================] - 496s 2s/step - loss: 0.4256 - acc: 0.8633 - val_loss: 0.5904 - val_acc: 0.8131\n",
            "Epoch 5/5\n",
            "248/248 [==============================] - 494s 2s/step - loss: 0.3285 - acc: 0.8936 - val_loss: 0.6352 - val_acc: 0.8187\n"
          ],
          "name": "stdout"
        }
      ]
    },
    {
      "cell_type": "code",
      "metadata": {
        "colab": {
          "base_uri": "https://localhost:8080/",
          "height": 573
        },
        "id": "empEGO82iKNh",
        "outputId": "44fd73c7-623f-41fa-f762-54bd6e1c01a0"
      },
      "source": [
        "#  \"Accuracy\"\n",
        "plt.plot(history.history['acc'])\n",
        "plt.plot(history.history['val_acc'])\n",
        "plt.title('model accuracy')\n",
        "plt.ylabel('accuracy')\n",
        "plt.xlabel('epoch')\n",
        "plt.legend(['train', 'test'], loc='upper left')\n",
        "plt.show()\n",
        "\n",
        "# \"Loss\"\n",
        "plt.plot(history.history['loss'])\n",
        "plt.plot(history.history['val_loss'])\n",
        "plt.title('model loss')\n",
        "plt.ylabel('loss')\n",
        "plt.xlabel('epoch')\n",
        "plt.legend(['train', 'test'], loc='upper left')\n",
        "plt.show()"
      ],
      "execution_count": null,
      "outputs": [
        {
          "output_type": "display_data",
          "data": {
            "image/png": "[encoded data removed]",
            "text/plain": [
              "<Figure size 432x288 with 1 Axes>"
            ]
          },
          "metadata": {
            "tags": [],
            "needs_background": "light"
          }
        },
        {
          "output_type": "display_data",
          "data": {
            "image/png": "[encoded data removed]",
            "text/plain": [
              "<Figure size 432x288 with 1 Axes>"
            ]
          },
          "metadata": {
            "tags": [],
            "needs_background": "light"
          }
        }
      ]
    },
    {
      "cell_type": "code",
      "metadata": {
        "id": "HHEO5_W_doKV"
      },
      "source": [
        "y_pred = model.predict(data.test_x).argmax(axis=-1)"
      ],
      "execution_count": null,
      "outputs": []
    },
    {
      "cell_type": "code",
      "metadata": {
        "colab": {
          "base_uri": "https://localhost:8080/"
        },
        "id": "6Ih507B_luMU",
        "outputId": "7f536b9f-f106-4758-8168-9dc79d698a34"
      },
      "source": [
        "print(classification_report(data.test_y, y_pred, target_names=classes, digits = 5))"
      ],
      "execution_count": null,
      "outputs": [
        {
          "output_type": "stream",
          "text": [
            "              precision    recall  f1-score   support\n",
            "\n",
            "     neutral    0.77279   0.83699   0.80361       638\n",
            "     sadness    0.81623   0.78846   0.80211       676\n",
            "        fear    0.84827   0.86451   0.85631       679\n",
            "       anger    0.79240   0.78211   0.78722       693\n",
            "         joy    0.86478   0.82320   0.84348       707\n",
            "\n",
            "    accuracy                        0.81874      3393\n",
            "   macro avg    0.81889   0.81905   0.81854      3393\n",
            "weighted avg    0.81972   0.81874   0.81882      3393\n",
            "\n"
          ],
          "name": "stdout"
        }
      ]
    },
    {
      "cell_type": "code",
      "metadata": {
        "colab": {
          "base_uri": "https://localhost:8080/",
          "height": 1000
        },
        "id": "8yw8RPQGiQaL",
        "outputId": "c26820ce-5a43-482d-d59c-b441b28c64c7"
      },
      "source": [
        "np.set_printoptions(precision=2)\n",
        "\n",
        "# Plot non-normalized confusion matrix\n",
        "plot_confusion_matrix(data.test_y, y_pred, classes=classes,\n",
        "                      title='Confusion matrix, without normalization')\n",
        "\n",
        "# Plot normalized confusion matrix\n",
        "plot_confusion_matrix(data.test_y, y_pred, classes=classes, normalize=True,\n",
        "                      title='Normalized confusion matrix')\n",
        "\n",
        "plt.show()"
      ],
      "execution_count": null,
      "outputs": [
        {
          "output_type": "display_data",
          "data": {
            "image/png": "[encoded data removed]",
            "text/plain": [
              "<Figure size 900x540 with 2 Axes>"
            ]
          },
          "metadata": {
            "tags": [],
            "needs_background": "light"
          }
        },
        {
          "output_type": "display_data",
          "data": {
            "image/png": "[encoded data removed]",
            "text/plain": [
              "<Figure size 900x540 with 2 Axes>"
            ]
          },
          "metadata": {
            "tags": [],
            "needs_background": "light"
          }
        }
      ]
    },
    {
      "cell_type": "code",
      "metadata": {
        "id": "TLZ4Y2gCIfIO"
      },
      "source": [
        "# We’ll use Adam with a slightly different learning rate\n",
        "# Use sparse categorical crossentropy, so we don’t have to one-hot encode our labels.\n",
        "model.compile(\n",
        "  optimizer=keras.optimizers.Adam(2e-5),\n",
        "  loss=keras.losses.SparseCategoricalCrossentropy(from_logits=True),\n",
        "  metrics=[keras.metrics.SparseCategoricalAccuracy(name=\"acc\")]\n",
        ")"
      ],
      "execution_count": null,
      "outputs": []
    },
    {
      "cell_type": "code",
      "metadata": {
        "colab": {
          "base_uri": "https://localhost:8080/"
        },
        "id": "gIaCpNk0Ie6U",
        "outputId": "e59e6d1d-c419-4af2-cec9-1504910640a3"
      },
      "source": [
        "history = model.fit(\n",
        "  x=data.train_x, \n",
        "  y=data.train_y,\n",
        "  validation_data=(data.test_x,data.test_y),\n",
        "  batch_size=32,\n",
        "  shuffle=True,\n",
        "  epochs=5\n",
        ")"
      ],
      "execution_count": null,
      "outputs": [
        {
          "output_type": "stream",
          "text": [
            "Epoch 1/5\n",
            "248/248 [==============================] - 523s 2s/step - loss: 1.3868 - acc: 0.4352 - val_loss: 0.6142 - val_acc: 0.7778\n",
            "Epoch 2/5\n",
            "248/248 [==============================] - 499s 2s/step - loss: 0.5666 - acc: 0.8113 - val_loss: 0.5457 - val_acc: 0.8114\n",
            "Epoch 3/5\n",
            "248/248 [==============================] - 500s 2s/step - loss: 0.3681 - acc: 0.8768 - val_loss: 0.5737 - val_acc: 0.8093\n",
            "Epoch 4/5\n",
            "248/248 [==============================] - 503s 2s/step - loss: 0.2675 - acc: 0.9150 - val_loss: 0.6933 - val_acc: 0.8158\n",
            "Epoch 5/5\n",
            "248/248 [==============================] - 503s 2s/step - loss: 0.1701 - acc: 0.9489 - val_loss: 0.7440 - val_acc: 0.8167\n"
          ],
          "name": "stdout"
        }
      ]
    },
    {
      "cell_type": "code",
      "metadata": {
        "colab": {
          "base_uri": "https://localhost:8080/"
        },
        "id": "VZCXKMidI4RA",
        "outputId": "149f78ee-43da-461e-f6d2-00c73c93213a"
      },
      "source": [
        "y_pred = model.predict(data.test_x).argmax(axis=-1)\n",
        "print(classification_report(data.test_y, y_pred, target_names=classes, digits = 5))"
      ],
      "execution_count": null,
      "outputs": [
        {
          "output_type": "stream",
          "text": [
            "              precision    recall  f1-score   support\n",
            "\n",
            "     neutral    0.74595   0.86520   0.80116       638\n",
            "     sadness    0.83845   0.76775   0.80154       676\n",
            "        fear    0.88069   0.82622   0.85258       679\n",
            "       anger    0.77841   0.79076   0.78454       693\n",
            "         joy    0.85281   0.83593   0.84429       707\n",
            "\n",
            "    accuracy                        0.81668      3393\n",
            "   macro avg    0.81926   0.81717   0.81682      3393\n",
            "weighted avg    0.82024   0.81668   0.81712      3393\n",
            "\n"
          ],
          "name": "stdout"
        }
      ]
    },
    {
      "cell_type": "code",
      "metadata": {
        "id": "3pC9srIgnrnR"
      },
      "source": [
        "# We’ll use Adam with a slightly different learning rate\n",
        "# Use sparse categorical crossentropy, so we don’t have to one-hot encode our labels.\n",
        "model.compile(\n",
        "  optimizer=keras.optimizers.Adam(2e-5),\n",
        "  loss=keras.losses.SparseCategoricalCrossentropy(from_logits=True),\n",
        "  metrics=[keras.metrics.SparseCategoricalAccuracy(name=\"acc\")]\n",
        ")"
      ],
      "execution_count": null,
      "outputs": []
    },
    {
      "cell_type": "code",
      "metadata": {
        "colab": {
          "base_uri": "https://localhost:8080/"
        },
        "id": "EJThFhBVnrQL",
        "outputId": "61ecf0c9-6ec0-4c08-e451-ff5f170ff95a"
      },
      "source": [
        "history = model.fit(\n",
        "  x=data.train_x, \n",
        "  y=data.train_y,\n",
        "  validation_data=(data.test_x,data.test_y),\n",
        "  batch_size=16,\n",
        "  shuffle=True,\n",
        "  epochs=5\n",
        ")"
      ],
      "execution_count": null,
      "outputs": [
        {
          "output_type": "stream",
          "text": [
            "Epoch 1/5\n",
            "496/496 [==============================] - 608s 1s/step - loss: 1.3533 - acc: 0.4498 - val_loss: 0.6155 - val_acc: 0.7849\n",
            "Epoch 2/5\n",
            "496/496 [==============================] - 585s 1s/step - loss: 0.5503 - acc: 0.8163 - val_loss: 0.6224 - val_acc: 0.8014\n",
            "Epoch 3/5\n",
            "496/496 [==============================] - 586s 1s/step - loss: 0.3489 - acc: 0.8827 - val_loss: 0.6069 - val_acc: 0.8128\n",
            "Epoch 4/5\n",
            "496/496 [==============================] - 586s 1s/step - loss: 0.2336 - acc: 0.9292 - val_loss: 0.7635 - val_acc: 0.8102\n",
            "Epoch 5/5\n",
            "496/496 [==============================] - 586s 1s/step - loss: 0.1600 - acc: 0.9512 - val_loss: 0.8407 - val_acc: 0.8111\n"
          ],
          "name": "stdout"
        }
      ]
    },
    {
      "cell_type": "code",
      "metadata": {
        "colab": {
          "base_uri": "https://localhost:8080/"
        },
        "id": "unxZ0n7GnqsR",
        "outputId": "5ad5e363-55d2-45c4-b040-b6350b42564c"
      },
      "source": [
        "y_pred = model.predict(data.test_x).argmax(axis=-1)\n",
        "print(classification_report(data.test_y, y_pred, target_names=classes, digits = 5))"
      ],
      "execution_count": null,
      "outputs": [
        {
          "output_type": "stream",
          "text": [
            "              precision    recall  f1-score   support\n",
            "\n",
            "     neutral    0.72266   0.86991   0.78947       638\n",
            "     sadness    0.82857   0.77219   0.79939       676\n",
            "        fear    0.86983   0.83652   0.85285       679\n",
            "       anger    0.79604   0.75469   0.77481       693\n",
            "         joy    0.85255   0.82603   0.83908       707\n",
            "\n",
            "    accuracy                        0.81108      3393\n",
            "   macro avg    0.81393   0.81187   0.81112      3393\n",
            "weighted avg    0.81527   0.81108   0.81147      3393\n",
            "\n"
          ],
          "name": "stdout"
        }
      ]
    },
    {
      "cell_type": "code",
      "metadata": {
        "id": "COSJAmsmrcM7"
      },
      "source": [
        "# We’ll use Adam with a slightly different learning rate\n",
        "# Use sparse categorical crossentropy, so we don’t have to one-hot encode our labels.\n",
        "model.compile(\n",
        "  optimizer=keras.optimizers.Adam(5e-5),\n",
        "  loss=keras.losses.SparseCategoricalCrossentropy(from_logits=True),\n",
        "  metrics=[keras.metrics.SparseCategoricalAccuracy(name=\"acc\")]\n",
        ")"
      ],
      "execution_count": null,
      "outputs": []
    },
    {
      "cell_type": "code",
      "metadata": {
        "colab": {
          "base_uri": "https://localhost:8080/"
        },
        "id": "s9G-j0rZrk6r",
        "outputId": "22635bfc-361e-4171-f7fb-2a1e56e57e69"
      },
      "source": [
        "history = model.fit(\n",
        "  x=data.train_x, \n",
        "  y=data.train_y,\n",
        "  validation_data=(data.test_x,data.test_y),\n",
        "  batch_size=32,\n",
        "  shuffle=True,\n",
        "  epochs=5\n",
        ")"
      ],
      "execution_count": null,
      "outputs": [
        {
          "output_type": "stream",
          "text": [
            "Epoch 1/5\n",
            "248/248 [==============================] - 499s 2s/step - loss: 1.3813 - acc: 0.4155 - val_loss: 0.6758 - val_acc: 0.7669\n",
            "Epoch 2/5\n",
            "248/248 [==============================] - 473s 2s/step - loss: 0.5090 - acc: 0.8271 - val_loss: 0.5885 - val_acc: 0.8149\n",
            "Epoch 3/5\n",
            "248/248 [==============================] - 474s 2s/step - loss: 0.2880 - acc: 0.9099 - val_loss: 0.6296 - val_acc: 0.8084\n",
            "Epoch 4/5\n",
            "248/248 [==============================] - 474s 2s/step - loss: 0.1669 - acc: 0.9502 - val_loss: 0.8847 - val_acc: 0.8075\n",
            "Epoch 5/5\n",
            "248/248 [==============================] - 472s 2s/step - loss: 0.1228 - acc: 0.9643 - val_loss: 0.9237 - val_acc: 0.7987\n"
          ],
          "name": "stdout"
        }
      ]
    },
    {
      "cell_type": "code",
      "metadata": {
        "colab": {
          "base_uri": "https://localhost:8080/"
        },
        "id": "1AjRPLVxsJvD",
        "outputId": "d29cbaab-8f07-4e2a-ba24-6fa2ef855d08"
      },
      "source": [
        "y_pred = model.predict(data.test_x).argmax(axis=-1)\n",
        "print(classification_report(data.test_y, y_pred, target_names=classes, digits = 5))"
      ],
      "execution_count": null,
      "outputs": [
        {
          "output_type": "stream",
          "text": [
            "              precision    recall  f1-score   support\n",
            "\n",
            "     neutral    0.75362   0.81505   0.78313       638\n",
            "     sadness    0.70702   0.86391   0.77763       676\n",
            "        fear    0.88394   0.81885   0.85015       679\n",
            "       anger    0.79560   0.73016   0.76147       693\n",
            "         joy    0.88889   0.76945   0.82487       707\n",
            "\n",
            "    accuracy                        0.79870      3393\n",
            "   macro avg    0.80581   0.79948   0.79945      3393\n",
            "weighted avg    0.80718   0.79870   0.79972      3393\n",
            "\n"
          ],
          "name": "stdout"
        }
      ]
    },
    {
      "cell_type": "code",
      "metadata": {
        "id": "idWSKrMto1_b"
      },
      "source": [
        "# We’ll use Adam with a slightly different learning rate\n",
        "# Use sparse categorical crossentropy, so we don’t have to one-hot encode our labels.\n",
        "model.compile(\n",
        "  optimizer=keras.optimizers.Adam(3e-5),\n",
        "  loss=keras.losses.SparseCategoricalCrossentropy(from_logits=True),\n",
        "  metrics=[keras.metrics.SparseCategoricalAccuracy(name=\"acc\")]\n",
        ")"
      ],
      "execution_count": null,
      "outputs": []
    },
    {
      "cell_type": "code",
      "metadata": {
        "colab": {
          "base_uri": "https://localhost:8080/"
        },
        "id": "XjfTEXMko7vD",
        "outputId": "a59a492b-8dd3-49b0-a2d4-c310a83a1c5c"
      },
      "source": [
        "history = model.fit(\n",
        "  x=data.train_x, \n",
        "  y=data.train_y,\n",
        "  validation_data=(data.test_x,data.test_y),\n",
        "  batch_size=32,\n",
        "  shuffle=True,\n",
        "  epochs=5\n",
        ")"
      ],
      "execution_count": null,
      "outputs": [
        {
          "output_type": "stream",
          "text": [
            "Epoch 1/5\n",
            "248/248 [==============================] - 496s 2s/step - loss: 1.3208 - acc: 0.4693 - val_loss: 0.5999 - val_acc: 0.7793\n",
            "Epoch 2/5\n",
            "248/248 [==============================] - 472s 2s/step - loss: 0.5219 - acc: 0.8287 - val_loss: 0.5482 - val_acc: 0.8134\n",
            "Epoch 3/5\n",
            "248/248 [==============================] - 474s 2s/step - loss: 0.3165 - acc: 0.8968 - val_loss: 0.6176 - val_acc: 0.8155\n",
            "Epoch 4/5\n",
            "248/248 [==============================] - 473s 2s/step - loss: 0.2012 - acc: 0.9361 - val_loss: 0.7233 - val_acc: 0.8146\n",
            "Epoch 5/5\n",
            "248/248 [==============================] - 470s 2s/step - loss: 0.1328 - acc: 0.9605 - val_loss: 0.8051 - val_acc: 0.8170\n"
          ],
          "name": "stdout"
        }
      ]
    },
    {
      "cell_type": "code",
      "metadata": {
        "colab": {
          "base_uri": "https://localhost:8080/"
        },
        "id": "QAZGn_MSo_U9",
        "outputId": "388fdab5-c7d4-4ac3-d64b-22ed6bc11e6a"
      },
      "source": [
        "y_pred = model.predict(data.test_x).argmax(axis=-1)\n",
        "print(classification_report(data.test_y, y_pred, target_names=classes, digits = 5))"
      ],
      "execution_count": null,
      "outputs": [
        {
          "output_type": "stream",
          "text": [
            "              precision    recall  f1-score   support\n",
            "\n",
            "     neutral    0.76177   0.86207   0.80882       638\n",
            "     sadness    0.85057   0.76627   0.80623       676\n",
            "        fear    0.86039   0.83505   0.84753       679\n",
            "       anger    0.77051   0.79942   0.78470       693\n",
            "         joy    0.85234   0.82461   0.83825       707\n",
            "\n",
            "    accuracy                        0.81698      3393\n",
            "   macro avg    0.81912   0.81749   0.81711      3393\n",
            "weighted avg    0.81986   0.81698   0.81726      3393\n",
            "\n"
          ],
          "name": "stdout"
        }
      ]
    }
  ]
}